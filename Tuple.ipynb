{
 "cells": [
  {
   "cell_type": "code",
   "execution_count": 1,
   "id": "b43dddda-8273-4f2b-8e62-2461ea7f8a71",
   "metadata": {},
   "outputs": [],
   "source": [
    "b=()"
   ]
  },
  {
   "cell_type": "code",
   "execution_count": 4,
   "id": "1a726196-b6d7-46b9-af53-c6ce614546d7",
   "metadata": {},
   "outputs": [],
   "source": [
    "tup = ()\n"
   ]
  },
  {
   "cell_type": "code",
   "execution_count": 5,
   "id": "16f1f1a7-85ff-4233-9df9-ebb11102317f",
   "metadata": {},
   "outputs": [],
   "source": [
    "c= tuple()"
   ]
  },
  {
   "cell_type": "code",
   "execution_count": 6,
   "id": "88b7a2b4-2eac-4d43-8b7f-b8a2e3e359ce",
   "metadata": {},
   "outputs": [
    {
     "data": {
      "text/plain": [
       "tuple"
      ]
     },
     "execution_count": 6,
     "metadata": {},
     "output_type": "execute_result"
    }
   ],
   "source": [
    "type(tup)"
   ]
  },
  {
   "cell_type": "code",
   "execution_count": 8,
   "id": "11bc06c2-1a48-4efc-bddc-0d24d4f87bdd",
   "metadata": {},
   "outputs": [
    {
     "data": {
      "text/plain": [
       "12"
      ]
     },
     "execution_count": 8,
     "metadata": {},
     "output_type": "execute_result"
    }
   ],
   "source": [
    "tup2=(4,5,2,3,4,5,6,'wow',[1,4,7,4],{43,45},{'sk','smk','RP'},(12,445))\n",
    "len(tup2)"
   ]
  },
  {
   "cell_type": "code",
   "execution_count": 14,
   "id": "814ea53c-0364-40e7-9508-77de1f525ba6",
   "metadata": {},
   "outputs": [
    {
     "data": {
      "text/plain": [
       "7"
      ]
     },
     "execution_count": 14,
     "metadata": {},
     "output_type": "execute_result"
    }
   ],
   "source": [
    "b=(1,2,3,\"Sohan\",[4,5,8,'10'],(289,332),'ok')\n",
    "len(b)"
   ]
  },
  {
   "cell_type": "code",
   "execution_count": 15,
   "id": "39995091-5c24-46d0-9971-441578f590b4",
   "metadata": {},
   "outputs": [
    {
     "data": {
      "text/plain": [
       "8"
      ]
     },
     "execution_count": 15,
     "metadata": {},
     "output_type": "execute_result"
    }
   ],
   "source": [
    "b[4][2]"
   ]
  },
  {
   "cell_type": "code",
   "execution_count": 16,
   "id": "bf3ba264-757f-433f-a562-d74cd155b8a0",
   "metadata": {},
   "outputs": [
    {
     "name": "stdout",
     "output_type": "stream",
     "text": [
      "(1, 2, 3, 'Sohan', [4, 5, 8, 'new'], (289, 332), 'ok')\n"
     ]
    }
   ],
   "source": [
    "b[4][3]='new'\n",
    "print(b)"
   ]
  },
  {
   "cell_type": "code",
   "execution_count": 17,
   "id": "4c745b3c-abb8-4c44-94ea-c50909376035",
   "metadata": {},
   "outputs": [
    {
     "ename": "TypeError",
     "evalue": "'tuple' object does not support item assignment",
     "output_type": "error",
     "traceback": [
      "\u001b[1;31m---------------------------------------------------------------------------\u001b[0m",
      "\u001b[1;31mTypeError\u001b[0m                                 Traceback (most recent call last)",
      "Cell \u001b[1;32mIn[17], line 1\u001b[0m\n\u001b[1;32m----> 1\u001b[0m b[\u001b[38;5;241m3\u001b[39m]\u001b[38;5;241m=\u001b[39m\u001b[38;5;124m\"\u001b[39m\u001b[38;5;124mSriya\u001b[39m\u001b[38;5;124m\"\u001b[39m\n\u001b[0;32m      2\u001b[0m \u001b[38;5;28mprint\u001b[39m(b)\n",
      "\u001b[1;31mTypeError\u001b[0m: 'tuple' object does not support item assignment"
     ]
    }
   ],
   "source": [
    "b[3]=\"Sriya\"\n",
    "print(b)"
   ]
  },
  {
   "cell_type": "code",
   "execution_count": 85,
   "id": "beb9c4c3-62f1-4e2d-8a39-5df36c6c764f",
   "metadata": {},
   "outputs": [
    {
     "name": "stdout",
     "output_type": "stream",
     "text": [
      "[289, 332]\n"
     ]
    }
   ],
   "source": [
    "t=list(b[5])\n",
    "print(t)"
   ]
  },
  {
   "cell_type": "code",
   "execution_count": null,
   "id": "bb8ebf97-b7ca-44c3-923a-9835d12f5204",
   "metadata": {},
   "outputs": [],
   "source": []
  },
  {
   "cell_type": "code",
   "execution_count": 86,
   "id": "e88408b3-bd24-4c0a-b671-c965352a55a0",
   "metadata": {},
   "outputs": [
    {
     "name": "stdout",
     "output_type": "stream",
     "text": [
      "['28', 332]\n"
     ]
    }
   ],
   "source": [
    "t[0]='28'\n",
    "print(new)"
   ]
  },
  {
   "cell_type": "code",
   "execution_count": 87,
   "id": "0e18ff59-e87c-41fb-8fa4-9c3010b6ca8c",
   "metadata": {},
   "outputs": [
    {
     "name": "stdout",
     "output_type": "stream",
     "text": [
      "('28', 332)\n"
     ]
    }
   ],
   "source": [
    "c=tuple(t)\n",
    "print(c)"
   ]
  },
  {
   "cell_type": "code",
   "execution_count": 89,
   "id": "1f4cd6a9-6a53-45a4-ada9-dc040129c85a",
   "metadata": {},
   "outputs": [
    {
     "name": "stdout",
     "output_type": "stream",
     "text": [
      "(1, 2, 3, 'Sohan', [4, 5, 8, 'new'], ('28', 332), 'ok')\n"
     ]
    }
   ],
   "source": [
    "new2=b[:5]+(c,)+b[6:]\n",
    "print(new2)"
   ]
  },
  {
   "cell_type": "code",
   "execution_count": 90,
   "id": "030888ff-b0a0-4fd9-a8bd-001bfb68b5a6",
   "metadata": {},
   "outputs": [
    {
     "data": {
      "text/plain": [
       "[12, 23, 32, 45]"
      ]
     },
     "execution_count": 90,
     "metadata": {},
     "output_type": "execute_result"
    }
   ],
   "source": [
    "c=(45,32,23,12)\n",
    "sorted(c)\n"
   ]
  },
  {
   "cell_type": "code",
   "execution_count": 95,
   "id": "35d4e10c-bd9c-4015-b00b-b7dffaaf105c",
   "metadata": {},
   "outputs": [
    {
     "data": {
      "text/plain": [
       "[34.45, 45.0, 67.0, 76, 3345]"
      ]
     },
     "execution_count": 95,
     "metadata": {},
     "output_type": "execute_result"
    }
   ],
   "source": [
    "d=(3345,76,67.0,45.0,34.45)\n",
    "sorted(d)\n"
   ]
  },
  {
   "cell_type": "code",
   "execution_count": 92,
   "id": "6661dbf5-c105-471f-8f7c-bd7a837210d6",
   "metadata": {},
   "outputs": [
    {
     "data": {
      "text/plain": [
       "['l', 'so', 'spo', 'spop']"
      ]
     },
     "execution_count": 92,
     "metadata": {},
     "output_type": "execute_result"
    }
   ],
   "source": [
    "e=('so','spo','spop','l')\n",
    "sorted(e)"
   ]
  },
  {
   "cell_type": "code",
   "execution_count": 93,
   "id": "ddca365c-c10b-4daa-b075-614dda4c409b",
   "metadata": {},
   "outputs": [
    {
     "ename": "TypeError",
     "evalue": "'<' not supported between instances of 'str' and 'int'",
     "output_type": "error",
     "traceback": [
      "\u001b[1;31m---------------------------------------------------------------------------\u001b[0m",
      "\u001b[1;31mTypeError\u001b[0m                                 Traceback (most recent call last)",
      "Cell \u001b[1;32mIn[93], line 2\u001b[0m\n\u001b[0;32m      1\u001b[0m f\u001b[38;5;241m=\u001b[39m(\u001b[38;5;241m421\u001b[39m,\u001b[38;5;241m32\u001b[39m,\u001b[38;5;241m1\u001b[39m,\u001b[38;5;241m22\u001b[39m,\u001b[38;5;241m12.45\u001b[39m,\u001b[38;5;241m13.89\u001b[39m,\u001b[38;5;124m'\u001b[39m\u001b[38;5;124mritik\u001b[39m\u001b[38;5;124m'\u001b[39m,\u001b[38;5;124m'\u001b[39m\u001b[38;5;124merre\u001b[39m\u001b[38;5;124m'\u001b[39m,\u001b[38;5;124m'\u001b[39m\u001b[38;5;124mi\u001b[39m\u001b[38;5;124m'\u001b[39m,\u001b[38;5;124m'\u001b[39m\u001b[38;5;124mme\u001b[39m\u001b[38;5;124m'\u001b[39m)\n\u001b[1;32m----> 2\u001b[0m \u001b[38;5;28msorted\u001b[39m(f)\n",
      "\u001b[1;31mTypeError\u001b[0m: '<' not supported between instances of 'str' and 'int'"
     ]
    }
   ],
   "source": [
    "f=(421,32,1,22,12.45,13.89,'ritik','erre','i','me')\n",
    "sorted(f)"
   ]
  },
  {
   "cell_type": "code",
   "execution_count": 96,
   "id": "4d562cd2-ed0e-4173-aca4-5c5bc4e39fd7",
   "metadata": {},
   "outputs": [
    {
     "name": "stdout",
     "output_type": "stream",
     "text": [
      "{42, 37, 34, 12}\n"
     ]
    }
   ],
   "source": [
    "a={42,12,37,34}\n",
    "print(a)"
   ]
  },
  {
   "cell_type": "code",
   "execution_count": 97,
   "id": "668b387f-987c-462b-8849-3a7727d5aebd",
   "metadata": {},
   "outputs": [
    {
     "data": {
      "text/plain": [
       "set"
      ]
     },
     "execution_count": 97,
     "metadata": {},
     "output_type": "execute_result"
    }
   ],
   "source": [
    "type(a)"
   ]
  },
  {
   "cell_type": "code",
   "execution_count": 98,
   "id": "653846be-b4df-4d4f-b2bb-9709366516a7",
   "metadata": {},
   "outputs": [
    {
     "name": "stdout",
     "output_type": "stream",
     "text": [
      "{50, 40, 10, 30, 'a'}\n"
     ]
    }
   ],
   "source": [
    "b={40,10,30,50,'a'}\n",
    "print(b)"
   ]
  },
  {
   "cell_type": "code",
   "execution_count": 109,
   "id": "849353d5-0a04-4e8e-8882-5f8556220497",
   "metadata": {},
   "outputs": [
    {
     "name": "stdout",
     "output_type": "stream",
     "text": [
      "[89]\n"
     ]
    }
   ],
   "source": [
    "import random\n",
    "c=random.randint(1,100)\n",
    "#print(\"Random number is: \",c)\n",
    "li=[]\n",
    "li.append(c)\n",
    "print(li)\n"
   ]
  },
  {
   "cell_type": "code",
   "execution_count": 113,
   "id": "935f3fd0-c9ac-40ef-8461-8868aebe40b8",
   "metadata": {},
   "outputs": [
    {
     "name": "stdout",
     "output_type": "stream",
     "text": [
      "g\n",
      "['g']\n"
     ]
    }
   ],
   "source": [
    "import random\n",
    "import string\n",
    "d=random.choice(string.ascii_lowercase)\n",
    "ls=[]\n",
    "ls.append(d)\n",
    "print(d)\n",
    "print(ls)"
   ]
  },
  {
   "cell_type": "code",
   "execution_count": 115,
   "id": "7a713782-0f24-4ffd-93a1-9d5e75296ed8",
   "metadata": {},
   "outputs": [
    {
     "name": "stdout",
     "output_type": "stream",
     "text": [
      "&\n"
     ]
    }
   ],
   "source": [
    "import random \n",
    "\n",
    "custom_characters='@#!$%^&*'\n",
    "e=random.choice(custom_characters)\n",
    "print(e)"
   ]
  },
  {
   "cell_type": "code",
   "execution_count": 2,
   "id": "99145fa3-ecb8-4e54-8761-b3c1f972f5bc",
   "metadata": {},
   "outputs": [
    {
     "data": {
      "text/plain": [
       "True"
      ]
     },
     "execution_count": 2,
     "metadata": {},
     "output_type": "execute_result"
    }
   ],
   "source": [
    "tup=('one',2,'three','four',5,6,7,'eight')\n",
    "5 in tup"
   ]
  },
  {
   "cell_type": "code",
   "execution_count": 3,
   "id": "2833623d-8d50-4386-928a-2ceb09e038bc",
   "metadata": {},
   "outputs": [
    {
     "data": {
      "text/plain": [
       "False"
      ]
     },
     "execution_count": 3,
     "metadata": {},
     "output_type": "execute_result"
    }
   ],
   "source": [
    "'five' in tup"
   ]
  },
  {
   "cell_type": "code",
   "execution_count": 4,
   "id": "d5de9bf5-70d7-4e02-bcec-4d1dc922c66f",
   "metadata": {},
   "outputs": [
    {
     "data": {
      "text/plain": [
       "True"
      ]
     },
     "execution_count": 4,
     "metadata": {},
     "output_type": "execute_result"
    }
   ],
   "source": [
    "'five' not in tup"
   ]
  },
  {
   "cell_type": "code",
   "execution_count": 41,
   "id": "5cd33ddf-1674-4b6a-ac44-5d1f9853103e",
   "metadata": {},
   "outputs": [
    {
     "name": "stdout",
     "output_type": "stream",
     "text": [
      "Requirement already satisfied: pyperclip in c:\\users\\dell pc\\anaconda3\\lib\\site-packages (1.9.0)\n",
      "Note: you may need to restart the kernel to use updated packages.\n"
     ]
    }
   ],
   "source": [
    "pip install pyperclip\n"
   ]
  },
  {
   "cell_type": "code",
   "execution_count": 42,
   "id": "dfbab14c-7d20-48c3-a85a-2247edbc9a06",
   "metadata": {},
   "outputs": [],
   "source": [
    "import random\n",
    "import string\n",
    "import tkinter as tk\n",
    "from tkinter import messagebox\n",
    "import pyperclip\n",
    "\n",
    "class PasswordGeneratorApp:\n",
    "    def __init__(self, root):\n",
    "        self.root = root\n",
    "        self.root.title(\"Password Generator\")\n",
    "        self.root.configure(background='gray11')\n",
    "        \n",
    "        self.length_label = tk.Label(root, text=\"Password Length:\", background='gray11', foreground='Darkorange1')\n",
    "        self.length_label.pack(pady=5)\n",
    "        \n",
    "        self.length_entry = tk.Entry(root)\n",
    "        self.length_entry.pack(pady=5)\n",
    "        \n",
    "        self.check_variables = {\n",
    "            \"numbers\": tk.IntVar(),\n",
    "            \"uppercase\": tk.IntVar(),\n",
    "            \"lowercase\": tk.IntVar(),\n",
    "            \"special\": tk.IntVar()\n",
    "        }\n",
    "        \n",
    "        self.checkboxes = []\n",
    "        for label_text, var_name in [(\"Include Numbers (0-9)\", \"numbers\"),\n",
    "                                     (\"Include Uppercase (A-Z)\", \"uppercase\"),\n",
    "                                     (\"Include Lowercase (a-z)\", \"lowercase\"),\n",
    "                                     (\"Include Special Characters (!@#$%^&*()_+)\", \"special\")]:\n",
    "            checkbox = tk.Checkbutton(root, text=label_text, variable=self.check_variables[var_name], background='gray11', foreground='red')\n",
    "            checkbox.pack(anchor=tk.W)\n",
    "            self.checkboxes.append(checkbox)\n",
    "        \n",
    "        self.generate_button = tk.Button(root, text=\"Generate Password\", background='Darkorange1', command=self.generate_password)\n",
    "        self.generate_button.pack(pady=10)\n",
    "        \n",
    "        self.copy_button = tk.Button(root, text=\"Copy Password\", background='DeepSkyBlue2', command=self.copy_password)\n",
    "        self.copy_button.pack(pady=5)\n",
    "        \n",
    "        self.password_label = tk.Label(root, background='yellow', text=\"\", pady=10)\n",
    "        self.password_label.pack(pady=10)\n",
    "        \n",
    "    def generate_password(self):\n",
    "        try:\n",
    "            length = int(self.length_entry.get())\n",
    "        except ValueError:\n",
    "            messagebox.showerror(\"Error\", \"Password length must be an integer.\")\n",
    "            return\n",
    "        \n",
    "        use_numbers = self.check_variables[\"numbers\"].get() == 1\n",
    "        use_uppercase = self.check_variables[\"uppercase\"].get() == 1\n",
    "        use_lowercase = self.check_variables[\"lowercase\"].get() == 1\n",
    "        use_special = self.check_variables[\"special\"].get() == 1\n",
    "        \n",
    "        if not any([use_numbers, use_uppercase, use_lowercase, use_special]):\n",
    "            messagebox.showerror(\"Error\", \"At least one character set must be selected.\")\n",
    "            return\n",
    "        \n",
    "        characters = ''\n",
    "        if use_numbers:\n",
    "            characters += string.digits\n",
    "        if use_uppercase:\n",
    "            characters += string.ascii_uppercase\n",
    "        if use_lowercase:\n",
    "            characters += string.ascii_lowercase\n",
    "        if use_special:\n",
    "            characters += string.punctuation\n",
    "        \n",
    "        password = ''.join(random.choice(characters) for _ in range(length))\n",
    "        self.password_label.config(text=f\"Generated Password: {password}\")\n",
    "        self.generated_password = password  # Store generated password\n",
    "        \n",
    "    def copy_password(self):\n",
    "        try:\n",
    "            # Use pyperclip to copy to clipboard\n",
    "            pyperclip.copy(self.generated_password)\n",
    "            messagebox.showinfo(\"Password Copied\", \"Password copied to clipboard!\")\n",
    "        except AttributeError:\n",
    "            messagebox.showerror(\"No Password Generated\", \"Generate a password first!\")\n",
    "\n",
    "def main():\n",
    "    root = tk.Tk()\n",
    "    app = PasswordGeneratorApp(root)\n",
    "    root.mainloop()\n",
    "\n",
    "if __name__ == \"__main__\":\n",
    "    main()"
   ]
  },
  {
   "cell_type": "code",
   "execution_count": 7,
   "id": "69bf0a9b-6b6f-49f0-a279-0054f62e4d80",
   "metadata": {},
   "outputs": [
    {
     "name": "stdin",
     "output_type": "stream",
     "text": [
      "input a number:  7\n"
     ]
    },
    {
     "name": "stdout",
     "output_type": "stream",
     "text": [
      "odd\n"
     ]
    }
   ],
   "source": [
    "a = int(input(\"input a number: \"))\n",
    "#b=a%2\n",
    "if(a%2==0):\n",
    "    print(\"even\")\n",
    "else:\n",
    "    print(\"odd\")\n"
   ]
  },
  {
   "cell_type": "code",
   "execution_count": 8,
   "id": "e864c71b-6112-450b-bd0e-ea1b0c139115",
   "metadata": {},
   "outputs": [
    {
     "name": "stdin",
     "output_type": "stream",
     "text": [
      "input a number:  4\n"
     ]
    },
    {
     "name": "stdout",
     "output_type": "stream",
     "text": [
      "0\n"
     ]
    }
   ],
   "source": [
    "a = int(input(\"input a number: \"))\n",
    "print(a%2)"
   ]
  },
  {
   "cell_type": "code",
   "execution_count": 12,
   "id": "bac52b19-1a33-49fd-a71a-7037de6f8d20",
   "metadata": {},
   "outputs": [
    {
     "name": "stdin",
     "output_type": "stream",
     "text": [
      "Enter a number:  4\n"
     ]
    },
    {
     "name": "stdout",
     "output_type": "stream",
     "text": [
      "even\n"
     ]
    }
   ],
   "source": [
    "li=list(range(0,100,2))\n",
    "b = int(input(\"Enter a number: \"))\n",
    "if(b in li): \n",
    "    print(\"even\")\n",
    "else:\n",
    "    print(\"odd\")"
   ]
  },
  {
   "cell_type": "code",
   "execution_count": null,
   "id": "02d499cb-e2e6-429a-ab6a-65c7dfbefc1b",
   "metadata": {},
   "outputs": [],
   "source": []
  },
  {
   "cell_type": "code",
   "execution_count": null,
   "id": "6804a271-9c82-4d13-938d-41dd875b5041",
   "metadata": {},
   "outputs": [],
   "source": []
  }
 ],
 "metadata": {
  "kernelspec": {
   "display_name": "Python 3 (ipykernel)",
   "language": "python",
   "name": "python3"
  },
  "language_info": {
   "codemirror_mode": {
    "name": "ipython",
    "version": 3
   },
   "file_extension": ".py",
   "mimetype": "text/x-python",
   "name": "python",
   "nbconvert_exporter": "python",
   "pygments_lexer": "ipython3",
   "version": "3.11.7"
  }
 },
 "nbformat": 4,
 "nbformat_minor": 5
}
