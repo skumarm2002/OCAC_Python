{
 "cells": [
  {
   "cell_type": "code",
   "execution_count": 1,
   "id": "004a8ce0-0476-487c-8539-e504d33701ff",
   "metadata": {},
   "outputs": [
    {
     "data": {
      "text/plain": [
       "'C:\\\\Users\\\\Dell Pc\\\\python'"
      ]
     },
     "execution_count": 1,
     "metadata": {},
     "output_type": "execute_result"
    }
   ],
   "source": [
    "pwd\n"
   ]
  },
  {
   "cell_type": "code",
   "execution_count": 2,
   "id": "43c16c87-82a5-4887-87c0-13994dd14bcf",
   "metadata": {},
   "outputs": [
    {
     "name": "stdout",
     "output_type": "stream",
     "text": [
      "HEllo\n"
     ]
    }
   ],
   "source": [
    "print(\"HEllo\")"
   ]
  },
  {
   "cell_type": "code",
   "execution_count": 3,
   "id": "4444ca9f-5c96-4b1d-baff-635962e68ef4",
   "metadata": {},
   "outputs": [
    {
     "data": {
      "text/plain": [
       "'C:\\\\Users\\\\Dell Pc\\\\python'"
      ]
     },
     "execution_count": 3,
     "metadata": {},
     "output_type": "execute_result"
    }
   ],
   "source": [
    "pwd\n"
   ]
  },
  {
   "cell_type": "code",
   "execution_count": 5,
   "id": "50c5e46f-4e14-4b60-bea2-72d7dbddca4b",
   "metadata": {},
   "outputs": [
    {
     "name": "stdout",
     "output_type": "stream",
     "text": [
      "24\n"
     ]
    }
   ],
   "source": [
    "A=10\n",
    "B=14\n",
    "print(A+B)"
   ]
  },
  {
   "cell_type": "code",
   "execution_count": 1,
   "id": "73fa9a59-28d8-4330-ab1f-788246cbb699",
   "metadata": {},
   "outputs": [
    {
     "data": {
      "text/plain": [
       "10"
      ]
     },
     "execution_count": 1,
     "metadata": {},
     "output_type": "execute_result"
    }
   ],
   "source": [
    "10"
   ]
  },
  {
   "cell_type": "code",
   "execution_count": 5,
   "id": "87de04b7-1fca-4771-a006-801429b37755",
   "metadata": {},
   "outputs": [
    {
     "name": "stdout",
     "output_type": "stream",
     "text": [
      "22\n"
     ]
    }
   ],
   "source": [
    "num=10 \"\"\"a has been assigned as num and num2 has been assigned as 12\n",
    "            and num3 is the addition of num and num2\"\"\"\n",
    "num2=12\n",
    "num3=num+num2\n",
    "print(num3)"
   ]
  },
  {
   "cell_type": "code",
   "execution_count": 9,
   "id": "be1ec629-aca7-45ea-b65d-2c38cdc60c27",
   "metadata": {},
   "outputs": [
    {
     "name": "stdout",
     "output_type": "stream",
     "text": [
      "<class 'int'>\n",
      "<class 'float'>\n",
      "<class 'float'>\n"
     ]
    },
    {
     "data": {
      "text/plain": [
       "24.442323321313232"
      ]
     },
     "execution_count": 9,
     "metadata": {},
     "output_type": "execute_result"
    }
   ],
   "source": [
    "num=10\n",
    "num2=12.22\n",
    "num3=12.222323321313231332244343233465654\n",
    "print(type(num))\n",
    "print(type(num2))\n",
    "print(type(num3))\n",
    "num2+num3"
   ]
  },
  {
   "cell_type": "code",
   "execution_count": 10,
   "id": "74ae6f00-c543-41c0-8781-8f670be5d406",
   "metadata": {},
   "outputs": [
    {
     "name": "stdout",
     "output_type": "stream",
     "text": [
      "22\n"
     ]
    },
    {
     "data": {
      "text/plain": [
       "'a has been assigned as num and num2 has been assigned as 12\\n            and num3 is the addition of num and num2'"
      ]
     },
     "execution_count": 10,
     "metadata": {},
     "output_type": "execute_result"
    }
   ],
   "source": [
    "num=10 \n",
    "num2=12\n",
    "num3=num+num2\n",
    "print(num3)\n",
    "\"\"\"a has been assigned as num and num2 has been assigned as 12\n",
    "            and num3 is the addition of num and num2\"\"\""
   ]
  },
  {
   "cell_type": "code",
   "execution_count": 11,
   "id": "7a3d6e03-7dae-4009-abd3-477075c6d811",
   "metadata": {},
   "outputs": [
    {
     "data": {
      "text/plain": [
       "'a has been assigned as num and num2 has been assigned as 12\\n            and num3 is the addition of num and num2'"
      ]
     },
     "execution_count": 11,
     "metadata": {},
     "output_type": "execute_result"
    }
   ],
   "source": [
    "num=10 \n",
    "num2=12\n",
    "num+num2\n",
    "#print(num3)\n",
    "\"\"\"a has been assigned as num and num2 has been assigned as 12\n",
    "            and num3 is the addition of num and num2\"\"\""
   ]
  },
  {
   "cell_type": "code",
   "execution_count": 14,
   "id": "0cc16edb-9c7a-4070-b6a0-2f5524a82274",
   "metadata": {},
   "outputs": [
    {
     "name": "stdout",
     "output_type": "stream",
     "text": [
      "22\n"
     ]
    }
   ],
   "source": [
    "num=10 \n",
    "num2=12\n",
    "num3=num+num2 \n",
    "\"\"\"a has been assigned as num and num2 has been assigned as 12\n",
    "            and num3 is the addition of num and num2\"\"\"\n",
    "print(num3)\n"
   ]
  },
  {
   "cell_type": "code",
   "execution_count": 16,
   "id": "611ad912-9a18-4c32-89b5-1d6041b6b02e",
   "metadata": {},
   "outputs": [
    {
     "data": {
      "text/plain": [
       "3"
      ]
     },
     "execution_count": 16,
     "metadata": {},
     "output_type": "execute_result"
    }
   ],
   "source": [
    "\"\"\"GOOD AFTERNOON\"\"\"\n",
    "a=1\n",
    "b=2\n",
    "a+b"
   ]
  },
  {
   "cell_type": "code",
   "execution_count": 17,
   "id": "49483796-5b4e-4ef6-baec-dc77bdbe188f",
   "metadata": {},
   "outputs": [
    {
     "data": {
      "text/plain": [
       "140710708691752"
      ]
     },
     "execution_count": 17,
     "metadata": {},
     "output_type": "execute_result"
    }
   ],
   "source": [
    "id(a)"
   ]
  },
  {
   "cell_type": "code",
   "execution_count": 19,
   "id": "17c7705c-305e-4029-9654-a642d71cb323",
   "metadata": {},
   "outputs": [
    {
     "data": {
      "text/plain": [
       "140710708692040"
      ]
     },
     "execution_count": 19,
     "metadata": {},
     "output_type": "execute_result"
    }
   ],
   "source": [
    "a=10\n",
    "a\n",
    "id(a)"
   ]
  },
  {
   "cell_type": "code",
   "execution_count": 20,
   "id": "b542cd68-6598-4e79-8a97-f1cb7d41cf9f",
   "metadata": {},
   "outputs": [
    {
     "data": {
      "text/plain": [
       "140710708692360"
      ]
     },
     "execution_count": 20,
     "metadata": {},
     "output_type": "execute_result"
    }
   ],
   "source": [
    "b=20\n",
    "b\n",
    "id(b)\n"
   ]
  },
  {
   "cell_type": "code",
   "execution_count": 21,
   "id": "3294ce37-f482-40dc-9a57-68c8c7804119",
   "metadata": {},
   "outputs": [
    {
     "data": {
      "text/plain": [
       "140710708692360"
      ]
     },
     "execution_count": 21,
     "metadata": {},
     "output_type": "execute_result"
    }
   ],
   "source": [
    "c=20\n",
    "id(c)"
   ]
  },
  {
   "cell_type": "code",
   "execution_count": 22,
   "id": "577412da-7405-49b4-ad50-401fc82a4bf5",
   "metadata": {},
   "outputs": [
    {
     "data": {
      "text/plain": [
       "140710708692680"
      ]
     },
     "execution_count": 22,
     "metadata": {},
     "output_type": "execute_result"
    }
   ],
   "source": [
    "d=30\n",
    "id(d)"
   ]
  },
  {
   "cell_type": "code",
   "execution_count": 27,
   "id": "438b1efe-4ed6-47c0-96e0-f5f5ef0a3e40",
   "metadata": {},
   "outputs": [
    {
     "name": "stdout",
     "output_type": "stream",
     "text": [
      "Summation is :  33\n"
     ]
    },
    {
     "data": {
      "text/plain": [
       "33"
      ]
     },
     "execution_count": 27,
     "metadata": {},
     "output_type": "execute_result"
    }
   ],
   "source": [
    "num1=10\n",
    "num2=23\n",
    "u=num2+num1\n",
    "print(\"Summation is : \",num2+num1)\n",
    "u"
   ]
  },
  {
   "cell_type": "code",
   "execution_count": 29,
   "id": "b94b3ff2-03f5-4de7-a695-d3d80a4c02cb",
   "metadata": {},
   "outputs": [
    {
     "name": "stdout",
     "output_type": "stream",
     "text": [
      "Summation is :  33\n"
     ]
    }
   ],
   "source": [
    " num1=10\n",
    "num2=23\n",
    "u=num2+num1\n",
    "u\n",
    "v=print(\"Summation is : \",num2+num1)\n"
   ]
  },
  {
   "cell_type": "code",
   "execution_count": 32,
   "id": "6752e350-ce8e-41a1-a1ff-569e73f86113",
   "metadata": {},
   "outputs": [
    {
     "data": {
      "text/plain": [
       "str"
      ]
     },
     "execution_count": 32,
     "metadata": {},
     "output_type": "execute_result"
    }
   ],
   "source": [
    "_1A='c'\n",
    "u=type(_1A)\n",
    "u"
   ]
  },
  {
   "cell_type": "code",
   "execution_count": 33,
   "id": "b5a0bc42-ff80-4041-8b12-785777d4e9c7",
   "metadata": {},
   "outputs": [
    {
     "name": "stdout",
     "output_type": "stream",
     "text": [
      "Sum is :  3\n"
     ]
    },
    {
     "data": {
      "text/plain": [
       "3"
      ]
     },
     "execution_count": 33,
     "metadata": {},
     "output_type": "execute_result"
    }
   ],
   "source": [
    "a=1\n",
    "b=2\n",
    "c=a+b\n",
    "print(\"Sum is : \",c)\n",
    "c"
   ]
  },
  {
   "cell_type": "code",
   "execution_count": 34,
   "id": "5254bc3b-a2c8-42dd-b2fe-0ad4e49b5bc8",
   "metadata": {},
   "outputs": [
    {
     "name": "stdout",
     "output_type": "stream",
     "text": [
      "['False', 'None', 'True', 'and', 'as', 'assert', 'async', 'await', 'break', 'class', 'continue', 'def', 'del', 'elif', 'else', 'except', 'finally', 'for', 'from', 'global', 'if', 'import', 'in', 'is', 'lambda', 'nonlocal', 'not', 'or', 'pass', 'raise', 'return', 'try', 'while', 'with', 'yield']\n"
     ]
    }
   ],
   "source": [
    "import keyword\n",
    "keywords=keyword.kwlist\n",
    "print(keywords)"
   ]
  },
  {
   "cell_type": "code",
   "execution_count": 35,
   "id": "806b8104-2a25-499b-b845-ed76820ea4dc",
   "metadata": {},
   "outputs": [
    {
     "data": {
      "text/plain": [
       "35"
      ]
     },
     "execution_count": 35,
     "metadata": {},
     "output_type": "execute_result"
    }
   ],
   "source": [
    "len(keywords)"
   ]
  },
  {
   "cell_type": "code",
   "execution_count": 36,
   "id": "53e8ca23-6fa7-40f1-8e41-ba3b6ad7be74",
   "metadata": {},
   "outputs": [
    {
     "name": "stdin",
     "output_type": "stream",
     "text": [
      "Enter your batch of OCAC:  june2024\n"
     ]
    },
    {
     "name": "stdout",
     "output_type": "stream",
     "text": [
      "my batch of OCAC is   june2024\n"
     ]
    }
   ],
   "source": [
    "b=input(\"Enter your batch of OCAC: \")\n",
    "print(\"my batch of OCAC is  \",b)\n"
   ]
  },
  {
   "cell_type": "code",
   "execution_count": 38,
   "id": "104ea0f9-8f10-4748-a9f7-835cade18d7a",
   "metadata": {},
   "outputs": [
    {
     "name": "stdout",
     "output_type": "stream",
     "text": [
      "i am from june2024 batch\n"
     ]
    }
   ],
   "source": [
    "print(\"i am from\",b,\"batch\")"
   ]
  },
  {
   "cell_type": "code",
   "execution_count": 39,
   "id": "78e63dab-bf71-493a-8a61-2ad581b2c438",
   "metadata": {},
   "outputs": [
    {
     "name": "stdout",
     "output_type": "stream",
     "text": [
      "june2024 is my batch of OCAC\n"
     ]
    }
   ],
   "source": [
    "print(b,\"is my batch of OCAC\")"
   ]
  },
  {
   "cell_type": "code",
   "execution_count": 42,
   "id": "c3a0f9db-b2c3-4a83-85dc-7432d4c01308",
   "metadata": {},
   "outputs": [
    {
     "name": "stdout",
     "output_type": "stream",
     "text": [
      "i am from june2024 batch\n",
      "Which batch is yours?\n"
     ]
    }
   ],
   "source": [
    " print(\"i am from\",b,\"batch\\nWhich batch is yours?\" )"
   ]
  },
  {
   "cell_type": "code",
   "execution_count": 43,
   "id": "a672cb3a-8756-408f-81c4-a5b5f8a6aa92",
   "metadata": {},
   "outputs": [
    {
     "name": "stdin",
     "output_type": "stream",
     "text": [
      "ID: 10243\n"
     ]
    },
    {
     "name": "stdout",
     "output_type": "stream",
     "text": [
      "10243\n"
     ]
    }
   ],
   "source": [
    "c=input(\"ID:\")\n",
    "print(c)"
   ]
  },
  {
   "cell_type": "code",
   "execution_count": 44,
   "id": "8e02a24f-7545-4044-8d47-74633fe0ff2d",
   "metadata": {},
   "outputs": [
    {
     "name": "stdout",
     "output_type": "stream",
     "text": [
      "my batch of OCAC is   june2024 and my employee id is : 10243\n"
     ]
    }
   ],
   "source": [
    "print(\"my batch of OCAC is  \",b, \"and my employee id is :\",c)"
   ]
  },
  {
   "cell_type": "code",
   "execution_count": 45,
   "id": "5f0da689-f4bc-4441-82e0-c5dcab2392d2",
   "metadata": {},
   "outputs": [
    {
     "name": "stdout",
     "output_type": "stream",
     "text": [
      "my batch of OCAC is:june2024and my employee id is:10243\n"
     ]
    }
   ],
   "source": [
    "print(\"my batch of OCAC is:{}and my employee id is:{}\".format(b,c))#this is called dot format and this{} works as a place holder"
   ]
  },
  {
   "cell_type": "code",
   "execution_count": null,
   "id": "6431b76b-731a-430b-a7dd-d758f52c5437",
   "metadata": {},
   "outputs": [],
   "source": []
  },
  {
   "cell_type": "code",
   "execution_count": 48,
   "id": "b2c9696f-1afb-4e50-88cc-eb0896f6fef2",
   "metadata": {},
   "outputs": [
    {
     "data": {
      "text/plain": [
       "10"
      ]
     },
     "execution_count": 48,
     "metadata": {},
     "output_type": "execute_result"
    }
   ],
   "source": [
    "a\n"
   ]
  },
  {
   "cell_type": "code",
   "execution_count": 49,
   "id": "49981f4b-3734-4c7d-b5ba-1d957aede973",
   "metadata": {},
   "outputs": [],
   "source": [
    "del(a)"
   ]
  },
  {
   "cell_type": "code",
   "execution_count": 51,
   "id": "32b46aed-ae06-42bc-898c-3ae878a1cbb2",
   "metadata": {},
   "outputs": [
    {
     "ename": "NameError",
     "evalue": "name 'A' is not defined",
     "output_type": "error",
     "traceback": [
      "\u001b[1;31m---------------------------------------------------------------------------\u001b[0m",
      "\u001b[1;31mNameError\u001b[0m                                 Traceback (most recent call last)",
      "Cell \u001b[1;32mIn[51], line 1\u001b[0m\n\u001b[1;32m----> 1\u001b[0m A\n",
      "\u001b[1;31mNameError\u001b[0m: name 'A' is not defined"
     ]
    }
   ],
   "source": [
    "A\n"
   ]
  },
  {
   "cell_type": "code",
   "execution_count": 52,
   "id": "34b2675e-933a-4ad4-bf35-9c255a8b4190",
   "metadata": {},
   "outputs": [
    {
     "data": {
      "text/plain": [
       "20"
      ]
     },
     "execution_count": 52,
     "metadata": {},
     "output_type": "execute_result"
    }
   ],
   "source": [
    "b"
   ]
  },
  {
   "cell_type": "code",
   "execution_count": 53,
   "id": "dcfd992e-57d5-48d3-a66e-2df1d99a4399",
   "metadata": {},
   "outputs": [],
   "source": [
    "del(b)"
   ]
  },
  {
   "cell_type": "code",
   "execution_count": 54,
   "id": "53f4683f-22ad-4238-bbd9-b75257f6942d",
   "metadata": {},
   "outputs": [],
   "source": [
    "del(c)"
   ]
  },
  {
   "cell_type": "code",
   "execution_count": 55,
   "id": "90859156-4f22-481d-a629-137a76bfcbd3",
   "metadata": {},
   "outputs": [
    {
     "ename": "NameError",
     "evalue": "name 'a' is not defined",
     "output_type": "error",
     "traceback": [
      "\u001b[1;31m---------------------------------------------------------------------------\u001b[0m",
      "\u001b[1;31mNameError\u001b[0m                                 Traceback (most recent call last)",
      "Cell \u001b[1;32mIn[55], line 1\u001b[0m\n\u001b[1;32m----> 1\u001b[0m a\u001b[38;5;241m+\u001b[39mb\u001b[38;5;241m+\u001b[39mc\n",
      "\u001b[1;31mNameError\u001b[0m: name 'a' is not defined"
     ]
    }
   ],
   "source": [
    "a+b+c"
   ]
  },
  {
   "cell_type": "code",
   "execution_count": 59,
   "id": "4cddc040-f75e-4fc4-86bd-0720826197de",
   "metadata": {},
   "outputs": [
    {
     "name": "stdout",
     "output_type": "stream",
     "text": [
      "Hello sohan Good Afternoon sohan\n"
     ]
    }
   ],
   "source": [
    "print(\"Hello {name} {greet} {name}\".format(name=\"sohan\",greet=\"Good Afternoon\"))"
   ]
  },
  {
   "cell_type": "code",
   "execution_count": 61,
   "id": "1eef693b-2537-457c-a8b7-4914082d7e87",
   "metadata": {},
   "outputs": [
    {
     "name": "stdout",
     "output_type": "stream",
     "text": [
      "HELLO sohan Good Afternoon\n"
     ]
    }
   ],
   "source": [
    "print(\"HELLO {name} {greet}\".format(name=\"sohan\",greet=\"Good Afternoon\"))"
   ]
  },
  {
   "cell_type": "code",
   "execution_count": 1,
   "id": "f7b8285e-7bf2-4007-8ba7-35d6eea74550",
   "metadata": {},
   "outputs": [
    {
     "name": "stdout",
     "output_type": "stream",
     "text": [
      "My number is23 and my name is: Sohan\n",
      "My number is 23 and my name is Sohan\n",
      "My number is:  23 My name is:  Sohan\n"
     ]
    }
   ],
   "source": [
    "a=23\n",
    "name='Sohan'\n",
    "print(\"My number is{one} and my name is: {two}\".format(one=a,two=name))\n",
    "print(\"My number is {} and my name is {}\".format(a,name))\n",
    "print(\"My number is: \",a,\"My name is: \",name)"
   ]
  },
  {
   "cell_type": "code",
   "execution_count": 9,
   "id": "a0a01c80-508f-4961-96ae-a54f4e11d360",
   "metadata": {},
   "outputs": [
    {
     "name": "stdin",
     "output_type": "stream",
     "text": [
      "print the first number:  20\n",
      "print the second number:  4\n"
     ]
    },
    {
     "name": "stdout",
     "output_type": "stream",
     "text": [
      "Addition 24, Substraction 16,Multiplication 80, Division 5.0,Modulous 0\n"
     ]
    }
   ],
   "source": [
    "a=int(input (\"print the first number: \"))\n",
    "b=int(input(\"print the second number: \"))\n",
    "add=a+b\n",
    "sub=a-b\n",
    "mul=a*b\n",
    "div=a/b  \n",
    "mod=a%b\n",
    "print(\"Addition {}, Substraction {},Multiplication {}, Division {},Modulous {}\".format(add,sub,mul,div,mod)) "
   ]
  },
  {
   "cell_type": "code",
   "execution_count": 10,
   "id": "2dbc8730-5e4e-47d2-a435-211cbb0c8816",
   "metadata": {},
   "outputs": [
    {
     "name": "stdout",
     "output_type": "stream",
     "text": [
      "ADD: 24\n",
      "sum: 24,diff: 16,mult: 80,div: 5.0,mod: 0\n"
     ]
    }
   ],
   "source": [
    "print(\"ADD:\",add)\n",
    "print(\"sum: {0},diff: {1},mult: {2},div: {3},mod: {4}\".format(add,sub,mul,div,mod))"
   ]
  },
  {
   "cell_type": "code",
   "execution_count": 11,
   "id": "b64e6fa2-d949-4ecc-939f-6bdde229d121",
   "metadata": {},
   "outputs": [
    {
     "name": "stdout",
     "output_type": "stream",
     "text": [
      "Sum: 24, Diff: 16, Mul: 80,div: 5, mod: 0\n"
     ]
    }
   ],
   "source": [
    "print(\"Sum: %d, Diff: %d, Mul: %d,div: %d, mod: %d\"%(add,sub,mul,div,mod))"
   ]
  },
  {
   "cell_type": "code",
   "execution_count": 26,
   "id": "fd279d78-657f-4b17-a27a-156f0250f972",
   "metadata": {},
   "outputs": [
    {
     "name": "stdout",
     "output_type": "stream",
     "text": [
      "sum |diff|mul |div | mod\n",
      " 24 | 16 | 80 |5.0 |   0\n"
     ]
    }
   ],
   "source": [
    "print('{0:^4}|{1:^4}|{2:^4}|{3:^4}|{4:>4}'.format('sum','diff','mul','div','mod'))\n",
    "print('{0:^4}|{1:^4}|{2:^4}|{3:^4}|{4:>4}'.format(add,sub,mul,div,mod))"
   ]
  },
  {
   "cell_type": "code",
   "execution_count": 31,
   "id": "a7c0a960-a27e-48d3-9abd-9499550d655f",
   "metadata": {},
   "outputs": [
    {
     "name": "stdout",
     "output_type": "stream",
     "text": [
      "welcome to First class of Odisha Computer Application Center .\n"
     ]
    }
   ],
   "source": [
    "a=\"Odisha Computer Application Center\"\n",
    "print(f\"welcome to First class of {a} .\")"
   ]
  },
  {
   "cell_type": "code",
   "execution_count": 32,
   "id": "71a39aa8-2cc6-42f4-b986-de00681ff7fe",
   "metadata": {},
   "outputs": [
    {
     "name": "stdin",
     "output_type": "stream",
     "text": [
      " 30\n"
     ]
    },
    {
     "data": {
      "text/plain": [
       "'30'"
      ]
     },
     "execution_count": 32,
     "metadata": {},
     "output_type": "execute_result"
    }
   ],
   "source": [
    "n=input()\n",
    "n"
   ]
  },
  {
   "cell_type": "code",
   "execution_count": 33,
   "id": "a3e2b107-0813-48d4-9542-9a8f46c0cd6e",
   "metadata": {},
   "outputs": [
    {
     "data": {
      "text/plain": [
       "str"
      ]
     },
     "execution_count": 33,
     "metadata": {},
     "output_type": "execute_result"
    }
   ],
   "source": [
    "type(n)\n"
   ]
  },
  {
   "cell_type": "code",
   "execution_count": 34,
   "id": "99b97b53-4bcc-4a54-afbb-bf1d49975249",
   "metadata": {},
   "outputs": [
    {
     "name": "stdin",
     "output_type": "stream",
     "text": [
      "What is your name? :  Sohan\n"
     ]
    },
    {
     "name": "stdout",
     "output_type": "stream",
     "text": [
      "hey Good Afternoon Sohan!\n"
     ]
    }
   ],
   "source": [
    "name=input(\"What is your name? : \")\n",
    "print(\"hey Good Afternoon \"+name+\"!\")"
   ]
  },
  {
   "cell_type": "code",
   "execution_count": 37,
   "id": "9307a033-0ad6-4b17-b934-5bb220d9c922",
   "metadata": {},
   "outputs": [
    {
     "name": "stdin",
     "output_type": "stream",
     "text": [
      "Enter the names :  Sohan Ritik\n"
     ]
    },
    {
     "name": "stdout",
     "output_type": "stream",
     "text": [
      "Good Afternoon Sohan\n",
      "Good Afternoon Ritik\n"
     ]
    }
   ],
   "source": [
    "var1,var2=input(\"Enter the names : \").split(\" \")\n",
    "print(\"Good Afternoon\",var1)\n",
    "print(\"Good Afternoon\",var2)\n"
   ]
  },
  {
   "cell_type": "code",
   "execution_count": null,
   "id": "9af8fab7-ddd8-4679-b165-0e07ed6a566a",
   "metadata": {},
   "outputs": [],
   "source": []
  }
 ],
 "metadata": {
  "kernelspec": {
   "display_name": "Python 3 (ipykernel)",
   "language": "python",
   "name": "python3"
  },
  "language_info": {
   "codemirror_mode": {
    "name": "ipython",
    "version": 3
   },
   "file_extension": ".py",
   "mimetype": "text/x-python",
   "name": "python",
   "nbconvert_exporter": "python",
   "pygments_lexer": "ipython3",
   "version": "3.11.7"
  }
 },
 "nbformat": 4,
 "nbformat_minor": 5
}
