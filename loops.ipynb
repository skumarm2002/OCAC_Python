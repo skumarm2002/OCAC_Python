{
 "cells": [
  {
   "cell_type": "code",
   "execution_count": 4,
   "id": "0e27e037-586e-43c9-a035-617d57570f2a",
   "metadata": {},
   "outputs": [
    {
     "name": "stdout",
     "output_type": "stream",
     "text": [
      "33\n",
      "44\n",
      "55\n",
      "66\n",
      "77\n",
      "88\n"
     ]
    }
   ],
   "source": [
    "li=[33,44,55,66,77,88]\n",
    "for i in li:\n",
    "    print(i)"
   ]
  },
  {
   "cell_type": "code",
   "execution_count": 5,
   "id": "0283949b-4021-46bf-9438-39278789e293",
   "metadata": {},
   "outputs": [
    {
     "name": "stdout",
     "output_type": "stream",
     "text": [
      "33\n",
      "44\n",
      "55\n",
      "66\n",
      "77\n",
      "88\n"
     ]
    }
   ],
   "source": [
    "for item in li:\n",
    "    print(item)"
   ]
  },
  {
   "cell_type": "code",
   "execution_count": 6,
   "id": "7336ae5e-318f-4c98-8277-d2db466da168",
   "metadata": {},
   "outputs": [
    {
     "name": "stdout",
     "output_type": "stream",
     "text": [
      "33 44 55 66 77 88 "
     ]
    }
   ],
   "source": [
    "for i in li:\n",
    "    print(i,end=\" \")"
   ]
  },
  {
   "cell_type": "code",
   "execution_count": 7,
   "id": "f50105e8-4095-4526-aaee-0f6506560bad",
   "metadata": {},
   "outputs": [
    {
     "name": "stdout",
     "output_type": "stream",
     "text": [
      "TCS INFOSYS WIPRO ACCENTURE "
     ]
    }
   ],
   "source": [
    "a=['TCS','INFOSYS','WIPRO','ACCENTURE']\n",
    "for com in a:\n",
    "    print(com,end=' ')"
   ]
  },
  {
   "cell_type": "code",
   "execution_count": 8,
   "id": "248d22b1-f66b-45d4-b18d-16bf2298fa30",
   "metadata": {},
   "outputs": [
    {
     "name": "stdout",
     "output_type": "stream",
     "text": [
      "1 RN\n",
      "2 RN\n",
      "3 RN\n",
      "4 RN\n",
      "5 RN\n",
      "6 RN\n",
      "7 RN\n",
      "8 RN\n",
      "9 RN\n",
      "10 RN\n"
     ]
    }
   ],
   "source": [
    "for i in range(1,11):\n",
    "    print(i,\"RN\")"
   ]
  },
  {
   "cell_type": "code",
   "execution_count": 10,
   "id": "d0515437-5d41-4fe3-bd94-ef0606970caf",
   "metadata": {},
   "outputs": [
    {
     "name": "stdout",
     "output_type": "stream",
     "text": [
      "0\n",
      "2\n",
      "4\n",
      "6\n",
      "8\n",
      "10\n",
      "12\n",
      "14\n",
      "16\n",
      "18\n",
      "20\n",
      "22\n",
      "24\n",
      "26\n",
      "28\n",
      "30\n",
      "32\n",
      "34\n",
      "36\n",
      "38\n",
      "40\n",
      "42\n",
      "44\n",
      "46\n",
      "48\n",
      "50\n",
      "52\n",
      "54\n",
      "56\n",
      "58\n",
      "60\n",
      "62\n",
      "64\n",
      "66\n",
      "68\n",
      "70\n",
      "72\n",
      "74\n",
      "76\n",
      "78\n",
      "80\n",
      "82\n",
      "84\n",
      "86\n",
      "88\n",
      "90\n",
      "92\n",
      "94\n",
      "96\n",
      "98\n",
      "100\n"
     ]
    }
   ],
   "source": [
    "for i in range(0,101,2):\n",
    "    print(i)"
   ]
  },
  {
   "cell_type": "code",
   "execution_count": 25,
   "id": "ed89cef4-ea04-48d5-9fd4-940cdc10f64f",
   "metadata": {},
   "outputs": [
    {
     "name": "stdout",
     "output_type": "stream",
     "text": [
      "Sum is :  15\n"
     ]
    }
   ],
   "source": [
    "s=[1,2,3,4,5]\n",
    "sum=0\n",
    "for i in s:\n",
    "    sum=sum+i\n",
    "print(\"Sum is : \",sum)"
   ]
  },
  {
   "cell_type": "code",
   "execution_count": 26,
   "id": "d4c91a73-65ec-4427-a6d9-32df4266bb38",
   "metadata": {},
   "outputs": [
    {
     "name": "stdout",
     "output_type": "stream",
     "text": [
      "Sum is :  1\n",
      "Sum is :  3\n",
      "Sum is :  6\n",
      "Sum is :  10\n",
      "Sum is :  15\n"
     ]
    }
   ],
   "source": [
    "s=[1,2,3,4,5]\n",
    "sum=0\n",
    "for i in s:\n",
    "    sum=sum+i\n",
    "    print(\"Sum is : \",sum)"
   ]
  },
  {
   "cell_type": "code",
   "execution_count": 38,
   "id": "bc80c5ac-60f4-46ff-a5b7-259449392e31",
   "metadata": {},
   "outputs": [
    {
     "name": "stdin",
     "output_type": "stream",
     "text": [
      "Enter the lower bound: 1\n",
      "Enter the upper bound: 51\n"
     ]
    },
    {
     "name": "stdout",
     "output_type": "stream",
     "text": [
      "The odd numbers are:\n",
      "1,3,5,7,9,11,13,15,17,19,21,23,25,27,29,31,33,35,37,39,41,43,45,47,49,51,"
     ]
    }
   ],
   "source": [
    "a=int(input(\"Enter the lower bound:\"))\n",
    "b=int(input(\"Enter the upper bound:\"))\n",
    "print(\"The odd numbers are:\")\n",
    "for i in range(a,b+1):\n",
    "    if i%2!=0:\n",
    "        \n",
    "        print(i,end=\",\")"
   ]
  },
  {
   "cell_type": "code",
   "execution_count": 24,
   "id": "043c20b7-1d2a-4a86-ade9-84e3b65c3b74",
   "metadata": {},
   "outputs": [
    {
     "name": "stdout",
     "output_type": "stream",
     "text": [
      "4\n",
      "8\n",
      "12\n",
      "16\n",
      "20\n",
      "24\n",
      "28\n",
      "32\n",
      "40\n",
      "44\n",
      "48\n",
      "52\n",
      "56\n",
      "60\n",
      "64\n",
      "68\n",
      "76\n",
      "80\n",
      "84\n",
      "88\n",
      "92\n",
      "96\n",
      "100\n"
     ]
    }
   ],
   "source": [
    "for num in range(0,101):\n",
    "    if num%4==0 and num%9!=0:\n",
    "        print(num)"
   ]
  },
  {
   "cell_type": "code",
   "execution_count": 67,
   "id": "08af30d3-0d0c-4562-b495-50a2a96c5832",
   "metadata": {},
   "outputs": [
    {
     "name": "stdin",
     "output_type": "stream",
     "text": [
      "enter the multiplication table:  3\n"
     ]
    },
    {
     "name": "stdout",
     "output_type": "stream",
     "text": [
      "3\n",
      "1 3\n",
      "6\n",
      "2 3\n",
      "9\n",
      "3 3\n",
      "12\n",
      "4 3\n",
      "15\n",
      "5 3\n",
      "18\n",
      "6 3\n",
      "21\n",
      "7 3\n",
      "24\n",
      "8 3\n",
      "27\n",
      "9 3\n",
      "30\n",
      "10 3\n"
     ]
    }
   ],
   "source": [
    "table=int(input(\"enter the multiplication table: \"))\n",
    "for i in range(1,11):\n",
    "    print(table*i)\n",
    "    print(i)\n",
    "    print(table)\n"
   ]
  },
  {
   "cell_type": "code",
   "execution_count": 50,
   "id": "02bd9dff-75b2-45f0-aefe-32b3da8a2221",
   "metadata": {},
   "outputs": [
    {
     "data": {
      "text/plain": [
       "[6, 7, 4]"
      ]
     },
     "execution_count": 50,
     "metadata": {},
     "output_type": "execute_result"
    }
   ],
   "source": [
    "movies=['Avatar','Mirapur','2012']\n",
    "[len(i) for i in movies]"
   ]
  },
  {
   "cell_type": "code",
   "execution_count": 54,
   "id": "da92f50c-60d3-4b4a-81f7-a37844d02a56",
   "metadata": {},
   "outputs": [
    {
     "name": "stdout",
     "output_type": "stream",
     "text": [
      "[1, 4, 9, 16, 25, 36, 49, 64, 81, 100]\n"
     ]
    }
   ],
   "source": [
    "li=[i**2 for i in range(1,11)]\n",
    "print(li)"
   ]
  },
  {
   "cell_type": "code",
   "execution_count": 13,
   "id": "b0f242c9-31f3-40ff-a2d1-e25a367a3de2",
   "metadata": {},
   "outputs": [
    {
     "name": "stdin",
     "output_type": "stream",
     "text": [
      "Enter the number : 6\n"
     ]
    },
    {
     "name": "stdout",
     "output_type": "stream",
     "text": [
      "the factorial of 5 is 720\n"
     ]
    }
   ],
   "source": [
    "num= int(input(\"Enter the number :\"))\n",
    "res=1\n",
    "while(num>0):   \n",
    "    res=num*res\n",
    "    num=num-1\n",
    "print(\"the factorial of\",x,\"is\",res)"
   ]
  },
  {
   "cell_type": "code",
   "execution_count": 12,
   "id": "7f9b842d-9859-4e09-acdf-e215c998e578",
   "metadata": {},
   "outputs": [
    {
     "name": "stdin",
     "output_type": "stream",
     "text": [
      "Enter the number :  5\n"
     ]
    },
    {
     "name": "stdout",
     "output_type": "stream",
     "text": [
      "the factorial of 5 is 120\n"
     ]
    }
   ],
   "source": [
    "x=int(input(\"Enter the number : \"))\n",
    "res=1\n",
    "for i in range(1,x+1):\n",
    "    res=res*i\n",
    "print(\"the factorial of\",x,\"is\",res)"
   ]
  },
  {
   "cell_type": "code",
   "execution_count": 14,
   "id": "860f1e43-d9e2-43dc-9b70-4d90fc2d8397",
   "metadata": {},
   "outputs": [
    {
     "name": "stdout",
     "output_type": "stream",
     "text": [
      "2\n",
      "4\n",
      "6\n",
      "8\n"
     ]
    }
   ],
   "source": [
    "for i in range(2,10,2):\n",
    "    print(i)"
   ]
  },
  {
   "cell_type": "code",
   "execution_count": 18,
   "id": "75695860-3ce2-488c-996b-056496ce3522",
   "metadata": {},
   "outputs": [
    {
     "name": "stdout",
     "output_type": "stream",
     "text": [
      "I like  ZX10R\n",
      "I like  S1000rr\n",
      "I like  Aprilia RSV4\n"
     ]
    }
   ],
   "source": [
    "cars=['ZX10R','S1000rr','Aprilia RSV4','RR310']\n",
    "for i in range(3):\n",
    "    print('I like ',cars[i])"
   ]
  },
  {
   "cell_type": "code",
   "execution_count": 19,
   "id": "9a4139f1-b725-4d64-b5b1-bd65fe196180",
   "metadata": {},
   "outputs": [
    {
     "name": "stdout",
     "output_type": "stream",
     "text": [
      "I like  ZX10R\n"
     ]
    }
   ],
   "source": [
    "cars=['ZX10R','S1000rr','Aprilia RSV4','RR310']\n",
    "for i in range(1):\n",
    "    print('I like ',cars[i])"
   ]
  },
  {
   "cell_type": "code",
   "execution_count": 20,
   "id": "ebb379e5-4524-4724-8fd6-b4a8a41da5f1",
   "metadata": {},
   "outputs": [
    {
     "name": "stdin",
     "output_type": "stream",
     "text": [
      "Enter the lower bound: 10\n",
      "Enter the Upper bound:  30\n"
     ]
    },
    {
     "name": "stdout",
     "output_type": "stream",
     "text": [
      "10,12,14,16,18,20,22,24,26,28,30,"
     ]
    }
   ],
   "source": [
    "lowbo=int(input(\"Enter the lower bound:\"))\n",
    "upbo=int(input(\"Enter the Upper bound: \"))\n",
    "for i in range(lowbo,upbo+1):\n",
    "    if(i%2==0):\n",
    "        print(i,end=\",\")"
   ]
  },
  {
   "cell_type": "code",
   "execution_count": 26,
   "id": "c39a6258-afb2-4ae3-bee8-81bb96b13a7a",
   "metadata": {},
   "outputs": [
    {
     "name": "stdout",
     "output_type": "stream",
     "text": [
      "[0, 1, 8, 27, 64, 125, 216, 343]\n"
     ]
    }
   ],
   "source": [
    "li=[]\n",
    "for i in range(8):\n",
    "    li.append(i**3)\n",
    "print(li)"
   ]
  },
  {
   "cell_type": "code",
   "execution_count": 29,
   "id": "06a93260-0176-40a5-92cd-f51ce7639e4f",
   "metadata": {},
   "outputs": [
    {
     "name": "stdin",
     "output_type": "stream",
     "text": [
      "Enter the number : 0\n"
     ]
    },
    {
     "name": "stdout",
     "output_type": "stream",
     "text": [
      "the factorial of 0 is 1\n"
     ]
    }
   ],
   "source": [
    "num= int(input(\"Enter the number :\"))\n",
    "res=1\n",
    "while(num>0):   \n",
    "    res=num*res\n",
    "    num=num-1\n",
    "print(\"the factorial of\",num,\"is\",res)"
   ]
  },
  {
   "cell_type": "code",
   "execution_count": 1,
   "id": "50aa25c6-0de6-4847-a601-fb6897f14dbf",
   "metadata": {},
   "outputs": [
    {
     "name": "stdout",
     "output_type": "stream",
     "text": [
      "x is 8\n",
      "x is 7\n",
      "x is 6\n",
      "x is 5\n",
      "x is 4\n",
      "x is 3\n",
      "x is 2\n",
      "x is no longer <8\n"
     ]
    }
   ],
   "source": [
    "\n",
    "x=8\n",
    "while x>1:\n",
    "    print(\"x is {}\".format(x))\n",
    "    x-=1\n",
    "    if x==9:\n",
    "        break\n",
    "else:\n",
    "    print(\"x is no longer <8\")\n",
    "    "
   ]
  },
  {
   "cell_type": "code",
   "execution_count": 2,
   "id": "e5e25fa4-4aa8-4e94-aec0-4ff106c2e52a",
   "metadata": {},
   "outputs": [
    {
     "name": "stdin",
     "output_type": "stream",
     "text": [
      " 5\n"
     ]
    },
    {
     "name": "stdout",
     "output_type": "stream",
     "text": [
      "120\n"
     ]
    }
   ],
   "source": [
    "#Factorial\n",
    "a=int(input())\n",
    "fact=1\n",
    "for i in range(a,0,-1):\n",
    "    fact=fact*i\n",
    "print(fact)"
   ]
  },
  {
   "cell_type": "code",
   "execution_count": null,
   "id": "0886f195-d8ea-4ef7-9d55-c1da8123b3fa",
   "metadata": {},
   "outputs": [],
   "source": []
  }
 ],
 "metadata": {
  "kernelspec": {
   "display_name": "Python 3 (ipykernel)",
   "language": "python",
   "name": "python3"
  },
  "language_info": {
   "codemirror_mode": {
    "name": "ipython",
    "version": 3
   },
   "file_extension": ".py",
   "mimetype": "text/x-python",
   "name": "python",
   "nbconvert_exporter": "python",
   "pygments_lexer": "ipython3",
   "version": "3.11.7"
  }
 },
 "nbformat": 4,
 "nbformat_minor": 5
}
