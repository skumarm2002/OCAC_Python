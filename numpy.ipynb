{
 "cells": [
  {
   "cell_type": "code",
   "execution_count": 3,
   "id": "65f3754e-bb30-4854-b970-af5525130c23",
   "metadata": {},
   "outputs": [],
   "source": [
    "import numpy as np"
   ]
  },
  {
   "cell_type": "code",
   "execution_count": 4,
   "id": "bca62ade-0bb2-46e1-b5a2-05c5cb50e697",
   "metadata": {},
   "outputs": [],
   "source": [
    "a=np.arange(0,6)"
   ]
  },
  {
   "cell_type": "code",
   "execution_count": 5,
   "id": "0d0da1fe-0381-45df-a032-06167332c5cb",
   "metadata": {},
   "outputs": [
    {
     "data": {
      "text/plain": [
       "array([0, 1, 2, 3, 4, 5])"
      ]
     },
     "execution_count": 5,
     "metadata": {},
     "output_type": "execute_result"
    }
   ],
   "source": [
    "a\n"
   ]
  },
  {
   "cell_type": "code",
   "execution_count": 6,
   "id": "fa88c15f-5049-457b-95ab-fd85d67e5fb8",
   "metadata": {},
   "outputs": [
    {
     "data": {
      "text/plain": [
       "numpy.ndarray"
      ]
     },
     "execution_count": 6,
     "metadata": {},
     "output_type": "execute_result"
    }
   ],
   "source": [
    "type(a)"
   ]
  },
  {
   "cell_type": "code",
   "execution_count": 10,
   "id": "b93b6591-b070-4795-b9eb-bbb15bd2a1d0",
   "metadata": {},
   "outputs": [],
   "source": [
    "b=np.linspace(0,10,7)"
   ]
  },
  {
   "cell_type": "code",
   "execution_count": 11,
   "id": "509a505a-e5b7-4cf8-a6f7-633c2ecb0f39",
   "metadata": {},
   "outputs": [
    {
     "data": {
      "text/plain": [
       "array([ 0.        ,  1.66666667,  3.33333333,  5.        ,  6.66666667,\n",
       "        8.33333333, 10.        ])"
      ]
     },
     "execution_count": 11,
     "metadata": {},
     "output_type": "execute_result"
    }
   ],
   "source": [
    "b"
   ]
  },
  {
   "cell_type": "code",
   "execution_count": 12,
   "id": "67349996-f97f-435d-a091-745e2403f70a",
   "metadata": {},
   "outputs": [],
   "source": [
    "c=np.linspace(0,55,6) #it will generate evenlyspaced number "
   ]
  },
  {
   "cell_type": "code",
   "execution_count": 13,
   "id": "038bf2c6-21ac-4791-b530-a227c7cfb312",
   "metadata": {},
   "outputs": [
    {
     "data": {
      "text/plain": [
       "array([ 0., 11., 22., 33., 44., 55.])"
      ]
     },
     "execution_count": 13,
     "metadata": {},
     "output_type": "execute_result"
    }
   ],
   "source": [
    "c#such as 0 and 11 has diffference "
   ]
  },
  {
   "cell_type": "code",
   "execution_count": 14,
   "id": "14473c40-52c0-4485-badc-1c1884d6ef81",
   "metadata": {},
   "outputs": [],
   "source": [
    "d=np.linspace(0,55,7)"
   ]
  },
  {
   "cell_type": "code",
   "execution_count": 15,
   "id": "76eb63d8-6a42-4849-b9a7-2b80adf4aae0",
   "metadata": {},
   "outputs": [
    {
     "data": {
      "text/plain": [
       "array([ 0.        ,  9.16666667, 18.33333333, 27.5       , 36.66666667,\n",
       "       45.83333333, 55.        ])"
      ]
     },
     "execution_count": 15,
     "metadata": {},
     "output_type": "execute_result"
    }
   ],
   "source": [
    "d"
   ]
  },
  {
   "cell_type": "code",
   "execution_count": 16,
   "id": "158e259f-d3a3-443a-b889-e5c9b6685164",
   "metadata": {},
   "outputs": [],
   "source": [
    "e=np.ones((4,3))"
   ]
  },
  {
   "cell_type": "code",
   "execution_count": 17,
   "id": "71db8c34-90ac-475e-aa27-309900bf8cb4",
   "metadata": {},
   "outputs": [
    {
     "data": {
      "text/plain": [
       "array([[1., 1., 1.],\n",
       "       [1., 1., 1.],\n",
       "       [1., 1., 1.],\n",
       "       [1., 1., 1.]])"
      ]
     },
     "execution_count": 17,
     "metadata": {},
     "output_type": "execute_result"
    }
   ],
   "source": [
    "e"
   ]
  },
  {
   "cell_type": "code",
   "execution_count": 24,
   "id": "0c8f5d4d-c806-4795-a1c9-e2b16374768f",
   "metadata": {},
   "outputs": [],
   "source": [
    "f=np.eye(5)"
   ]
  },
  {
   "cell_type": "code",
   "execution_count": 25,
   "id": "aab93f76-df14-4be8-a646-91c3c33d076a",
   "metadata": {},
   "outputs": [
    {
     "data": {
      "text/plain": [
       "array([[1., 0., 0., 0., 0.],\n",
       "       [0., 1., 0., 0., 0.],\n",
       "       [0., 0., 1., 0., 0.],\n",
       "       [0., 0., 0., 1., 0.],\n",
       "       [0., 0., 0., 0., 1.]])"
      ]
     },
     "execution_count": 25,
     "metadata": {},
     "output_type": "execute_result"
    }
   ],
   "source": [
    "f"
   ]
  },
  {
   "cell_type": "code",
   "execution_count": 4,
   "id": "c151a7a3-e6c3-46ed-b4a7-fff0970ac43e",
   "metadata": {},
   "outputs": [
    {
     "data": {
      "text/plain": [
       "array([[12,  0,  0],\n",
       "       [ 0, 23,  0],\n",
       "       [ 0,  0, 45]])"
      ]
     },
     "execution_count": 4,
     "metadata": {},
     "output_type": "execute_result"
    }
   ],
   "source": [
    "mat=np.diag([12,23,45])\n",
    "mat"
   ]
  },
  {
   "cell_type": "code",
   "execution_count": 5,
   "id": "983d3949-5ab1-4b6d-992f-d7790b352e20",
   "metadata": {},
   "outputs": [
    {
     "data": {
      "text/plain": [
       "array([12, 23, 45])"
      ]
     },
     "execution_count": 5,
     "metadata": {},
     "output_type": "execute_result"
    }
   ],
   "source": [
    "np.diag(mat)"
   ]
  },
  {
   "cell_type": "code",
   "execution_count": 7,
   "id": "ec206e6c-837b-4e2d-882e-05c30178a636",
   "metadata": {},
   "outputs": [
    {
     "data": {
      "text/plain": [
       "array([ 83,  31, 111,  42,  48, 116])"
      ]
     },
     "execution_count": 7,
     "metadata": {},
     "output_type": "execute_result"
    }
   ],
   "source": [
    "random_array=np.random.randint(1,121,6)\n",
    "random_array"
   ]
  },
  {
   "cell_type": "code",
   "execution_count": 9,
   "id": "a475079a-c078-4267-bdac-0c9e06491b34",
   "metadata": {},
   "outputs": [
    {
     "data": {
      "text/plain": [
       "array([0.11434859, 0.33402994, 0.21745836, 0.64269338, 0.81799476,\n",
       "       0.12976467])"
      ]
     },
     "execution_count": 9,
     "metadata": {},
     "output_type": "execute_result"
    }
   ],
   "source": [
    "ar=np.random.rand(6)\n",
    "ar"
   ]
  },
  {
   "cell_type": "code",
   "execution_count": 10,
   "id": "a27a55cc-7145-4533-a94d-eddcf54cd66b",
   "metadata": {},
   "outputs": [],
   "source": [
    "ar1=np.random.randn(10)"
   ]
  },
  {
   "cell_type": "code",
   "execution_count": 11,
   "id": "eefa0eb0-187c-47eb-bcc2-e99eb19f26ee",
   "metadata": {},
   "outputs": [
    {
     "data": {
      "text/plain": [
       "array([ 0.22570628, -0.41787686,  1.41403311, -0.20492151,  0.96784673,\n",
       "        0.13041983,  1.82357076, -1.76191079,  0.08445991, -1.22267286])"
      ]
     },
     "execution_count": 11,
     "metadata": {},
     "output_type": "execute_result"
    }
   ],
   "source": [
    "ar1"
   ]
  },
  {
   "cell_type": "code",
   "execution_count": 13,
   "id": "56d07c2f-c692-4d06-8e3a-453acbfb6b9b",
   "metadata": {},
   "outputs": [],
   "source": [
    "ae=np.array([[1,2,3,4],[22,33,44,55]])"
   ]
  },
  {
   "cell_type": "code",
   "execution_count": 14,
   "id": "b4f1bea5-8035-4146-bdac-2b8bcea363c5",
   "metadata": {},
   "outputs": [
    {
     "data": {
      "text/plain": [
       "array([[ 1,  2,  3,  4],\n",
       "       [22, 33, 44, 55]])"
      ]
     },
     "execution_count": 14,
     "metadata": {},
     "output_type": "execute_result"
    }
   ],
   "source": [
    "ae\n"
   ]
  },
  {
   "cell_type": "code",
   "execution_count": 15,
   "id": "72996c20-413b-44ff-a1b1-2333c9f8b080",
   "metadata": {},
   "outputs": [
    {
     "data": {
      "text/plain": [
       "array([ 0,  1,  2,  3,  4,  5,  6,  7,  8,  9, 10, 11, 12, 13, 14, 15, 16,\n",
       "       17, 18, 19, 20, 21, 22, 23, 24, 25, 26, 27, 28, 29, 30, 31, 32, 33,\n",
       "       34, 35, 36, 37, 38, 39, 40, 41, 42, 43, 44, 45, 46, 47, 48, 49, 50,\n",
       "       51, 52, 53])"
      ]
     },
     "execution_count": 15,
     "metadata": {},
     "output_type": "execute_result"
    }
   ],
   "source": [
    "arr1=np.arange(54)\n",
    "arr1"
   ]
  },
  {
   "cell_type": "code",
   "execution_count": 16,
   "id": "6116ee4a-aa73-4007-a4f8-2701c4e80797",
   "metadata": {},
   "outputs": [],
   "source": [
    "a_1=arr1.reshape(9,6)"
   ]
  },
  {
   "cell_type": "code",
   "execution_count": 17,
   "id": "c6a68030-1ef1-4a94-a3f5-5af6508addcb",
   "metadata": {},
   "outputs": [
    {
     "data": {
      "text/plain": [
       "array([[ 0,  1,  2,  3,  4,  5],\n",
       "       [ 6,  7,  8,  9, 10, 11],\n",
       "       [12, 13, 14, 15, 16, 17],\n",
       "       [18, 19, 20, 21, 22, 23],\n",
       "       [24, 25, 26, 27, 28, 29],\n",
       "       [30, 31, 32, 33, 34, 35],\n",
       "       [36, 37, 38, 39, 40, 41],\n",
       "       [42, 43, 44, 45, 46, 47],\n",
       "       [48, 49, 50, 51, 52, 53]])"
      ]
     },
     "execution_count": 17,
     "metadata": {},
     "output_type": "execute_result"
    }
   ],
   "source": [
    "a_1"
   ]
  },
  {
   "cell_type": "code",
   "execution_count": 18,
   "id": "f911ce78-ff23-4e55-9435-8927d2efb490",
   "metadata": {},
   "outputs": [
    {
     "data": {
      "text/plain": [
       "array([[23, 12,  5],\n",
       "       [34, 11, 23]])"
      ]
     },
     "execution_count": 18,
     "metadata": {},
     "output_type": "execute_result"
    }
   ],
   "source": [
    "a3=np.array([[23,12,5],[34,11,23]])\n",
    "a3"
   ]
  },
  {
   "cell_type": "code",
   "execution_count": 19,
   "id": "5efccffd-3800-4fb6-aef1-dff627a97707",
   "metadata": {},
   "outputs": [
    {
     "data": {
      "text/plain": [
       "array([[23, 11,  5],\n",
       "       [34, 12, 23]])"
      ]
     },
     "execution_count": 19,
     "metadata": {},
     "output_type": "execute_result"
    }
   ],
   "source": [
    "np.sort(a3,axis=0)"
   ]
  },
  {
   "cell_type": "code",
   "execution_count": 20,
   "id": "48de8294-2deb-4f20-89d9-217b00f34a7d",
   "metadata": {},
   "outputs": [
    {
     "data": {
      "text/plain": [
       "array([[ 5, 12, 23],\n",
       "       [11, 23, 34]])"
      ]
     },
     "execution_count": 20,
     "metadata": {},
     "output_type": "execute_result"
    }
   ],
   "source": [
    "np.sort(a3,axis=1)"
   ]
  },
  {
   "cell_type": "code",
   "execution_count": 25,
   "id": "449986af-fa19-4032-b4b5-3f1a8706d5da",
   "metadata": {},
   "outputs": [
    {
     "data": {
      "text/plain": [
       "array([23, 12,  5, 34, 11, 23, 56, 34, 59, 56, 34, 59])"
      ]
     },
     "execution_count": 25,
     "metadata": {},
     "output_type": "execute_result"
    }
   ],
   "source": [
    "a3 = np.append(a3,[56,34,59])\n",
    "a3"
   ]
  },
  {
   "cell_type": "code",
   "execution_count": 27,
   "id": "c0c01834-3579-4d70-bcbb-b9c9b700e0d7",
   "metadata": {},
   "outputs": [
    {
     "data": {
      "text/plain": [
       "array([[23, 12,  5],\n",
       "       [34, 11, 23],\n",
       "       [56, 34, 59],\n",
       "       [56, 34, 59]])"
      ]
     },
     "execution_count": 27,
     "metadata": {},
     "output_type": "execute_result"
    }
   ],
   "source": [
    "a11=a3.reshape(4,3)\n",
    "a11"
   ]
  },
  {
   "cell_type": "code",
   "execution_count": 29,
   "id": "66cb9275-e175-4aad-a3d2-9ef1467f9b06",
   "metadata": {},
   "outputs": [],
   "source": [
    "a11[2,2]=45"
   ]
  },
  {
   "cell_type": "code",
   "execution_count": 30,
   "id": "b64deb64-8dbd-4863-90fd-740ce0b20352",
   "metadata": {},
   "outputs": [
    {
     "data": {
      "text/plain": [
       "array([[23, 12,  5],\n",
       "       [34, 11, 23],\n",
       "       [56, 34, 45],\n",
       "       [56, 34, 59]])"
      ]
     },
     "execution_count": 30,
     "metadata": {},
     "output_type": "execute_result"
    }
   ],
   "source": [
    "a11"
   ]
  },
  {
   "cell_type": "code",
   "execution_count": 31,
   "id": "1e79d9c6-b253-4a35-a51e-9eb40d34921b",
   "metadata": {},
   "outputs": [
    {
     "name": "stdout",
     "output_type": "stream",
     "text": [
      "true\n"
     ]
    }
   ],
   "source": [
    "if a11[0,2]==5:\n",
    "    print(\"true\")\n",
    "else:\n",
    "    print(\"false\")"
   ]
  },
  {
   "cell_type": "code",
   "execution_count": 32,
   "id": "8417e058-3368-4c7d-bacb-799f7d2e51a5",
   "metadata": {},
   "outputs": [
    {
     "data": {
      "text/plain": [
       "array([ 4,  5,  6,  7,  8,  9, 10, 11, 12, 13, 14, 15, 16, 17])"
      ]
     },
     "execution_count": 32,
     "metadata": {},
     "output_type": "execute_result"
    }
   ],
   "source": [
    "l1=np.arange(4,18)\n",
    "l1"
   ]
  },
  {
   "cell_type": "code",
   "execution_count": 36,
   "id": "b9f158d0-7285-46cd-aae9-cf8b62ad117a",
   "metadata": {},
   "outputs": [
    {
     "data": {
      "text/plain": [
       "array([ 4,  7, 10, 13, 16])"
      ]
     },
     "execution_count": 36,
     "metadata": {},
     "output_type": "execute_result"
    }
   ],
   "source": [
    "l1[0:14:3]"
   ]
  },
  {
   "cell_type": "code",
   "execution_count": 3,
   "id": "710dbc6a-42c1-4d09-aff4-6dfe17c3ce68",
   "metadata": {},
   "outputs": [
    {
     "data": {
      "text/plain": [
       "array([ 2, 17, 10, 15, 16])"
      ]
     },
     "execution_count": 3,
     "metadata": {},
     "output_type": "execute_result"
    }
   ],
   "source": [
    "ar1=np.random.randint(0,20,5)\n",
    "ar1"
   ]
  },
  {
   "cell_type": "code",
   "execution_count": 5,
   "id": "351540c0-bf13-4d37-85dd-b2e71881c0c2",
   "metadata": {},
   "outputs": [
    {
     "data": {
      "text/plain": [
       "array([ 2, 10, 16])"
      ]
     },
     "execution_count": 5,
     "metadata": {},
     "output_type": "execute_result"
    }
   ],
   "source": [
    "ar1[ar1%2==0]"
   ]
  },
  {
   "cell_type": "code",
   "execution_count": 8,
   "id": "eeadf433-2ff4-43db-a016-f368ee7232da",
   "metadata": {},
   "outputs": [
    {
     "data": {
      "text/plain": [
       "array([-1, 17, -1, 15, -1])"
      ]
     },
     "execution_count": 8,
     "metadata": {},
     "output_type": "execute_result"
    }
   ],
   "source": [
    "ar1[ar1%2==0]=-1\n",
    "ar1"
   ]
  },
  {
   "cell_type": "code",
   "execution_count": 10,
   "id": "7242366b-5af9-41a8-9bc1-ed455590532d",
   "metadata": {},
   "outputs": [
    {
     "data": {
      "text/plain": [
       "array([98,  9,  4, 24, 25, 48, 56, 93, 57, 54, 75, 23, 17, 29, 20, 25, 67,\n",
       "       87, 49, 13, 54, 17, 30, 49, 90, 56, 51, 66, 14, 39, 36, 49, 37, 98,\n",
       "       76, 92, 59, 75, 22, 95, 69, 13, 66, 14, 70, 16, 39, 59, 87, 86, 91,\n",
       "       42,  9, 20, 29, 38, 80, 23, 44,  0])"
      ]
     },
     "execution_count": 10,
     "metadata": {},
     "output_type": "execute_result"
    }
   ],
   "source": [
    "ar=np.random.randint(0,101,60)\n",
    "ar"
   ]
  },
  {
   "cell_type": "code",
   "execution_count": 15,
   "id": "20d264d6-04c9-463a-9da8-f1fcbd6d4a36",
   "metadata": {},
   "outputs": [
    {
     "data": {
      "text/plain": [
       "array([24, 57, 17, 16,  4, 24, 16, 49, 98, 70])"
      ]
     },
     "execution_count": 15,
     "metadata": {},
     "output_type": "execute_result"
    }
   ],
   "source": [
    "ar[[3,8,21,45,2,3,45,23,33,44]]"
   ]
  },
  {
   "cell_type": "code",
   "execution_count": 17,
   "id": "4b4802bd-6282-46d3-b191-cb147e9434cb",
   "metadata": {},
   "outputs": [
    {
     "data": {
      "text/plain": [
       "array([  98,    9,    4,   24,   25,   48,   56,   93, 1000,   54,   75,\n",
       "         23,   17,   29,   20,   25,   67,   87,   49,   13,   54,   17,\n",
       "         30,   49,   90,   56,   51,   66,   14,   39,   36,   49,   37,\n",
       "         98,   76,   92,   59,   75,   22,   95,   69,   13,   66,   14,\n",
       "         70, 1000,   39,   59,   87,   86,   91,   42,    9,   20,   29,\n",
       "         38,   80,   23,   44,    0])"
      ]
     },
     "execution_count": 17,
     "metadata": {},
     "output_type": "execute_result"
    }
   ],
   "source": [
    "ar[[8,45]]=1000\n",
    "ar\n"
   ]
  },
  {
   "cell_type": "code",
   "execution_count": 21,
   "id": "86501763-1b87-48be-b458-d9cef720b960",
   "metadata": {},
   "outputs": [
    {
     "data": {
      "text/plain": [
       "array([[2, 0, 0, 0],\n",
       "       [0, 3, 0, 0],\n",
       "       [0, 0, 4, 0],\n",
       "       [0, 0, 0, 6]])"
      ]
     },
     "execution_count": 21,
     "metadata": {},
     "output_type": "execute_result"
    }
   ],
   "source": [
    "b=np.diag([2,3,4,6])\n",
    "b"
   ]
  },
  {
   "cell_type": "code",
   "execution_count": 30,
   "id": "93ffee7f-5096-439f-b863-b0eeb284fd3b",
   "metadata": {},
   "outputs": [
    {
     "name": "stdout",
     "output_type": "stream",
     "text": [
      "[[ 4  0  0  0]\n",
      " [ 0  9  0  0]\n",
      " [ 0  0 16  0]\n",
      " [ 0  0  0 36]]\n"
     ]
    }
   ],
   "source": [
    "d=[print(b*b)]"
   ]
  },
  {
   "cell_type": "code",
   "execution_count": 25,
   "id": "2326f966-9c8e-4431-827f-4c81dadd5512",
   "metadata": {},
   "outputs": [
    {
     "name": "stdout",
     "output_type": "stream",
     "text": [
      "[[  8   0   0   0]\n",
      " [  0  27   0   0]\n",
      " [  0   0  64   0]\n",
      " [  0   0   0 216]]\n"
     ]
    }
   ],
   "source": [
    "print(b**3)"
   ]
  },
  {
   "cell_type": "code",
   "execution_count": 73,
   "id": "b8320dd3-1cf6-43ea-8a71-fb3ebdef6103",
   "metadata": {},
   "outputs": [
    {
     "data": {
      "text/plain": [
       "array([[19, 23],\n",
       "       [59, 63]])"
      ]
     },
     "execution_count": 73,
     "metadata": {},
     "output_type": "execute_result"
    }
   ],
   "source": [
    "a=np.array([[1,2,3],[5,6,7]])\n",
    "b=np.array([[3,2],[5,3],[2,5]])\n",
    "np.matmul(a,b)"
   ]
  },
  {
   "cell_type": "code",
   "execution_count": 41,
   "id": "2b1bd08b-2d1b-44be-a7ca-ec866b604125",
   "metadata": {},
   "outputs": [
    {
     "data": {
      "text/plain": [
       "array([[37, 48, 71],\n",
       "       [48, 63, 92],\n",
       "       [53, 68, 95]])"
      ]
     },
     "execution_count": 41,
     "metadata": {},
     "output_type": "execute_result"
    }
   ],
   "source": [
    "np.matmul(b,a)"
   ]
  },
  {
   "cell_type": "code",
   "execution_count": 43,
   "id": "a777f26b-85bc-44a7-95c5-ac4ef280278d",
   "metadata": {},
   "outputs": [
    {
     "data": {
      "text/plain": [
       "array([[30, 34],\n",
       "       [44, 50]])"
      ]
     },
     "execution_count": 43,
     "metadata": {},
     "output_type": "execute_result"
    }
   ],
   "source": [
    "c=np.array([[1,3],[2,4]])\n",
    "d=np.array([[6,7],[8,9]])\n",
    "np.matmul(c,d)"
   ]
  },
  {
   "cell_type": "code",
   "execution_count": 44,
   "id": "10925ca3-9521-4c0b-b109-b24436558ad1",
   "metadata": {},
   "outputs": [
    {
     "data": {
      "text/plain": [
       "array([[20, 46],\n",
       "       [26, 60]])"
      ]
     },
     "execution_count": 44,
     "metadata": {},
     "output_type": "execute_result"
    }
   ],
   "source": [
    "np.matmul(d,c)"
   ]
  },
  {
   "cell_type": "code",
   "execution_count": 50,
   "id": "ee9322aa-ff7e-45a2-90cb-cc8569e29d6e",
   "metadata": {},
   "outputs": [
    {
     "data": {
      "text/plain": [
       "array([False, False,  True,  True])"
      ]
     },
     "execution_count": 50,
     "metadata": {},
     "output_type": "execute_result"
    }
   ],
   "source": [
    "e=np.array([1,2,3,4])\n",
    "f=np.array([4,5,3,4])\n",
    "e==f\n"
   ]
  },
  {
   "cell_type": "code",
   "execution_count": 51,
   "id": "99ecb0d5-dad8-44b0-923d-c480eab01922",
   "metadata": {},
   "outputs": [
    {
     "data": {
      "text/plain": [
       "array([ True,  True,  True, False])"
      ]
     },
     "execution_count": 51,
     "metadata": {},
     "output_type": "execute_result"
    }
   ],
   "source": [
    "a=np.array([1,1,0,0], dtype=bool)\n",
    "b=np.array([1,0,1,0], dtype=bool)\n",
    "np.logical_or(a,b)\n"
   ]
  },
  {
   "cell_type": "code",
   "execution_count": 62,
   "id": "626d025b-906b-4bbe-9713-b9d0182c7c9e",
   "metadata": {},
   "outputs": [
    {
     "data": {
      "text/plain": [
       "array([2, 1, 1, 0])"
      ]
     },
     "execution_count": 62,
     "metadata": {},
     "output_type": "execute_result"
    }
   ],
   "source": [
    "a=np.array([1,1,0,0], dtype=int)\n",
    "b=np.array([1,0,1,0], dtype=int)\n",
    "a+b\n",
    "#np.logical_or(a,b)\n"
   ]
  },
  {
   "cell_type": "code",
   "execution_count": 58,
   "id": "49db1774-c5ee-4f88-ac5a-a26446ced4f6",
   "metadata": {},
   "outputs": [
    {
     "data": {
      "text/plain": [
       "array([2, 1, 1, 0])"
      ]
     },
     "execution_count": 58,
     "metadata": {},
     "output_type": "execute_result"
    }
   ],
   "source": [
    "a+b"
   ]
  },
  {
   "cell_type": "code",
   "execution_count": 63,
   "id": "43928b42-7489-429b-9d26-cec42ac7d302",
   "metadata": {},
   "outputs": [],
   "source": [
    "a=np.array([2,1,0,0], dtype=bool)\n",
    "b=np.array([1,3,1,4], dtype=bool)"
   ]
  },
  {
   "cell_type": "code",
   "execution_count": 64,
   "id": "ce0c4ba1-41c9-4391-89c4-2aa59697b7a5",
   "metadata": {},
   "outputs": [
    {
     "data": {
      "text/plain": [
       "array([ True,  True,  True,  True])"
      ]
     },
     "execution_count": 64,
     "metadata": {},
     "output_type": "execute_result"
    }
   ],
   "source": [
    "a+b"
   ]
  },
  {
   "cell_type": "code",
   "execution_count": 65,
   "id": "7fd21654-37fb-46a3-8650-7126ea30eebd",
   "metadata": {},
   "outputs": [
    {
     "data": {
      "text/plain": [
       "array([3., 4., 1., 4.])"
      ]
     },
     "execution_count": 65,
     "metadata": {},
     "output_type": "execute_result"
    }
   ],
   "source": [
    "a=np.array([2,1,0,0], dtype=float)\n",
    "b=np.array([1,3,1,4], dtype=float)\n",
    "a+b"
   ]
  },
  {
   "cell_type": "code",
   "execution_count": 74,
   "id": "7ff5d1af-1cb1-4dad-b9a9-7c75424d6247",
   "metadata": {},
   "outputs": [
    {
     "data": {
      "text/plain": [
       "18"
      ]
     },
     "execution_count": 74,
     "metadata": {},
     "output_type": "execute_result"
    }
   ],
   "source": [
    "y=np.array([3,4,5,6])\n",
    "np.sum(y)"
   ]
  },
  {
   "cell_type": "code",
   "execution_count": 76,
   "id": "755455da-4f86-42e8-90fa-b8045b8a2116",
   "metadata": {},
   "outputs": [
    {
     "data": {
      "text/plain": [
       "array([4, 6])"
      ]
     },
     "execution_count": 76,
     "metadata": {},
     "output_type": "execute_result"
    }
   ],
   "source": [
    "x=np.array([[1,2],[3,4]])\n",
    "np.sum(x,axis=0)"
   ]
  },
  {
   "cell_type": "code",
   "execution_count": 77,
   "id": "9c4fbf6a-6dfc-44dc-9b84-176fefa6853d",
   "metadata": {},
   "outputs": [
    {
     "data": {
      "text/plain": [
       "10"
      ]
     },
     "execution_count": 77,
     "metadata": {},
     "output_type": "execute_result"
    }
   ],
   "source": [
    "x.sum()"
   ]
  },
  {
   "cell_type": "code",
   "execution_count": 79,
   "id": "8fa8fdef-54ec-4cae-bd24-e18e8ee9a1c9",
   "metadata": {},
   "outputs": [
    {
     "data": {
      "text/plain": [
       "10"
      ]
     },
     "execution_count": 79,
     "metadata": {},
     "output_type": "execute_result"
    }
   ],
   "source": [
    "np.sum(x)"
   ]
  },
  {
   "cell_type": "code",
   "execution_count": 81,
   "id": "ea9fbb27-d433-429f-859c-b5a50f05d65e",
   "metadata": {},
   "outputs": [
    {
     "data": {
      "text/plain": [
       "3"
      ]
     },
     "execution_count": 81,
     "metadata": {},
     "output_type": "execute_result"
    }
   ],
   "source": [
    "z=np.array([3,5,6])\n",
    "z.min()"
   ]
  },
  {
   "cell_type": "code",
   "execution_count": 83,
   "id": "a9ffa1cc-6359-4e09-a947-f979276d5861",
   "metadata": {},
   "outputs": [
    {
     "data": {
      "text/plain": [
       "0"
      ]
     },
     "execution_count": 83,
     "metadata": {},
     "output_type": "execute_result"
    }
   ],
   "source": [
    "np.argmin(z) # this is for min and for max only the min will be replaced with max\n"
   ]
  },
  {
   "cell_type": "code",
   "execution_count": 4,
   "id": "aae0788a-36a0-42fc-9c5c-d960c9c6e900",
   "metadata": {},
   "outputs": [
    {
     "data": {
      "text/plain": [
       "array([-0.86955803, -0.95597742,  1.02890116,  0.6839984 , -0.84459969,\n",
       "        1.15286955,  0.19277423,  0.74805785, -0.55453132, -2.16956283])"
      ]
     },
     "execution_count": 4,
     "metadata": {},
     "output_type": "execute_result"
    }
   ],
   "source": [
    "a=np.random.randn(10)\n",
    "a"
   ]
  },
  {
   "cell_type": "code",
   "execution_count": 5,
   "id": "067c3de4-d760-470b-84b0-059730ceae8c",
   "metadata": {},
   "outputs": [
    {
     "data": {
      "text/plain": [
       "array([0.        , 0.84147098, 0.90929743, 0.14112001])"
      ]
     },
     "execution_count": 5,
     "metadata": {},
     "output_type": "execute_result"
    }
   ],
   "source": [
    "ar_2=np.arange(4)\n",
    "np.sin(ar_2)"
   ]
  },
  {
   "cell_type": "code",
   "execution_count": 6,
   "id": "91f1e966-4eaa-413d-9f2f-a94de7f07586",
   "metadata": {},
   "outputs": [
    {
     "name": "stderr",
     "output_type": "stream",
     "text": [
      "C:\\Users\\Dell Pc\\AppData\\Local\\Temp\\ipykernel_10000\\1942121967.py:1: RuntimeWarning: divide by zero encountered in log\n",
      "  np.log(ar_2)\n"
     ]
    },
    {
     "data": {
      "text/plain": [
       "array([      -inf, 0.        , 0.69314718, 1.09861229])"
      ]
     },
     "execution_count": 6,
     "metadata": {},
     "output_type": "execute_result"
    }
   ],
   "source": [
    "np.log(ar_2)"
   ]
  },
  {
   "cell_type": "code",
   "execution_count": 7,
   "id": "91404467-30d3-4913-b763-7f2f26049e69",
   "metadata": {},
   "outputs": [
    {
     "data": {
      "text/plain": [
       "array([ 1.        ,  2.71828183,  7.3890561 , 20.08553692])"
      ]
     },
     "execution_count": 7,
     "metadata": {},
     "output_type": "execute_result"
    }
   ],
   "source": [
    "np.exp(ar_2)"
   ]
  },
  {
   "cell_type": "code",
   "execution_count": 8,
   "id": "85f330db-bff4-4d1c-8ccf-d9bef1773aa2",
   "metadata": {},
   "outputs": [
    {
     "data": {
      "text/plain": [
       "array([ 3, 10,  8, 14, 16])"
      ]
     },
     "execution_count": 8,
     "metadata": {},
     "output_type": "execute_result"
    }
   ],
   "source": [
    "y=np.array([[1,3,4,6,7],[2,7,4,8,9]])\n",
    "y.sum(axis=0)\n"
   ]
  },
  {
   "cell_type": "code",
   "execution_count": 9,
   "id": "cd9273f1-798a-4eeb-802d-53a9b5fe8d9c",
   "metadata": {},
   "outputs": [
    {
     "data": {
      "text/plain": [
       "array([21, 30])"
      ]
     },
     "execution_count": 9,
     "metadata": {},
     "output_type": "execute_result"
    }
   ],
   "source": [
    "y.sum(axis=1)"
   ]
  },
  {
   "cell_type": "code",
   "execution_count": 13,
   "id": "eef7cf13-9062-4ac4-ac4f-61d863e330fa",
   "metadata": {},
   "outputs": [
    {
     "name": "stdout",
     "output_type": "stream",
     "text": [
      "Array is  [ 3  5  7  9 11 13 15 17 19 21 23 25 27 29 31 33 35 37 39 41 43 45 47 49\n",
      " 51 53]\n",
      "Max element in the array is  53\n",
      "Min element in the array is  3\n",
      "Sum of all the elements of the array is  728\n",
      "Mean of elements present in the array is  28.0\n",
      "Median of the elements present in the array is  28.0\n",
      "Standard deviation of elements in the array is  15.0\n"
     ]
    }
   ],
   "source": [
    "arr=np.arange(3,55,2)\n",
    "print('Array is ',format(arr))\n",
    "\n",
    "print('Max element in the array is ',np.max(arr))\n",
    "\n",
    "print('Min element in the array is ',np.min(arr))\n",
    "\n",
    "print('Sum of all the elements of the array is ',np.sum(arr))\n",
    "\n",
    "print('Mean of elements present in the array is ',np.mean(arr))\n",
    "\n",
    "print('Median of the elements present in the array is ',np.median(arr))\n",
    "\n",
    "print('Standard deviation of elements in the array is ',np.std(arr))"
   ]
  },
  {
   "cell_type": "code",
   "execution_count": null,
   "id": "c58608b6-391a-4e74-89b7-bb7ed9c5da59",
   "metadata": {},
   "outputs": [],
   "source": []
  }
 ],
 "metadata": {
  "kernelspec": {
   "display_name": "Python 3 (ipykernel)",
   "language": "python",
   "name": "python3"
  },
  "language_info": {
   "codemirror_mode": {
    "name": "ipython",
    "version": 3
   },
   "file_extension": ".py",
   "mimetype": "text/x-python",
   "name": "python",
   "nbconvert_exporter": "python",
   "pygments_lexer": "ipython3",
   "version": "3.11.7"
  }
 },
 "nbformat": 4,
 "nbformat_minor": 5
}
