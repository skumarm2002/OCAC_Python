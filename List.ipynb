{
 "cells": [
  {
   "cell_type": "code",
   "execution_count": 1,
   "id": "d836b99b-5d60-4e84-9af1-04656c35ad05",
   "metadata": {},
   "outputs": [
    {
     "data": {
      "text/plain": [
       "[]"
      ]
     },
     "execution_count": 1,
     "metadata": {},
     "output_type": "execute_result"
    }
   ],
   "source": [
    "li=[]\n",
    "li"
   ]
  },
  {
   "cell_type": "code",
   "execution_count": 2,
   "id": "72253223-8e37-4e56-b60a-895449a48f8a",
   "metadata": {},
   "outputs": [
    {
     "data": {
      "text/plain": [
       "[]"
      ]
     },
     "execution_count": 2,
     "metadata": {},
     "output_type": "execute_result"
    }
   ],
   "source": [
    "li=list()\n",
    "li"
   ]
  },
  {
   "cell_type": "code",
   "execution_count": 3,
   "id": "8ce53e7f-9e6a-4c4b-9980-21a2280a3a58",
   "metadata": {},
   "outputs": [
    {
     "data": {
      "text/plain": [
       "[3, 4, 5]"
      ]
     },
     "execution_count": 3,
     "metadata": {},
     "output_type": "execute_result"
    }
   ],
   "source": [
    "li=[3,4,5]\n",
    "li"
   ]
  },
  {
   "cell_type": "code",
   "execution_count": 4,
   "id": "b58859d0-d499-4807-9c62-c0b79bf52b32",
   "metadata": {},
   "outputs": [
    {
     "data": {
      "text/plain": [
       "list"
      ]
     },
     "execution_count": 4,
     "metadata": {},
     "output_type": "execute_result"
    }
   ],
   "source": [
    "type(li)"
   ]
  },
  {
   "cell_type": "code",
   "execution_count": 5,
   "id": "5cabd0f0-6f2f-444d-87ff-fd8e1744ca40",
   "metadata": {},
   "outputs": [
    {
     "data": {
      "text/plain": [
       "[3, 4.5, True, 'OCAC', '2']"
      ]
     },
     "execution_count": 5,
     "metadata": {},
     "output_type": "execute_result"
    }
   ],
   "source": [
    "li=[3,4.5,True,'OCAC','2']\n",
    "li"
   ]
  },
  {
   "cell_type": "code",
   "execution_count": 6,
   "id": "143a4963-f197-4f1d-9433-5b0c83e2bd4c",
   "metadata": {},
   "outputs": [
    {
     "data": {
      "text/plain": [
       "[[2, 4], [5, 6], [3, 0]]"
      ]
     },
     "execution_count": 6,
     "metadata": {},
     "output_type": "execute_result"
    }
   ],
   "source": [
    "l1=[[2,4],[5,6],[3,0]]\n",
    "l1"
   ]
  },
  {
   "cell_type": "code",
   "execution_count": 7,
   "id": "557a9f78-43cc-4ce3-918f-6d7cd0ebfed8",
   "metadata": {},
   "outputs": [
    {
     "data": {
      "text/plain": [
       "3"
      ]
     },
     "execution_count": 7,
     "metadata": {},
     "output_type": "execute_result"
    }
   ],
   "source": [
    "len(l1)"
   ]
  },
  {
   "cell_type": "code",
   "execution_count": 8,
   "id": "fea0477c-497b-4f86-9a3e-5a462d7212bd",
   "metadata": {},
   "outputs": [
    {
     "data": {
      "text/plain": [
       "5"
      ]
     },
     "execution_count": 8,
     "metadata": {},
     "output_type": "execute_result"
    }
   ],
   "source": [
    "len(li)"
   ]
  },
  {
   "cell_type": "code",
   "execution_count": 10,
   "id": "87211b60-5c67-4000-b744-2d339beef420",
   "metadata": {},
   "outputs": [],
   "source": [
    "l2=[1,0,8.9,True,False,'sk','sd']"
   ]
  },
  {
   "cell_type": "code",
   "execution_count": 12,
   "id": "a6e95eb9-f621-4fdd-982a-374a0398b9db",
   "metadata": {},
   "outputs": [
    {
     "name": "stdout",
     "output_type": "stream",
     "text": [
      "7\n"
     ]
    }
   ],
   "source": [
    "print(len(l2))"
   ]
  },
  {
   "cell_type": "code",
   "execution_count": 14,
   "id": "cfdd7ff3-a755-4399-a4bf-2e8cf5e7d868",
   "metadata": {},
   "outputs": [
    {
     "data": {
      "text/plain": [
       "28"
      ]
     },
     "execution_count": 14,
     "metadata": {},
     "output_type": "execute_result"
    }
   ],
   "source": [
    "newl=[28,45,'false']\n",
    "newl[0]"
   ]
  },
  {
   "cell_type": "code",
   "execution_count": 16,
   "id": "5376f9f0-e311-40e2-b664-7f78b9a0ba60",
   "metadata": {},
   "outputs": [
    {
     "name": "stdout",
     "output_type": "stream",
     "text": [
      "[2.3, 4, 5, 8, 56, 23, 145]\n"
     ]
    }
   ],
   "source": [
    "fl=[2.3,4,5,8,56,23,145]\n",
    "print(fl[:])"
   ]
  },
  {
   "cell_type": "code",
   "execution_count": 17,
   "id": "4ae77edf-d372-4c72-b69c-42e59360c230",
   "metadata": {},
   "outputs": [
    {
     "name": "stdout",
     "output_type": "stream",
     "text": [
      "[2.3, 4, 5, 8, 56, 23, 145]\n"
     ]
    }
   ],
   "source": [
    "print(fl[0:])"
   ]
  },
  {
   "cell_type": "code",
   "execution_count": 18,
   "id": "331edbf9-0133-492a-9ec8-ee8762451943",
   "metadata": {},
   "outputs": [
    {
     "name": "stdout",
     "output_type": "stream",
     "text": [
      "[2.3, 4, 5]\n"
     ]
    }
   ],
   "source": [
    "print(fl[:3])"
   ]
  },
  {
   "cell_type": "code",
   "execution_count": 20,
   "id": "949094ac-4b8d-47c4-aded-6658f092f797",
   "metadata": {},
   "outputs": [
    {
     "name": "stdout",
     "output_type": "stream",
     "text": [
      "[2.3, 8, 145]\n"
     ]
    }
   ],
   "source": [
    "print(fl[::3])"
   ]
  },
  {
   "cell_type": "code",
   "execution_count": 21,
   "id": "69235052-e535-4ce3-b4fb-f96b0374d4e8",
   "metadata": {},
   "outputs": [
    {
     "name": "stdout",
     "output_type": "stream",
     "text": [
      "[5, 145]\n"
     ]
    }
   ],
   "source": [
    "print(fl[2::4])"
   ]
  },
  {
   "cell_type": "code",
   "execution_count": 22,
   "id": "4f1d5b19-38e7-43fb-b1ef-a1104dd4f4f4",
   "metadata": {},
   "outputs": [
    {
     "name": "stdout",
     "output_type": "stream",
     "text": [
      "[4, 8]\n"
     ]
    }
   ],
   "source": [
    "print(fl[1:5:2])"
   ]
  },
  {
   "cell_type": "code",
   "execution_count": 23,
   "id": "af9b11d9-284c-4ef6-84ea-7d4fbf01ca5f",
   "metadata": {},
   "outputs": [
    {
     "name": "stdout",
     "output_type": "stream",
     "text": [
      "[145, 23, 56, 8, 5, 4, 2.3]\n"
     ]
    }
   ],
   "source": [
    "print(fl[-1::-1])"
   ]
  },
  {
   "cell_type": "code",
   "execution_count": 24,
   "id": "52a6c2a4-29d5-4a57-9932-7a4ea250931d",
   "metadata": {},
   "outputs": [
    {
     "data": {
      "text/plain": [
       "[1, 4, 6, [4, 9, ['sk', 4, 34]]]"
      ]
     },
     "execution_count": 24,
     "metadata": {},
     "output_type": "execute_result"
    }
   ],
   "source": [
    "ls=[1,4,6,[4,9,['sk',4,34,]]]\n",
    "ls"
   ]
  },
  {
   "cell_type": "code",
   "execution_count": 25,
   "id": "f5456fed-13d0-44ab-ae66-70b0ed92a161",
   "metadata": {},
   "outputs": [
    {
     "data": {
      "text/plain": [
       "4"
      ]
     },
     "execution_count": 25,
     "metadata": {},
     "output_type": "execute_result"
    }
   ],
   "source": [
    "len(ls)"
   ]
  },
  {
   "cell_type": "code",
   "execution_count": 31,
   "id": "c1b39abe-3b1c-4a8e-9a13-117b7b0c8e9b",
   "metadata": {},
   "outputs": [
    {
     "data": {
      "text/plain": [
       "'sk'"
      ]
     },
     "execution_count": 31,
     "metadata": {},
     "output_type": "execute_result"
    }
   ],
   "source": [
    "ls[3][2][0]"
   ]
  },
  {
   "cell_type": "code",
   "execution_count": 32,
   "id": "acfe833e-686a-404f-8e3b-02f8f1a39814",
   "metadata": {},
   "outputs": [
    {
     "data": {
      "text/plain": [
       "9"
      ]
     },
     "execution_count": 32,
     "metadata": {},
     "output_type": "execute_result"
    }
   ],
   "source": [
    "ls[3][1]"
   ]
  },
  {
   "cell_type": "code",
   "execution_count": 33,
   "id": "a1497755-1b7a-4dbc-9708-3cb78e037d3b",
   "metadata": {},
   "outputs": [
    {
     "data": {
      "text/plain": [
       "[1, 2, 4, 0.3, 3.4, 2, 3, 5, 7.8, 5.6]"
      ]
     },
     "execution_count": 33,
     "metadata": {},
     "output_type": "execute_result"
    }
   ],
   "source": [
    "ls1=[1,2,4,0.3,3.4]\n",
    "ls2=[2,3,5,7.8,5.6]\n",
    "ls1+ls2"
   ]
  },
  {
   "cell_type": "code",
   "execution_count": 35,
   "id": "3174281b-5607-4c25-8f58-f47f20598a5d",
   "metadata": {},
   "outputs": [
    {
     "name": "stdout",
     "output_type": "stream",
     "text": [
      "['sk', 'rp', 'sss', 'ss']\n"
     ]
    }
   ],
   "source": [
    "ls_1=['sk','rp','sss']\n",
    "ls_1.append('ss')\n",
    "print(ls_1)"
   ]
  },
  {
   "cell_type": "code",
   "execution_count": 36,
   "id": "24f7e04b-d431-4c22-9242-0e390e2486f7",
   "metadata": {},
   "outputs": [
    {
     "name": "stdout",
     "output_type": "stream",
     "text": [
      "['sk', 'rp', 'sss', 'ss', [3, 4, 5]]\n"
     ]
    }
   ],
   "source": [
    "ls_1.append([3,4,5])\n",
    "print(ls_1)"
   ]
  },
  {
   "cell_type": "code",
   "execution_count": 37,
   "id": "b6d2036f-a9d5-4acc-b61c-0583c760acb1",
   "metadata": {},
   "outputs": [
    {
     "name": "stdout",
     "output_type": "stream",
     "text": [
      "['sk', 'rp', 'sss', 'ss', [3, 4, 5], 3, 4]\n"
     ]
    }
   ],
   "source": [
    "ls_1.extend([3,4])\n",
    "print(ls_1)"
   ]
  },
  {
   "cell_type": "code",
   "execution_count": 39,
   "id": "9f73e97f-e98e-474c-8282-cf1966f418ce",
   "metadata": {},
   "outputs": [
    {
     "name": "stdout",
     "output_type": "stream",
     "text": [
      "['sk', 'rp', 'sss', 'ss', [3, 4, 5], 3, 4, [3, 4, 5], 3, 4, 5]\n"
     ]
    }
   ],
   "source": [
    "ls_1.extend([3,4,5])\n",
    "print(ls_1)"
   ]
  },
  {
   "cell_type": "code",
   "execution_count": 41,
   "id": "0f219f59-47cd-4aff-8f17-d080f4da5071",
   "metadata": {},
   "outputs": [
    {
     "data": {
      "text/plain": [
       "['sk', 'rp', 'sss', 'ss', 3, 4, 3, 4, 5]"
      ]
     },
     "execution_count": 41,
     "metadata": {},
     "output_type": "execute_result"
    }
   ],
   "source": [
    "ls_1.remove([3,4,5])\n",
    "ls_1"
   ]
  },
  {
   "cell_type": "code",
   "execution_count": 44,
   "id": "5fe14bc3-996e-4858-a54f-ffa9dc0171e1",
   "metadata": {},
   "outputs": [
    {
     "data": {
      "text/plain": [
       "['sk', 'rp', 'sss', 'ss', 4, 4, 5]"
      ]
     },
     "execution_count": 44,
     "metadata": {},
     "output_type": "execute_result"
    }
   ],
   "source": [
    "ls_1.remove(3)\n",
    "ls_1"
   ]
  },
  {
   "cell_type": "code",
   "execution_count": 46,
   "id": "0ebac460-7e00-40f4-9e90-39eea3a571f5",
   "metadata": {},
   "outputs": [
    {
     "data": {
      "text/plain": [
       "['sk', 'rp', 'sss', 'ss', 4, 5]"
      ]
     },
     "execution_count": 46,
     "metadata": {},
     "output_type": "execute_result"
    }
   ],
   "source": [
    "ls_1.remove(4)\n",
    "ls_1"
   ]
  },
  {
   "cell_type": "code",
   "execution_count": 47,
   "id": "63e272ab-f386-4d1f-a81b-da548175b06f",
   "metadata": {},
   "outputs": [
    {
     "name": "stdout",
     "output_type": "stream",
     "text": [
      "[]\n"
     ]
    }
   ],
   "source": [
    "x=['ss','sdf','dfg',]\n",
    "x.clear()\n",
    "print(x)"
   ]
  },
  {
   "cell_type": "code",
   "execution_count": 48,
   "id": "e16dee69-8131-4890-bd89-b53442f86598",
   "metadata": {},
   "outputs": [
    {
     "data": {
      "text/plain": [
       "['sk', 'rp', 'sss', 'ss', 4]"
      ]
     },
     "execution_count": 48,
     "metadata": {},
     "output_type": "execute_result"
    }
   ],
   "source": [
    "ls_1.pop(5)\n",
    "ls_1"
   ]
  },
  {
   "cell_type": "code",
   "execution_count": 53,
   "id": "ebf8972b-4975-404f-b438-643034c97559",
   "metadata": {},
   "outputs": [
    {
     "name": "stdout",
     "output_type": "stream",
     "text": [
      "['sss', 'ss', 4]\n"
     ]
    }
   ],
   "source": [
    "ls_1.pop(0)\n",
    "print(ls_1)"
   ]
  },
  {
   "cell_type": "code",
   "execution_count": 54,
   "id": "14a82884-0760-45a4-a543-850e9624dd79",
   "metadata": {},
   "outputs": [
    {
     "data": {
      "text/plain": [
       "['sss', 'ss', 4]"
      ]
     },
     "execution_count": 54,
     "metadata": {},
     "output_type": "execute_result"
    }
   ],
   "source": [
    "ls_1"
   ]
  },
  {
   "cell_type": "code",
   "execution_count": 56,
   "id": "a89ceec0-42e3-4ea3-a4bd-7dc8b9cc8a59",
   "metadata": {},
   "outputs": [
    {
     "name": "stdout",
     "output_type": "stream",
     "text": [
      "[1, 3, 4, 'al', 'sk']\n"
     ]
    }
   ],
   "source": [
    "l3=[1,2,3,4,'al','sk']\n",
    "del l3[1]\n",
    "print(l3)"
   ]
  },
  {
   "cell_type": "code",
   "execution_count": 58,
   "id": "0d7f824b-2127-424f-abac-4e103bf6d6c9",
   "metadata": {},
   "outputs": [
    {
     "name": "stdout",
     "output_type": "stream",
     "text": [
      "['kgk', 'jkjl', 45, 23, 4, 2, 3, 1]\n"
     ]
    }
   ],
   "source": [
    "mks=[1,3,2,4,23,45,'jkjl','kgk']\n",
    "mks.reverse()\n",
    "print(mks)"
   ]
  },
  {
   "cell_type": "code",
   "execution_count": 61,
   "id": "50a625d9-7927-43c1-9b82-6673803dd924",
   "metadata": {},
   "outputs": [
    {
     "data": {
      "text/plain": [
       "[1, 3, 34, 45, 234]"
      ]
     },
     "execution_count": 61,
     "metadata": {},
     "output_type": "execute_result"
    }
   ],
   "source": [
    "num=[1,3,234,45,34]\n",
    "sorted(num)\n"
   ]
  },
  {
   "cell_type": "code",
   "execution_count": 62,
   "id": "180955a2-2692-49e3-8b39-c196d778ff8d",
   "metadata": {},
   "outputs": [
    {
     "data": {
      "text/plain": [
       "[234, 45, 34, 3, 1]"
      ]
     },
     "execution_count": 62,
     "metadata": {},
     "output_type": "execute_result"
    }
   ],
   "source": [
    "sorted(num,reverse=True)"
   ]
  },
  {
   "cell_type": "code",
   "execution_count": 64,
   "id": "eab74a58-9874-4873-bf4a-bc58a1f579c2",
   "metadata": {},
   "outputs": [
    {
     "data": {
      "text/plain": [
       "[1, 3, 34, 45, 234]"
      ]
     },
     "execution_count": 64,
     "metadata": {},
     "output_type": "execute_result"
    }
   ],
   "source": [
    "num.sort()\n",
    "num"
   ]
  },
  {
   "cell_type": "code",
   "execution_count": 66,
   "id": "c189ecb1-0f0a-41e0-a235-7a907bb42d30",
   "metadata": {},
   "outputs": [
    {
     "name": "stdout",
     "output_type": "stream",
     "text": [
      "3\n",
      "2\n"
     ]
    }
   ],
   "source": [
    "z=[1,3,4,2,1,3,5,9,4,5,6,4,44]\n",
    "print(z.count(4))\n",
    "print(z.count(5))"
   ]
  },
  {
   "cell_type": "code",
   "execution_count": 70,
   "id": "d899edc3-fbb1-4ed0-a28c-7fa086b31cc4",
   "metadata": {},
   "outputs": [
    {
     "name": "stdout",
     "output_type": "stream",
     "text": [
      "[1, 3, 4, 2, 1, 3, 5, 9, 4, 5, 6, 4, 44]\n"
     ]
    }
   ],
   "source": [
    "z2=z.copy()\n",
    "print(z2)"
   ]
  },
  {
   "cell_type": "code",
   "execution_count": 72,
   "id": "8392b03b-e46e-4913-81ad-205c6dd94d00",
   "metadata": {},
   "outputs": [
    {
     "name": "stdout",
     "output_type": "stream",
     "text": [
      "[1, 3, 4, 2, 1, 3, 5, 9, 4, 5, 6, 4, 44]\n",
      "[1, 4, 2, 1, 3, 5, 9, 4, 5, 6, 4, 44, 66]\n"
     ]
    }
   ],
   "source": [
    "z2.remove(3)\n",
    "print(z)\n",
    "print(z2)\n"
   ]
  },
  {
   "cell_type": "code",
   "execution_count": 73,
   "id": "a694a0b6-e5c3-4964-aa59-a8abc8b7a1fa",
   "metadata": {},
   "outputs": [
    {
     "data": {
      "text/plain": [
       "1"
      ]
     },
     "execution_count": 73,
     "metadata": {},
     "output_type": "execute_result"
    }
   ],
   "source": [
    "min(z2)"
   ]
  },
  {
   "cell_type": "code",
   "execution_count": 74,
   "id": "99bc44af-ab35-4dea-8e00-244c3f8cc85b",
   "metadata": {},
   "outputs": [
    {
     "data": {
      "text/plain": [
       "44"
      ]
     },
     "execution_count": 74,
     "metadata": {},
     "output_type": "execute_result"
    }
   ],
   "source": [
    "max(z)"
   ]
  },
  {
   "cell_type": "code",
   "execution_count": 75,
   "id": "3d9e984d-093d-4fdb-bac2-8bc68f54b926",
   "metadata": {},
   "outputs": [
    {
     "data": {
      "text/plain": [
       "154"
      ]
     },
     "execution_count": 75,
     "metadata": {},
     "output_type": "execute_result"
    }
   ],
   "source": [
    "sum(z2)"
   ]
  },
  {
   "cell_type": "code",
   "execution_count": null,
   "id": "a473a3ba-115a-4e2e-bb9d-2415d0f6fb9a",
   "metadata": {},
   "outputs": [],
   "source": []
  }
 ],
 "metadata": {
  "kernelspec": {
   "display_name": "Python 3 (ipykernel)",
   "language": "python",
   "name": "python3"
  },
  "language_info": {
   "codemirror_mode": {
    "name": "ipython",
    "version": 3
   },
   "file_extension": ".py",
   "mimetype": "text/x-python",
   "name": "python",
   "nbconvert_exporter": "python",
   "pygments_lexer": "ipython3",
   "version": "3.11.7"
  }
 },
 "nbformat": 4,
 "nbformat_minor": 5
}
