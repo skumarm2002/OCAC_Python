{
 "cells": [
  {
   "cell_type": "code",
   "execution_count": 3,
   "id": "dc85e72d-f939-4774-a16e-805ae6f84bdc",
   "metadata": {},
   "outputs": [],
   "source": [
    "class MyClass:\n",
    "    x=2\n",
    "  \n",
    "  \n"
   ]
  },
  {
   "cell_type": "code",
   "execution_count": 8,
   "id": "961f7dc9-bda4-4426-87d3-ef7405a306b4",
   "metadata": {},
   "outputs": [
    {
     "name": "stdout",
     "output_type": "stream",
     "text": [
      "5\n"
     ]
    }
   ],
   "source": [
    "p1 = MyClass()\n",
    "print(p1.x+p1.y)"
   ]
  },
  {
   "cell_type": "code",
   "execution_count": 4,
   "id": "140705b9-45e8-40cf-86e5-bbeb0990a08b",
   "metadata": {},
   "outputs": [
    {
     "name": "stdout",
     "output_type": "stream",
     "text": [
      "2\n"
     ]
    }
   ],
   "source": [
    "print(MyClass.x)"
   ]
  },
  {
   "cell_type": "code",
   "execution_count": 11,
   "id": "ea0559c6-3faa-4557-8165-36b227cdf79e",
   "metadata": {},
   "outputs": [
    {
     "name": "stdout",
     "output_type": "stream",
     "text": [
      "Sohan\n",
      "24\n"
     ]
    }
   ],
   "source": [
    "class Person:\n",
    "    def __init__(self,name,age):\n",
    "        self.name=name\n",
    "        self.age=age\n",
    "p1=Person('Sohan',24)\n",
    "print(p1.name)\n",
    "print(p1.age)\n"
   ]
  },
  {
   "cell_type": "code",
   "execution_count": 1,
   "id": "0bd3e6c5-6a1a-41de-bab9-38a86522603a",
   "metadata": {},
   "outputs": [
    {
     "name": "stdout",
     "output_type": "stream",
     "text": [
      "Sohan\n",
      "59\n"
     ]
    }
   ],
   "source": [
    "class Student:\n",
    "    def __init__(self,name,roll,reg,section):\n",
    "        self.name=name\n",
    "        self.roll=roll\n",
    "        self.reg=reg\n",
    "        self.section=section\n",
    "p1=Student('Sohan',59,2305298193,'Genius')\n",
    "print(p1.name)\n",
    "print(p1.roll)"
   ]
  },
  {
   "cell_type": "code",
   "execution_count": 13,
   "id": "607e0f95-2f45-41e4-a3e7-eef1c55918c5",
   "metadata": {},
   "outputs": [
    {
     "data": {
      "text/plain": [
       "'Genius'"
      ]
     },
     "execution_count": 13,
     "metadata": {},
     "output_type": "execute_result"
    }
   ],
   "source": [
    "p1.section"
   ]
  },
  {
   "cell_type": "code",
   "execution_count": 14,
   "id": "c685648d-d65c-46d6-99b7-b78a346b60c4",
   "metadata": {},
   "outputs": [
    {
     "data": {
      "text/plain": [
       "59"
      ]
     },
     "execution_count": 14,
     "metadata": {},
     "output_type": "execute_result"
    }
   ],
   "source": [
    "p1.roll"
   ]
  },
  {
   "cell_type": "code",
   "execution_count": 15,
   "id": "2f1ba24d-9d64-4787-bcf2-075149af1d89",
   "metadata": {},
   "outputs": [
    {
     "data": {
      "text/plain": [
       "2305298193"
      ]
     },
     "execution_count": 15,
     "metadata": {},
     "output_type": "execute_result"
    }
   ],
   "source": [
    "p1.reg"
   ]
  },
  {
   "cell_type": "code",
   "execution_count": 6,
   "id": "fdb1b756-5430-4bae-9c35-903b393d0c1b",
   "metadata": {},
   "outputs": [
    {
     "name": "stdout",
     "output_type": "stream",
     "text": [
      "2\n",
      "<class '__main__.MyClass'>\n"
     ]
    }
   ],
   "source": [
    "y=MyClass()\n",
    "print(y.x)\n",
    "print(type(y))"
   ]
  },
  {
   "cell_type": "code",
   "execution_count": 9,
   "id": "5e4c1da0-a823-4a59-91d8-32903c88a8e2",
   "metadata": {},
   "outputs": [],
   "source": [
    "class Myschool:\n",
    "    pass    #if there is no block of codes in the class we can use pass for avoiding the syntax error\n",
    "\n"
   ]
  },
  {
   "cell_type": "code",
   "execution_count": 10,
   "id": "173d861f-4c87-41cc-b8ae-745cbf1081b3",
   "metadata": {},
   "outputs": [],
   "source": [
    "class Person:\n",
    "    def __init__(self,fname,lname):\n",
    "        self.fname=fname\n",
    "        self.lname=lname\n",
    "    def printname(self):\n",
    "        print(self.fname,self.lname)\n",
    "class Student(Person):\n",
    "    def __init__(self,fname,lname):\n",
    "        super().__init__(self,fname,lname)\n",
    "        self.graduationyear=2020\n",
    "\n",
    "x=Student"
   ]
  },
  {
   "cell_type": "code",
   "execution_count": 14,
   "id": "b3b97bfb-e0e2-4ef2-a2ec-26570a3f1725",
   "metadata": {},
   "outputs": [
    {
     "name": "stdout",
     "output_type": "stream",
     "text": [
      "10\n"
     ]
    }
   ],
   "source": [
    "#private member\n",
    "class myclass:\n",
    "    def __init__(self,value):\n",
    "        self._value=value\n",
    "    def _protected_method(self):\n",
    "        return self._value\n",
    "obj=myclass(10)\n",
    "print(obj._value)"
   ]
  },
  {
   "cell_type": "code",
   "execution_count": 16,
   "id": "33a5ee0d-e70a-4584-b60d-968dbc225393",
   "metadata": {},
   "outputs": [
    {
     "name": "stdout",
     "output_type": "stream",
     "text": [
      "10\n"
     ]
    }
   ],
   "source": [
    "#protected member\n",
    "class myclass:\n",
    "    def __init__(self,value):\n",
    "        self.__value=value\n",
    "    def get_value(self):\n",
    "        return self.__value\n",
    "obj=myclass(10)\n",
    "#print(obj._value)\n",
    "print(obj.get_value())"
   ]
  },
  {
   "cell_type": "code",
   "execution_count": 17,
   "id": "f93e5af3-1eb2-4030-ad4c-326b38e62b18",
   "metadata": {},
   "outputs": [
    {
     "name": "stdout",
     "output_type": "stream",
     "text": [
      "10\n"
     ]
    }
   ],
   "source": [
    "class myclass:\n",
    "    def __init__(self,value):\n",
    "        self._value=value\n",
    "    def _protected_method(self):\n",
    "        return self._value\n",
    "obj=myclass(10)\n",
    "#print(obj._value)\n",
    "print(obj._protected_method())"
   ]
  },
  {
   "cell_type": "code",
   "execution_count": 18,
   "id": "b2a456ec-e7c5-4800-b502-33a6a1ce791d",
   "metadata": {},
   "outputs": [],
   "source": [
    "#difference between public and protected member with a proper example\n",
    "#Example that demonstrate the proper polymorphism\n"
   ]
  },
  {
   "cell_type": "code",
   "execution_count": 13,
   "id": "42713a0c-9720-4c13-ac22-7b8c8f4d5a54",
   "metadata": {},
   "outputs": [
    {
     "name": "stdout",
     "output_type": "stream",
     "text": [
      "Sohan Kumar Mohapatra!\n",
      "I am Champ\n"
     ]
    }
   ],
   "source": [
    "class Student:\n",
    "    def __init__(self,name):\n",
    "        self.name = name\n",
    "sohan = Student(name='Sohan Kumar Mohapatra!')\n",
    "champ = Student(name=\"I am Champ\")\n",
    "print(sohan.name)\n",
    "print(champ.name)"
   ]
  },
  {
   "cell_type": "code",
   "execution_count": 14,
   "id": "eccc6d69-5119-408d-b584-1589c86b3a69",
   "metadata": {},
   "outputs": [
    {
     "name": "stdout",
     "output_type": "stream",
     "text": [
      "John\n",
      "36\n"
     ]
    }
   ],
   "source": [
    "class Person:\n",
    "    def __init__(self, name, age):\n",
    "        self.name = name\n",
    "        self.age = age\n",
    "p1 = Person(\"John\", 36)\n",
    "\n",
    "print(p1.name)\n",
    "print(p1.age)"
   ]
  },
  {
   "cell_type": "code",
   "execution_count": 15,
   "id": "4225a45c-add6-4040-b744-40a888873f26",
   "metadata": {},
   "outputs": [],
   "source": [
    "class Student:\n",
    "    Total = 500  \n",
    "    def __init__(self, marks):\n",
    "        self.marks = marks  \n",
    "        print(\"Initialized...\")\n",
    "    def findLoss(self):\n",
    "        return self.Total - self.marks  \n",
    "    def findPercentage(self):\n",
    "        return (self.marks / self.Total) * 100  "
   ]
  },
  {
   "cell_type": "code",
   "execution_count": 16,
   "id": "fd07a569-9267-4beb-856e-6c3d07db4d0f",
   "metadata": {},
   "outputs": [
    {
     "name": "stdout",
     "output_type": "stream",
     "text": [
      "Initialized...\n",
      "Total Marks: 500\n",
      "Lost Marks: 7\n",
      "Percentage is: 98.6\n",
      "Percentage is: 98.60%\n"
     ]
    }
   ],
   "source": [
    "a = Student(marks=493)\n",
    "print(\"Total Marks:\", a.Total)\n",
    "print('Lost Marks:', a.findLoss()) \n",
    "print('Percentage is:', a.findPercentage())\n",
    "print('Percentage is: {:.2f}%'.format(a.findPercentage()))"
   ]
  },
  {
   "cell_type": "code",
   "execution_count": 19,
   "id": "68e91eb8-a597-4d9d-95f9-b2978430f7bc",
   "metadata": {},
   "outputs": [],
   "source": [
    "class Student:\n",
    "    Total = 500 # Class variable\n",
    "    def __init__(self, name, marks,gender):\n",
    "        self.name=name\n",
    "        self.marks=marks\n",
    "        self.gender=gender\n",
    "        print(\"Initialized...\")\n",
    "    def __len__(self):\n",
    "        return self.marks\n",
    "    def __str__(self):\n",
    "        return \"Name: %s | Marks: %s | Gender: %s\" %(self.name,self.marks,self.gender)\n",
    "    def __del__(self):\n",
    "        print(\"Student Database is Deleted\")"
   ]
  },
  {
   "cell_type": "code",
   "execution_count": 20,
   "id": "433f67f7-9cf8-409e-9d51-64fdb09b17a9",
   "metadata": {},
   "outputs": [
    {
     "name": "stdout",
     "output_type": "stream",
     "text": [
      "Initialized...\n",
      "Initialized...\n"
     ]
    }
   ],
   "source": [
    "a = Student('Sohan', '490', 'male')\n",
    "B = Student('Kritika', 478, 'FEmale')"
   ]
  },
  {
   "cell_type": "code",
   "execution_count": 21,
   "id": "9bcdcb5b-3220-4582-9650-57f2f3feff31",
   "metadata": {},
   "outputs": [
    {
     "name": "stdout",
     "output_type": "stream",
     "text": [
      "Name: Kritika | Marks: 478 | Gender: FEmale\n"
     ]
    }
   ],
   "source": [
    "print(B)"
   ]
  },
  {
   "cell_type": "code",
   "execution_count": 22,
   "id": "2a3a6ec8-1a25-43d5-b6cc-e5f686df2b25",
   "metadata": {},
   "outputs": [
    {
     "ename": "TypeError",
     "evalue": "'str' object cannot be interpreted as an integer",
     "output_type": "error",
     "traceback": [
      "\u001b[1;31m---------------------------------------------------------------------------\u001b[0m",
      "\u001b[1;31mTypeError\u001b[0m                                 Traceback (most recent call last)",
      "Cell \u001b[1;32mIn[22], line 1\u001b[0m\n\u001b[1;32m----> 1\u001b[0m \u001b[38;5;28mprint\u001b[39m(\u001b[38;5;124m'\u001b[39m\u001b[38;5;124mMarks: \u001b[39m\u001b[38;5;124m'\u001b[39m,\u001b[38;5;28mlen\u001b[39m(a))\n",
      "\u001b[1;31mTypeError\u001b[0m: 'str' object cannot be interpreted as an integer"
     ]
    }
   ],
   "source": [
    "print('Marks: ',len(a))"
   ]
  },
  {
   "cell_type": "code",
   "execution_count": 24,
   "id": "05d19b9d-cfaf-4edb-89af-5893eaaacef1",
   "metadata": {},
   "outputs": [
    {
     "name": "stdout",
     "output_type": "stream",
     "text": [
      "Initialized...\n"
     ]
    },
    {
     "data": {
      "text/plain": [
       "178000"
      ]
     },
     "execution_count": 24,
     "metadata": {},
     "output_type": "execute_result"
    }
   ],
   "source": [
    "class Student:\n",
    "    Total = 500 # Class variable\n",
    "    def __init__(a,marks):\n",
    "        a.marks=marks\n",
    "        print(\"Initialized...\")\n",
    "    def mul(self):\n",
    "        return self.marks * self.Total\n",
    "p1 = Student(356)\n",
    "p1.mul()"
   ]
  },
  {
   "cell_type": "code",
   "execution_count": 25,
   "id": "4e2108e7-6ae0-4caf-835f-0f419c76c23d",
   "metadata": {},
   "outputs": [
    {
     "name": "stdout",
     "output_type": "stream",
     "text": [
      "Initialized...\n",
      "Student Database is Deleted\n",
      "<__main__.Student object at 0x000001CC76BB2CD0>\n",
      "Marks:  490\n"
     ]
    }
   ],
   "source": [
    "class Student:\n",
    "    Total = 500 \n",
    "    def __init__(self, name, marks,gender):\n",
    "        self.name=name\n",
    "        self.marks=marks\n",
    "        self.gender=gender\n",
    "        print(\"Initialized...\")\n",
    "    def __len__(b):\n",
    "        return b.marks\n",
    "a = Student('Sohan', 490, 'male')\n",
    "print(a)\n",
    "print('Marks: ',len(a))"
   ]
  },
  {
   "cell_type": "code",
   "execution_count": 27,
   "id": "983ebd3b-c5b1-4674-82dc-43cc7dbd7133",
   "metadata": {},
   "outputs": [
    {
     "name": "stdout",
     "output_type": "stream",
     "text": [
      "Hello my name is skm 59\n"
     ]
    }
   ],
   "source": [
    "class Person:\n",
    "    def __init__(mysillyobject, name, age):\n",
    "        mysillyobject.name = name\n",
    "        mysillyobject.age = age\n",
    "    def myfunc(abc):\n",
    "        print(\"Hello my name is \" + abc.name, + abc.age )\n",
    "p1 = Person(\"skm\", 59)\n",
    "p1.myfunc()"
   ]
  },
  {
   "cell_type": "code",
   "execution_count": 29,
   "id": "ae651b90-b650-4960-8463-b8f0f5055114",
   "metadata": {},
   "outputs": [
    {
     "name": "stdout",
     "output_type": "stream",
     "text": [
      "Hello my name is skm 60\n"
     ]
    }
   ],
   "source": [
    "p1.age = 60\n",
    "p1.myfunc()"
   ]
  },
  {
   "cell_type": "code",
   "execution_count": 30,
   "id": "e92f6809-b3e4-412a-8d33-655024ccb2e1",
   "metadata": {},
   "outputs": [
    {
     "ename": "AttributeError",
     "evalue": "'Person' object has no attribute 'age'",
     "output_type": "error",
     "traceback": [
      "\u001b[1;31m---------------------------------------------------------------------------\u001b[0m",
      "\u001b[1;31mAttributeError\u001b[0m                            Traceback (most recent call last)",
      "Cell \u001b[1;32mIn[30], line 2\u001b[0m\n\u001b[0;32m      1\u001b[0m \u001b[38;5;28;01mdel\u001b[39;00m p1\u001b[38;5;241m.\u001b[39mage\n\u001b[1;32m----> 2\u001b[0m p1\u001b[38;5;241m.\u001b[39mmyfunc()\n",
      "Cell \u001b[1;32mIn[27], line 6\u001b[0m, in \u001b[0;36mPerson.myfunc\u001b[1;34m(abc)\u001b[0m\n\u001b[0;32m      5\u001b[0m \u001b[38;5;28;01mdef\u001b[39;00m \u001b[38;5;21mmyfunc\u001b[39m(abc):\n\u001b[1;32m----> 6\u001b[0m     \u001b[38;5;28mprint\u001b[39m(\u001b[38;5;124m\"\u001b[39m\u001b[38;5;124mHello my name is \u001b[39m\u001b[38;5;124m\"\u001b[39m \u001b[38;5;241m+\u001b[39m abc\u001b[38;5;241m.\u001b[39mname, \u001b[38;5;241m+\u001b[39m abc\u001b[38;5;241m.\u001b[39mage )\n",
      "\u001b[1;31mAttributeError\u001b[0m: 'Person' object has no attribute 'age'"
     ]
    }
   ],
   "source": [
    "del p1.age\n",
    "p1.myfunc()"
   ]
  },
  {
   "cell_type": "code",
   "execution_count": 32,
   "id": "a0255daf-e592-4208-bd64-7a5f4480c7d5",
   "metadata": {},
   "outputs": [
    {
     "name": "stdout",
     "output_type": "stream",
     "text": [
      "Sohan Kumar Mohapatra\n"
     ]
    }
   ],
   "source": [
    "class Person:\n",
    "    def __init__(self, fname, lname):\n",
    "        self.firstname = fname\n",
    "        self.lastname = lname\n",
    "    def printname(self):\n",
    "        print(self.firstname, self.lastname)\n",
    "x = Person(\"Sohan\", \"Kumar Mohapatra\")\n",
    "x.printname()"
   ]
  },
  {
   "cell_type": "code",
   "execution_count": 34,
   "id": "988b0684-875f-42b1-9915-8702e75b905f",
   "metadata": {},
   "outputs": [
    {
     "name": "stdout",
     "output_type": "stream",
     "text": [
      "2024\n"
     ]
    }
   ],
   "source": [
    "class Person:\n",
    "    def __init__(self, fname, lname):\n",
    "        self.firstname = fname\n",
    "        self.lastname = lname\n",
    "    def printname(self):\n",
    "        print(self.firstname, self.lastname)\n",
    "class Student(Person):\n",
    "    def __init__(self, fname, lname, year):\n",
    "        super().__init__(fname, lname)\n",
    "        self.graduationyear = year\n",
    "x = Student(\"Ritik\", \"Pati\", 2024)\n",
    "print(x.graduationyear)"
   ]
  },
  {
   "cell_type": "code",
   "execution_count": 37,
   "id": "548ac7b7-dba6-4bc3-a544-04046b6cfdd1",
   "metadata": {},
   "outputs": [
    {
     "name": "stdout",
     "output_type": "stream",
     "text": [
      "Welcome Sohan Kumar Mohapatra to the first day of internship of 2024\n"
     ]
    }
   ],
   "source": [
    "class Person:\n",
    "    def __init__(self, fname, lname):\n",
    "        self.firstname = fname\n",
    "        self.lastname = lname\n",
    "    def printname(self):\n",
    "        print(self.firstname, self.lastname)\n",
    "class Student(Person):\n",
    "    def __init__(self, fname, lname, year):\n",
    "        super().__init__(fname, lname)\n",
    "        self.internshipyear = year\n",
    "    def welcome(self):\n",
    "        print(\"Welcome\", self.firstname, self.lastname, \"to the first day of internship of\", self.internshipyear)\n",
    "x = Student(\"Sohan\", \"Kumar Mohapatra\", 2024)\n",
    "x.welcome()"
   ]
  },
  {
   "cell_type": "code",
   "execution_count": 38,
   "id": "750c9d4f-dbbb-45cf-8797-336d77318624",
   "metadata": {},
   "outputs": [
    {
     "name": "stdout",
     "output_type": "stream",
     "text": [
      "3\n"
     ]
    }
   ],
   "source": [
    "class MyClass:\n",
    "    def my_function(arg1, arg2):\n",
    "        return arg1 + arg2\n",
    " \n",
    "result = MyClass.my_function(1, 2)\n",
    "print(result) # Output: 3"
   ]
  },
  {
   "cell_type": "code",
   "execution_count": 40,
   "id": "d029d232-4bea-4d2c-91fa-46fa10f7aa27",
   "metadata": {},
   "outputs": [
    {
     "name": "stdout",
     "output_type": "stream",
     "text": [
      "10\n",
      "20\n"
     ]
    }
   ],
   "source": [
    "class MyClass:\n",
    "    def __init__(self, value):\n",
    "        self.__value = value\n",
    "    def get_value(self):\n",
    "        return self.__value\n",
    "    def set_value(self, value):\n",
    "        self.__value = value\n",
    "obj = MyClass(10)\n",
    "print(obj.get_value()) \n",
    "obj.set_value(20)\n",
    "print(obj.get_value())  "
   ]
  },
  {
   "cell_type": "code",
   "execution_count": 41,
   "id": "df0320b4-b1c7-4eec-a07a-49edc99fcc06",
   "metadata": {},
   "outputs": [
    {
     "name": "stdout",
     "output_type": "stream",
     "text": [
      "34\n",
      "50\n"
     ]
    }
   ],
   "source": [
    "class MyClass:\n",
    "    def __init__(self, value):\n",
    "        self.__value = value\n",
    "    @property\n",
    "    def value(self):\n",
    "        return self.__value\n",
    "    @value.setter\n",
    "    def value(self, value):\n",
    "        self.__value = value\n",
    "obj = MyClass(34)\n",
    "print(obj.value) \n",
    "obj.value = 50\n",
    "print(obj.value)"
   ]
  },
  {
   "cell_type": "code",
   "execution_count": null,
   "id": "2f98cc54-5990-4d8d-9d6c-0178eac90ff7",
   "metadata": {},
   "outputs": [],
   "source": []
  }
 ],
 "metadata": {
  "kernelspec": {
   "display_name": "Python 3 (ipykernel)",
   "language": "python",
   "name": "python3"
  },
  "language_info": {
   "codemirror_mode": {
    "name": "ipython",
    "version": 3
   },
   "file_extension": ".py",
   "mimetype": "text/x-python",
   "name": "python",
   "nbconvert_exporter": "python",
   "pygments_lexer": "ipython3",
   "version": "3.11.7"
  }
 },
 "nbformat": 4,
 "nbformat_minor": 5
}
