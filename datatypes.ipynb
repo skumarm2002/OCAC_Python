{
 "cells": [
  {
   "cell_type": "code",
   "execution_count": 1,
   "id": "f0f68ddf-abfa-4f40-9727-ca43300a67e5",
   "metadata": {},
   "outputs": [
    {
     "data": {
      "text/plain": [
       "int"
      ]
     },
     "execution_count": 1,
     "metadata": {},
     "output_type": "execute_result"
    }
   ],
   "source": [
    "a=10\n",
    "type(a)"
   ]
  },
  {
   "cell_type": "code",
   "execution_count": 2,
   "id": "6c4a435c-8cd4-451f-a209-8f7c19f798ac",
   "metadata": {},
   "outputs": [
    {
     "data": {
      "text/plain": [
       "10.0"
      ]
     },
     "execution_count": 2,
     "metadata": {},
     "output_type": "execute_result"
    }
   ],
   "source": [
    "float(a)"
   ]
  },
  {
   "cell_type": "code",
   "execution_count": 3,
   "id": "a8aa7cd3-50fa-43b6-a24f-d8d9010b538b",
   "metadata": {},
   "outputs": [
    {
     "data": {
      "text/plain": [
       "'0b1010'"
      ]
     },
     "execution_count": 3,
     "metadata": {},
     "output_type": "execute_result"
    }
   ],
   "source": [
    "bin(a)"
   ]
  },
  {
   "cell_type": "code",
   "execution_count": 7,
   "id": "9b197eb1-2572-489c-bc84-94072cfab8af",
   "metadata": {},
   "outputs": [
    {
     "data": {
      "text/plain": [
       "13"
      ]
     },
     "execution_count": 7,
     "metadata": {},
     "output_type": "execute_result"
    }
   ],
   "source": [
    "0b1101\n"
   ]
  },
  {
   "cell_type": "code",
   "execution_count": 8,
   "id": "b6939994-cb68-4ebf-949e-19cca4e18ef0",
   "metadata": {},
   "outputs": [
    {
     "data": {
      "text/plain": [
       "10"
      ]
     },
     "execution_count": 8,
     "metadata": {},
     "output_type": "execute_result"
    }
   ],
   "source": [
    "0b1010"
   ]
  },
  {
   "cell_type": "code",
   "execution_count": 9,
   "id": "aa3f2967-0661-457d-a6cb-e33f28470ac9",
   "metadata": {},
   "outputs": [
    {
     "data": {
      "text/plain": [
       "True"
      ]
     },
     "execution_count": 9,
     "metadata": {},
     "output_type": "execute_result"
    }
   ],
   "source": [
    "bool(2)"
   ]
  },
  {
   "cell_type": "code",
   "execution_count": 2,
   "id": "18bd0594-3dbd-464d-a3e7-c11b6df786c3",
   "metadata": {},
   "outputs": [
    {
     "name": "stdout",
     "output_type": "stream",
     "text": [
      "5.0\n"
     ]
    },
    {
     "data": {
      "text/plain": [
       "complex"
      ]
     },
     "execution_count": 2,
     "metadata": {},
     "output_type": "execute_result"
    }
   ],
   "source": [
    "b=5+4j\n",
    "print(b.real)\n",
    "type(b)"
   ]
  },
  {
   "cell_type": "code",
   "execution_count": 14,
   "id": "51d40854-7213-4189-b1f7-446c422eb175",
   "metadata": {},
   "outputs": [
    {
     "data": {
      "text/plain": [
       "4.0"
      ]
     },
     "execution_count": 14,
     "metadata": {},
     "output_type": "execute_result"
    }
   ],
   "source": [
    "b.imag"
   ]
  },
  {
   "cell_type": "code",
   "execution_count": 39,
   "id": "6890c689-2b91-4fe7-b118-6d24a0afb3f4",
   "metadata": {},
   "outputs": [
    {
     "data": {
      "text/plain": [
       "14"
      ]
     },
     "execution_count": 39,
     "metadata": {},
     "output_type": "execute_result"
    }
   ],
   "source": [
    "a='I am a Student'\n",
    "len(a)\n"
   ]
  },
  {
   "cell_type": "code",
   "execution_count": 28,
   "id": "63f0680e-3e1b-40fe-b13d-59821362ae8a",
   "metadata": {},
   "outputs": [
    {
     "data": {
      "text/plain": [
       "'d'"
      ]
     },
     "execution_count": 28,
     "metadata": {},
     "output_type": "execute_result"
    }
   ],
   "source": [
    "a[7]"
   ]
  },
  {
   "cell_type": "code",
   "execution_count": 30,
   "id": "31423ac7-01ad-4129-b2e5-be14e36b1063",
   "metadata": {},
   "outputs": [
    {
     "data": {
      "text/plain": [
       "'u'"
      ]
     },
     "execution_count": 30,
     "metadata": {},
     "output_type": "execute_result"
    }
   ],
   "source": [
    "a[-5]"
   ]
  },
  {
   "cell_type": "code",
   "execution_count": 43,
   "id": "cd837d57-91f4-4e9b-8a33-0b11f4e9fabe",
   "metadata": {},
   "outputs": [
    {
     "data": {
      "text/plain": [
       "'am a '"
      ]
     },
     "execution_count": 43,
     "metadata": {},
     "output_type": "execute_result"
    }
   ],
   "source": [
    "a[2:7]"
   ]
  },
  {
   "cell_type": "code",
   "execution_count": 42,
   "id": "6eca116d-829a-42c8-996c-8a8e88fa494d",
   "metadata": {},
   "outputs": [
    {
     "data": {
      "text/plain": [
       "'a  t'"
      ]
     },
     "execution_count": 42,
     "metadata": {},
     "output_type": "execute_result"
    }
   ],
   "source": [
    "a[2:9:2]"
   ]
  },
  {
   "cell_type": "code",
   "execution_count": 41,
   "id": "de691274-f34b-4498-bdaa-70f8dccf798f",
   "metadata": {},
   "outputs": [
    {
     "data": {
      "text/plain": [
       "'Ia  tdn'"
      ]
     },
     "execution_count": 41,
     "metadata": {},
     "output_type": "execute_result"
    }
   ],
   "source": [
    "a[ : :2]"
   ]
  },
  {
   "cell_type": "code",
   "execution_count": 45,
   "id": "dc1345d3-32ee-4ef6-9df5-e23a609658db",
   "metadata": {},
   "outputs": [
    {
     "data": {
      "text/plain": [
       "'nedutS a ma '"
      ]
     },
     "execution_count": 45,
     "metadata": {},
     "output_type": "execute_result"
    }
   ],
   "source": [
    "a[-2:-14 :-1]"
   ]
  },
  {
   "cell_type": "code",
   "execution_count": 51,
   "id": "7424d48e-c259-4e8f-abda-aa35f478b182",
   "metadata": {},
   "outputs": [
    {
     "name": "stdout",
     "output_type": "stream",
     "text": [
      "\n"
     ]
    }
   ],
   "source": [
    "print(a[2:14:-1])"
   ]
  },
  {
   "cell_type": "code",
   "execution_count": 52,
   "id": "c7ca0790-48d2-4756-b6eb-66746cea1b16",
   "metadata": {},
   "outputs": [
    {
     "name": "stdout",
     "output_type": "stream",
     "text": [
      "am a Student\n"
     ]
    }
   ],
   "source": [
    "print(a[2:50:1])"
   ]
  },
  {
   "cell_type": "code",
   "execution_count": 53,
   "id": "94879014-e68b-4797-863e-93fd4b442fb4",
   "metadata": {},
   "outputs": [
    {
     "data": {
      "text/plain": [
       "'tnedutS a ma I'"
      ]
     },
     "execution_count": 53,
     "metadata": {},
     "output_type": "execute_result"
    }
   ],
   "source": [
    "#reverse of the string\n",
    "a[ : :-1]"
   ]
  },
  {
   "cell_type": "code",
   "execution_count": 5,
   "id": "8b3afa52-ac89-4b4b-b240-a63600a1e407",
   "metadata": {},
   "outputs": [
    {
     "name": "stdout",
     "output_type": "stream",
     "text": [
      "My name is Sohan\n",
      "My name is Sohan\n",
      "My name is Sohan\n"
     ]
    }
   ],
   "source": [
    "mystring1='My name is Sohan'\n",
    "print(mystring1)\n",
    "mystring2=\"My name is Sohan\"\n",
    "print(mystring2)\n",
    "mystring3='''My name is Sohan'''\n",
    "print(mystring3)\n",
    " "
   ]
  },
  {
   "cell_type": "code",
   "execution_count": 6,
   "id": "5cc03e60-c344-4780-908c-633a7d3ca917",
   "metadata": {},
   "outputs": [
    {
     "data": {
      "text/plain": [
       "str"
      ]
     },
     "execution_count": 6,
     "metadata": {},
     "output_type": "execute_result"
    }
   ],
   "source": [
    "a='Student'\n",
    "type(a)"
   ]
  },
  {
   "cell_type": "code",
   "execution_count": 7,
   "id": "faa8c305-e092-4960-860c-5d6dc09f3baf",
   "metadata": {},
   "outputs": [
    {
     "ename": "ValueError",
     "evalue": "invalid literal for int() with base 10: 'Student'",
     "output_type": "error",
     "traceback": [
      "\u001b[1;31m---------------------------------------------------------------------------\u001b[0m",
      "\u001b[1;31mValueError\u001b[0m                                Traceback (most recent call last)",
      "Cell \u001b[1;32mIn[7], line 1\u001b[0m\n\u001b[1;32m----> 1\u001b[0m \u001b[38;5;28mint\u001b[39m(a)\n",
      "\u001b[1;31mValueError\u001b[0m: invalid literal for int() with base 10: 'Student'"
     ]
    }
   ],
   "source": [
    "int(a)"
   ]
  },
  {
   "cell_type": "code",
   "execution_count": 8,
   "id": "3297a74a-656f-4809-85a7-14bd4bc0b0dd",
   "metadata": {},
   "outputs": [
    {
     "data": {
      "text/plain": [
       "str"
      ]
     },
     "execution_count": 8,
     "metadata": {},
     "output_type": "execute_result"
    }
   ],
   "source": [
    "var='21052002'\n",
    "type(var)\n"
   ]
  },
  {
   "cell_type": "code",
   "execution_count": 9,
   "id": "4fc49742-2725-453c-8fda-680d799dadb1",
   "metadata": {},
   "outputs": [
    {
     "data": {
      "text/plain": [
       "'21052002'"
      ]
     },
     "execution_count": 9,
     "metadata": {},
     "output_type": "execute_result"
    }
   ],
   "source": [
    "var"
   ]
  },
  {
   "cell_type": "code",
   "execution_count": 10,
   "id": "9cc14319-fd5f-4461-a046-827bbc426d73",
   "metadata": {},
   "outputs": [
    {
     "data": {
      "text/plain": [
       "21052002"
      ]
     },
     "execution_count": 10,
     "metadata": {},
     "output_type": "execute_result"
    }
   ],
   "source": [
    "int(var)"
   ]
  },
  {
   "cell_type": "code",
   "execution_count": 14,
   "id": "249093a3-78a7-47cd-ac3c-6ecc3ee8e20b",
   "metadata": {},
   "outputs": [
    {
     "ename": "SyntaxError",
     "evalue": "unterminated string literal (detected at line 1) (10149177.py, line 1)",
     "output_type": "error",
     "traceback": [
      "\u001b[1;36m  Cell \u001b[1;32mIn[14], line 1\u001b[1;36m\u001b[0m\n\u001b[1;33m    print('this is my father's \"car\"')\u001b[0m\n\u001b[1;37m                                    ^\u001b[0m\n\u001b[1;31mSyntaxError\u001b[0m\u001b[1;31m:\u001b[0m unterminated string literal (detected at line 1)\n"
     ]
    }
   ],
   "source": [
    "print('this is my father's \"car\"')"
   ]
  },
  {
   "cell_type": "code",
   "execution_count": 13,
   "id": "938f7e68-51aa-4898-9c9c-f98312c7e106",
   "metadata": {},
   "outputs": [
    {
     "name": "stdout",
     "output_type": "stream",
     "text": [
      "this is my father's\"car\" \n"
     ]
    }
   ],
   "source": [
    "print('this is my father\\'s\"car\" ')"
   ]
  },
  {
   "cell_type": "code",
   "execution_count": 18,
   "id": "2fd16970-d18f-4126-8e32-412861410080",
   "metadata": {},
   "outputs": [
    {
     "name": "stdout",
     "output_type": "stream",
     "text": [
      "This is my father\n",
      "'s car\n"
     ]
    }
   ],
   "source": [
    "print(\"This is my father\") \n",
    "print(\"'s car\")"
   ]
  },
  {
   "cell_type": "code",
   "execution_count": 19,
   "id": "bb907fe6-0d63-4f61-a6a9-5f930740f85e",
   "metadata": {},
   "outputs": [
    {
     "name": "stdout",
     "output_type": "stream",
     "text": [
      "21.05.2002\n"
     ]
    }
   ],
   "source": [
    "a='21.05.'\n",
    "b='2002'\n",
    "print(a+b)"
   ]
  },
  {
   "cell_type": "code",
   "execution_count": 22,
   "id": "00fa9d41-dcd2-4e35-8a64-e0d7f36c0e7f",
   "metadata": {},
   "outputs": [
    {
     "data": {
      "text/plain": [
       "4107"
      ]
     },
     "execution_count": 22,
     "metadata": {},
     "output_type": "execute_result"
    }
   ],
   "source": [
    "a='2105'\n",
    "b='2002'\n",
    "int(a)+int(b)"
   ]
  },
  {
   "cell_type": "code",
   "execution_count": 37,
   "id": "f1f595b6-dec6-4af8-8a60-9ca0da11a197",
   "metadata": {},
   "outputs": [
    {
     "ename": "SyntaxError",
     "evalue": "invalid syntax (2803483324.py, line 1)",
     "output_type": "error",
     "traceback": [
      "\u001b[1;36m  Cell \u001b[1;32mIn[37], line 1\u001b[1;36m\u001b[0m\n\u001b[1;33m    int e =2\u001b[0m\n\u001b[1;37m        ^\u001b[0m\n\u001b[1;31mSyntaxError\u001b[0m\u001b[1;31m:\u001b[0m invalid syntax\n"
     ]
    }
   ],
   "source": [
    " int e =2\n",
    "str f = '31'\n",
    "e+f"
   ]
  },
  {
   "cell_type": "code",
   "execution_count": 29,
   "id": "7b94922e-c1fc-435c-940e-2152310a0fab",
   "metadata": {},
   "outputs": [
    {
     "data": {
      "text/plain": [
       "'navinnavin'"
      ]
     },
     "execution_count": 29,
     "metadata": {},
     "output_type": "execute_result"
    }
   ],
   "source": [
    "'navin'+'navin'"
   ]
  },
  {
   "cell_type": "code",
   "execution_count": 41,
   "id": "17934f95-af81-420b-949f-dc031c6f51de",
   "metadata": {},
   "outputs": [
    {
     "ename": "NameError",
     "evalue": "name 'f' is not defined",
     "output_type": "error",
     "traceback": [
      "\u001b[1;31m---------------------------------------------------------------------------\u001b[0m",
      "\u001b[1;31mNameError\u001b[0m                                 Traceback (most recent call last)",
      "Cell \u001b[1;32mIn[41], line 1\u001b[0m\n\u001b[1;32m----> 1\u001b[0m \u001b[38;5;28mint\u001b[39m(f)\u001b[38;5;241m+\u001b[39me\n",
      "\u001b[1;31mNameError\u001b[0m: name 'f' is not defined"
     ]
    }
   ],
   "source": [
    "int(f)+e"
   ]
  },
  {
   "cell_type": "code",
   "execution_count": 43,
   "id": "e3693cfa-222a-4f24-8c7b-bd97c84dcb95",
   "metadata": {},
   "outputs": [
    {
     "ename": "NameError",
     "evalue": "name 'e' is not defined",
     "output_type": "error",
     "traceback": [
      "\u001b[1;31m---------------------------------------------------------------------------\u001b[0m",
      "\u001b[1;31mNameError\u001b[0m                                 Traceback (most recent call last)",
      "Cell \u001b[1;32mIn[43], line 1\u001b[0m\n\u001b[1;32m----> 1\u001b[0m \u001b[38;5;28mprint\u001b[39m(\u001b[38;5;28mstr\u001b[39m(e)\u001b[38;5;241m+\u001b[39mf)\n",
      "\u001b[1;31mNameError\u001b[0m: name 'e' is not defined"
     ]
    }
   ],
   "source": [
    "print(str(e)+f)"
   ]
  },
  {
   "cell_type": "code",
   "execution_count": 45,
   "id": "f631f4e2-8f17-4b61-86c7-77aaa8b67d91",
   "metadata": {},
   "outputs": [
    {
     "data": {
      "text/plain": [
       "'Ocac_pyhon batch'"
      ]
     },
     "execution_count": 45,
     "metadata": {},
     "output_type": "execute_result"
    }
   ],
   "source": [
    "a='OCAC_Pyhon batch'\n",
    "a.capitalize()"
   ]
  },
  {
   "cell_type": "code",
   "execution_count": 46,
   "id": "c0e50fcd-f2b4-46d9-a0d4-1a42ffaf6c51",
   "metadata": {},
   "outputs": [
    {
     "data": {
      "text/plain": [
       "'Ocac_Pyhon Batch'"
      ]
     },
     "execution_count": 46,
     "metadata": {},
     "output_type": "execute_result"
    }
   ],
   "source": [
    "a.title()"
   ]
  },
  {
   "cell_type": "code",
   "execution_count": 47,
   "id": "4510686f-3da6-4df0-89a6-8fa7bbabce83",
   "metadata": {},
   "outputs": [
    {
     "data": {
      "text/plain": [
       "'OCAC_PYHON BATCH'"
      ]
     },
     "execution_count": 47,
     "metadata": {},
     "output_type": "execute_result"
    }
   ],
   "source": [
    "a.upper()"
   ]
  },
  {
   "cell_type": "code",
   "execution_count": 48,
   "id": "a76c77a0-e12f-46fe-84e3-b04383e6b182",
   "metadata": {},
   "outputs": [
    {
     "data": {
      "text/plain": [
       "'SOHAN'"
      ]
     },
     "execution_count": 48,
     "metadata": {},
     "output_type": "execute_result"
    }
   ],
   "source": [
    "'sohan'.upper()"
   ]
  },
  {
   "cell_type": "code",
   "execution_count": 49,
   "id": "2d5fe2c8-1d21-4a19-9fe8-0a7bccd6d247",
   "metadata": {},
   "outputs": [
    {
     "data": {
      "text/plain": [
       "'ocac'"
      ]
     },
     "execution_count": 49,
     "metadata": {},
     "output_type": "execute_result"
    }
   ],
   "source": [
    "'OCAC'.lower()"
   ]
  },
  {
   "cell_type": "code",
   "execution_count": 50,
   "id": "94a387fc-ccf3-4e48-b3cb-13eeb70f7e99",
   "metadata": {},
   "outputs": [
    {
     "data": {
      "text/plain": [
       "'Ocac'"
      ]
     },
     "execution_count": 50,
     "metadata": {},
     "output_type": "execute_result"
    }
   ],
   "source": [
    "'OCAC'.title()"
   ]
  },
  {
   "cell_type": "code",
   "execution_count": 51,
   "id": "e0cb96b1-79e2-438e-8a1e-51df4b7e3315",
   "metadata": {},
   "outputs": [
    {
     "data": {
      "text/plain": [
       "['I', 'AM', 'A', 'GOOD', 'STUDENT']"
      ]
     },
     "execution_count": 51,
     "metadata": {},
     "output_type": "execute_result"
    }
   ],
   "source": [
    "'I AM A GOOD STUDENT'.split()"
   ]
  },
  {
   "cell_type": "code",
   "execution_count": 53,
   "id": "19ecb93a-1b58-4606-a4e7-83f1c2a0afab",
   "metadata": {},
   "outputs": [
    {
     "data": {
      "text/plain": [
       "['Hey there', ' I am using Python.']"
      ]
     },
     "execution_count": 53,
     "metadata": {},
     "output_type": "execute_result"
    }
   ],
   "source": [
    "'Hey there! I am using Python.'.split('!')"
   ]
  },
  {
   "cell_type": "code",
   "execution_count": 57,
   "id": "2fee5ee3-f52e-41d9-9c0c-23f84b8d9a3d",
   "metadata": {},
   "outputs": [
    {
     "data": {
      "text/plain": [
       "'Looking to the back will never let you go forward'"
      ]
     },
     "execution_count": 57,
     "metadata": {},
     "output_type": "execute_result"
    }
   ],
   "source": [
    "' '.join(['Looking to the','back' ,'will' ,'never', 'let you go forward'])"
   ]
  },
  {
   "cell_type": "code",
   "execution_count": 58,
   "id": "5118866e-93fb-4f95-888e-ac7ac5f301db",
   "metadata": {},
   "outputs": [
    {
     "data": {
      "text/plain": [
       "7"
      ]
     },
     "execution_count": 58,
     "metadata": {},
     "output_type": "execute_result"
    }
   ],
   "source": [
    "'Happy costumers'.find(\"o\")"
   ]
  },
  {
   "cell_type": "code",
   "execution_count": 60,
   "id": "aa54a2c8-fcec-455d-b161-b7211fd32659",
   "metadata": {},
   "outputs": [
    {
     "data": {
      "text/plain": [
       "6"
      ]
     },
     "execution_count": 60,
     "metadata": {},
     "output_type": "execute_result"
    }
   ],
   "source": [
    "'syndrela is more curious about the ride that has been rarely planned.'.count('r')"
   ]
  },
  {
   "cell_type": "code",
   "execution_count": 63,
   "id": "8507ebf3-8adb-4d74-90d7-6f89c6af97c6",
   "metadata": {},
   "outputs": [
    {
     "data": {
      "text/plain": [
       "19"
      ]
     },
     "execution_count": 63,
     "metadata": {},
     "output_type": "execute_result"
    }
   ],
   "source": [
    "'syndrela is more curious about the ride that has been rarely planned.'.find('ri')"
   ]
  },
  {
   "cell_type": "code",
   "execution_count": 71,
   "id": "63de966c-b1ab-4080-b44e-8f5867ae99bc",
   "metadata": {},
   "outputs": [
    {
     "data": {
      "text/plain": [
       "'ARayon is more curious about the ride that has been rarely planned.'"
      ]
     },
     "execution_count": 71,
     "metadata": {},
     "output_type": "execute_result"
    }
   ],
   "source": [
    "a='syndrela is more curious about the ride that has been rarely planned.'\n",
    "b=a.replace('syndrela','ARayon')"
   ]
  },
  {
   "cell_type": "code",
   "execution_count": 5,
   "id": "5d88b8d9-dd27-4a05-8754-2e8784f12c95",
   "metadata": {},
   "outputs": [
    {
     "name": "stdout",
     "output_type": "stream",
     "text": [
      "False\n",
      "False\n",
      "False\n",
      "False\n",
      "False\n",
      "False\n",
      "False\n",
      "True\n",
      "True\n"
     ]
    }
   ],
   "source": [
    "string='I have a Ninja10r'\n",
    "print(string.isalnum())\n",
    "print(string.isalpha())\n",
    "print(string.isdigit())\n",
    "print(string.istitle())\n",
    "print(string.isupper())\n",
    "print(string.islower())\n",
    "print(string.isspace())\n",
    "print(string.endswith('r'))\n",
    "print(string.startswith('I'))"
   ]
  },
  {
   "cell_type": "code",
   "execution_count": null,
   "id": "47f9882c-cc9c-48de-8c65-10c22353698d",
   "metadata": {},
   "outputs": [],
   "source": []
  }
 ],
 "metadata": {
  "kernelspec": {
   "display_name": "Python 3 (ipykernel)",
   "language": "python",
   "name": "python3"
  },
  "language_info": {
   "codemirror_mode": {
    "name": "ipython",
    "version": 3
   },
   "file_extension": ".py",
   "mimetype": "text/x-python",
   "name": "python",
   "nbconvert_exporter": "python",
   "pygments_lexer": "ipython3",
   "version": "3.11.7"
  }
 },
 "nbformat": 4,
 "nbformat_minor": 5
}
