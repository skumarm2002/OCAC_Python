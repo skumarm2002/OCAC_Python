{
 "cells": [
  {
   "cell_type": "code",
   "execution_count": 1,
   "id": "f0f68ddf-abfa-4f40-9727-ca43300a67e5",
   "metadata": {},
   "outputs": [
    {
     "data": {
      "text/plain": [
       "int"
      ]
     },
     "execution_count": 1,
     "metadata": {},
     "output_type": "execute_result"
    }
   ],
   "source": [
    "a=10\n",
    "type(a)"
   ]
  },
  {
   "cell_type": "code",
   "execution_count": 2,
   "id": "6c4a435c-8cd4-451f-a209-8f7c19f798ac",
   "metadata": {},
   "outputs": [
    {
     "data": {
      "text/plain": [
       "10.0"
      ]
     },
     "execution_count": 2,
     "metadata": {},
     "output_type": "execute_result"
    }
   ],
   "source": [
    "float(a)"
   ]
  },
  {
   "cell_type": "code",
   "execution_count": 3,
   "id": "a8aa7cd3-50fa-43b6-a24f-d8d9010b538b",
   "metadata": {},
   "outputs": [
    {
     "data": {
      "text/plain": [
       "'0b1010'"
      ]
     },
     "execution_count": 3,
     "metadata": {},
     "output_type": "execute_result"
    }
   ],
   "source": [
    "bin(a)"
   ]
  },
  {
   "cell_type": "code",
   "execution_count": 7,
   "id": "9b197eb1-2572-489c-bc84-94072cfab8af",
   "metadata": {},
   "outputs": [
    {
     "data": {
      "text/plain": [
       "13"
      ]
     },
     "execution_count": 7,
     "metadata": {},
     "output_type": "execute_result"
    }
   ],
   "source": [
    "0b1101\n"
   ]
  },
  {
   "cell_type": "code",
   "execution_count": 8,
   "id": "b6939994-cb68-4ebf-949e-19cca4e18ef0",
   "metadata": {},
   "outputs": [
    {
     "data": {
      "text/plain": [
       "10"
      ]
     },
     "execution_count": 8,
     "metadata": {},
     "output_type": "execute_result"
    }
   ],
   "source": [
    "0b1010"
   ]
  },
  {
   "cell_type": "code",
   "execution_count": 9,
   "id": "aa3f2967-0661-457d-a6cb-e33f28470ac9",
   "metadata": {},
   "outputs": [
    {
     "data": {
      "text/plain": [
       "True"
      ]
     },
     "execution_count": 9,
     "metadata": {},
     "output_type": "execute_result"
    }
   ],
   "source": [
    "bool(2)\n"
   ]
  },
  {
   "cell_type": "code",
   "execution_count": 35,
   "id": "87fcd3e0-de6e-405e-af26-88dc3d73bba1",
   "metadata": {},
   "outputs": [
    {
     "data": {
      "text/plain": [
       "1"
      ]
     },
     "execution_count": 35,
     "metadata": {},
     "output_type": "execute_result"
    }
   ],
   "source": [
    "int(True)\n"
   ]
  },
  {
   "cell_type": "code",
   "execution_count": 36,
   "id": "8ae2e475-1d24-4d02-831f-3dd8b7fc6973",
   "metadata": {},
   "outputs": [
    {
     "data": {
      "text/plain": [
       "2"
      ]
     },
     "execution_count": 36,
     "metadata": {},
     "output_type": "execute_result"
    }
   ],
   "source": [
    "True+True"
   ]
  },
  {
   "cell_type": "code",
   "execution_count": 38,
   "id": "afad53ba-3e7b-4f1d-8f62-d3797ca8a8f0",
   "metadata": {},
   "outputs": [
    {
     "data": {
      "text/plain": [
       "0"
      ]
     },
     "execution_count": 38,
     "metadata": {},
     "output_type": "execute_result"
    }
   ],
   "source": [
    "b=3\n",
    "c=False\n",
    "b*c"
   ]
  },
  {
   "cell_type": "code",
   "execution_count": 2,
   "id": "18bd0594-3dbd-464d-a3e7-c11b6df786c3",
   "metadata": {},
   "outputs": [
    {
     "name": "stdout",
     "output_type": "stream",
     "text": [
      "5.0\n"
     ]
    },
    {
     "data": {
      "text/plain": [
       "complex"
      ]
     },
     "execution_count": 2,
     "metadata": {},
     "output_type": "execute_result"
    }
   ],
   "source": [
    "b=5+4j\n",
    "print(b.real)\n",
    "type(b)"
   ]
  },
  {
   "cell_type": "code",
   "execution_count": 14,
   "id": "51d40854-7213-4189-b1f7-446c422eb175",
   "metadata": {},
   "outputs": [
    {
     "data": {
      "text/plain": [
       "4.0"
      ]
     },
     "execution_count": 14,
     "metadata": {},
     "output_type": "execute_result"
    }
   ],
   "source": [
    "b.imag"
   ]
  },
  {
   "cell_type": "code",
   "execution_count": 51,
   "id": "c8cbfb1c-85fb-4d72-8edb-eee7a7be3e59",
   "metadata": {},
   "outputs": [
    {
     "ename": "SyntaxError",
     "evalue": "invalid syntax (1386980215.py, line 1)",
     "output_type": "error",
     "traceback": [
      "\u001b[1;36m  Cell \u001b[1;32mIn[51], line 1\u001b[1;36m\u001b[0m\n\u001b[1;33m    c=10+(-2)j\u001b[0m\n\u001b[1;37m             ^\u001b[0m\n\u001b[1;31mSyntaxError\u001b[0m\u001b[1;31m:\u001b[0m invalid syntax\n"
     ]
    }
   ],
   "source": [
    "c=10+-2j\n",
    "print(c.imag)\n",
    "c.real"
   ]
  },
  {
   "cell_type": "code",
   "execution_count": 45,
   "id": "6890c689-2b91-4fe7-b118-6d24a0afb3f4",
   "metadata": {},
   "outputs": [
    {
     "data": {
      "text/plain": [
       "14"
      ]
     },
     "execution_count": 45,
     "metadata": {},
     "output_type": "execute_result"
    }
   ],
   "source": [
    "a='I am a Student'\n",
    "len(a)\n"
   ]
  },
  {
   "cell_type": "code",
   "execution_count": 28,
   "id": "63f0680e-3e1b-40fe-b13d-59821362ae8a",
   "metadata": {},
   "outputs": [
    {
     "data": {
      "text/plain": [
       "'d'"
      ]
     },
     "execution_count": 28,
     "metadata": {},
     "output_type": "execute_result"
    }
   ],
   "source": [
    "a[7]"
   ]
  },
  {
   "cell_type": "code",
   "execution_count": 30,
   "id": "31423ac7-01ad-4129-b2e5-be14e36b1063",
   "metadata": {},
   "outputs": [
    {
     "data": {
      "text/plain": [
       "'u'"
      ]
     },
     "execution_count": 30,
     "metadata": {},
     "output_type": "execute_result"
    }
   ],
   "source": [
    "a[-5]"
   ]
  },
  {
   "cell_type": "code",
   "execution_count": 43,
   "id": "cd837d57-91f4-4e9b-8a33-0b11f4e9fabe",
   "metadata": {},
   "outputs": [
    {
     "data": {
      "text/plain": [
       "'am a '"
      ]
     },
     "execution_count": 43,
     "metadata": {},
     "output_type": "execute_result"
    }
   ],
   "source": [
    "a[2:7]"
   ]
  },
  {
   "cell_type": "code",
   "execution_count": 42,
   "id": "6eca116d-829a-42c8-996c-8a8e88fa494d",
   "metadata": {},
   "outputs": [
    {
     "data": {
      "text/plain": [
       "'a  t'"
      ]
     },
     "execution_count": 42,
     "metadata": {},
     "output_type": "execute_result"
    }
   ],
   "source": [
    "a[2:9:2]"
   ]
  },
  {
   "cell_type": "code",
   "execution_count": 41,
   "id": "de691274-f34b-4498-bdaa-70f8dccf798f",
   "metadata": {},
   "outputs": [
    {
     "data": {
      "text/plain": [
       "'Ia  tdn'"
      ]
     },
     "execution_count": 41,
     "metadata": {},
     "output_type": "execute_result"
    }
   ],
   "source": [
    "a[ : :2]"
   ]
  },
  {
   "cell_type": "code",
   "execution_count": 45,
   "id": "dc1345d3-32ee-4ef6-9df5-e23a609658db",
   "metadata": {},
   "outputs": [
    {
     "data": {
      "text/plain": [
       "'nedutS a ma '"
      ]
     },
     "execution_count": 45,
     "metadata": {},
     "output_type": "execute_result"
    }
   ],
   "source": [
    "a[-2:-14 :-1]"
   ]
  },
  {
   "cell_type": "code",
   "execution_count": 51,
   "id": "7424d48e-c259-4e8f-abda-aa35f478b182",
   "metadata": {},
   "outputs": [
    {
     "name": "stdout",
     "output_type": "stream",
     "text": [
      "\n"
     ]
    }
   ],
   "source": [
    "print(a[2:14:-1])"
   ]
  },
  {
   "cell_type": "code",
   "execution_count": 52,
   "id": "c7ca0790-48d2-4756-b6eb-66746cea1b16",
   "metadata": {},
   "outputs": [
    {
     "name": "stdout",
     "output_type": "stream",
     "text": [
      "am a Student\n"
     ]
    }
   ],
   "source": [
    "print(a[2:50:1])"
   ]
  },
  {
   "cell_type": "code",
   "execution_count": 53,
   "id": "94879014-e68b-4797-863e-93fd4b442fb4",
   "metadata": {},
   "outputs": [
    {
     "data": {
      "text/plain": [
       "'tnedutS a ma I'"
      ]
     },
     "execution_count": 53,
     "metadata": {},
     "output_type": "execute_result"
    }
   ],
   "source": [
    "#reverse of the string\n",
    "a[ : :-1]"
   ]
  },
  {
   "cell_type": "code",
   "execution_count": 5,
   "id": "8b3afa52-ac89-4b4b-b240-a63600a1e407",
   "metadata": {},
   "outputs": [
    {
     "name": "stdout",
     "output_type": "stream",
     "text": [
      "My name is Sohan\n",
      "My name is Sohan\n",
      "My name is Sohan\n"
     ]
    }
   ],
   "source": [
    "mystring1='My name is Sohan'\n",
    "print(mystring1)\n",
    "mystring2=\"My name is Sohan\"\n",
    "print(mystring2)\n",
    "mystring3='''My name is Sohan'''\n",
    "print(mystring3)\n",
    " "
   ]
  },
  {
   "cell_type": "code",
   "execution_count": 6,
   "id": "5cc03e60-c344-4780-908c-633a7d3ca917",
   "metadata": {},
   "outputs": [
    {
     "data": {
      "text/plain": [
       "str"
      ]
     },
     "execution_count": 6,
     "metadata": {},
     "output_type": "execute_result"
    }
   ],
   "source": [
    "a='Student'\n",
    "type(a)"
   ]
  },
  {
   "cell_type": "code",
   "execution_count": 7,
   "id": "faa8c305-e092-4960-860c-5d6dc09f3baf",
   "metadata": {},
   "outputs": [
    {
     "ename": "ValueError",
     "evalue": "invalid literal for int() with base 10: 'Student'",
     "output_type": "error",
     "traceback": [
      "\u001b[1;31m---------------------------------------------------------------------------\u001b[0m",
      "\u001b[1;31mValueError\u001b[0m                                Traceback (most recent call last)",
      "Cell \u001b[1;32mIn[7], line 1\u001b[0m\n\u001b[1;32m----> 1\u001b[0m \u001b[38;5;28mint\u001b[39m(a)\n",
      "\u001b[1;31mValueError\u001b[0m: invalid literal for int() with base 10: 'Student'"
     ]
    }
   ],
   "source": [
    "int(a)"
   ]
  },
  {
   "cell_type": "code",
   "execution_count": 53,
   "id": "3297a74a-656f-4809-85a7-14bd4bc0b0dd",
   "metadata": {},
   "outputs": [
    {
     "data": {
      "text/plain": [
       "str"
      ]
     },
     "execution_count": 53,
     "metadata": {},
     "output_type": "execute_result"
    }
   ],
   "source": [
    "var='21052002'\n",
    "type(var)\n"
   ]
  },
  {
   "cell_type": "code",
   "execution_count": 54,
   "id": "4fc49742-2725-453c-8fda-680d799dadb1",
   "metadata": {},
   "outputs": [
    {
     "data": {
      "text/plain": [
       "'21052002'"
      ]
     },
     "execution_count": 54,
     "metadata": {},
     "output_type": "execute_result"
    }
   ],
   "source": [
    "var"
   ]
  },
  {
   "cell_type": "code",
   "execution_count": 55,
   "id": "9cc14319-fd5f-4461-a046-827bbc426d73",
   "metadata": {},
   "outputs": [
    {
     "data": {
      "text/plain": [
       "21052002.0"
      ]
     },
     "execution_count": 55,
     "metadata": {},
     "output_type": "execute_result"
    }
   ],
   "source": [
    "int(var)\n",
    "float(var)"
   ]
  },
  {
   "cell_type": "code",
   "execution_count": 63,
   "id": "f5b2b749-51f1-4e55-9cd3-5360c038f928",
   "metadata": {},
   "outputs": [
    {
     "ename": "ValueError",
     "evalue": "invalid literal for int() with base 10: '505.5'",
     "output_type": "error",
     "traceback": [
      "\u001b[1;31m---------------------------------------------------------------------------\u001b[0m",
      "\u001b[1;31mValueError\u001b[0m                                Traceback (most recent call last)",
      "Cell \u001b[1;32mIn[63], line 3\u001b[0m\n\u001b[0;32m      1\u001b[0m a\u001b[38;5;241m=\u001b[39m\u001b[38;5;124m'\u001b[39m\u001b[38;5;124m505.5\u001b[39m\u001b[38;5;124m'\u001b[39m\n\u001b[0;32m      2\u001b[0m \u001b[38;5;28mfloat\u001b[39m(a)\n\u001b[1;32m----> 3\u001b[0m \u001b[38;5;28mint\u001b[39m(a)\n",
      "\u001b[1;31mValueError\u001b[0m: invalid literal for int() with base 10: '505.5'"
     ]
    }
   ],
   "source": [
    "a='505.5'\n",
    "float(a)\n",
    "int(a)"
   ]
  },
  {
   "cell_type": "code",
   "execution_count": 61,
   "id": "7dee04a0-8745-470c-901f-99091f824ff1",
   "metadata": {},
   "outputs": [
    {
     "name": "stdin",
     "output_type": "stream",
     "text": [
      "Enter a decimal num:  20.32\n"
     ]
    },
    {
     "ename": "ValueError",
     "evalue": "invalid literal for int() with base 10: '20.32'",
     "output_type": "error",
     "traceback": [
      "\u001b[1;31m---------------------------------------------------------------------------\u001b[0m",
      "\u001b[1;31mValueError\u001b[0m                                Traceback (most recent call last)",
      "Cell \u001b[1;32mIn[61], line 4\u001b[0m\n\u001b[0;32m      1\u001b[0m a\u001b[38;5;241m=\u001b[39m\u001b[38;5;28minput\u001b[39m(\u001b[38;5;124m\"\u001b[39m\u001b[38;5;124mEnter a decimal num: \u001b[39m\u001b[38;5;124m\"\u001b[39m)\n\u001b[0;32m      3\u001b[0m \u001b[38;5;28mfloat\u001b[39m(a)\n\u001b[1;32m----> 4\u001b[0m \u001b[38;5;28mint\u001b[39m(a)\n",
      "\u001b[1;31mValueError\u001b[0m: invalid literal for int() with base 10: '20.32'"
     ]
    }
   ],
   "source": [
    "a=input(\"Enter a decimal num: \")\n",
    "\n",
    "float(a)\n",
    "int(a)"
   ]
  },
  {
   "cell_type": "code",
   "execution_count": 6,
   "id": "249093a3-78a7-47cd-ac3c-6ecc3ee8e20b",
   "metadata": {},
   "outputs": [
    {
     "ename": "SyntaxError",
     "evalue": "unterminated string literal (detected at line 1) (10149177.py, line 1)",
     "output_type": "error",
     "traceback": [
      "\u001b[1;36m  Cell \u001b[1;32mIn[6], line 1\u001b[1;36m\u001b[0m\n\u001b[1;33m    print('this is my father's \"car\"')\u001b[0m\n\u001b[1;37m                                    ^\u001b[0m\n\u001b[1;31mSyntaxError\u001b[0m\u001b[1;31m:\u001b[0m unterminated string literal (detected at line 1)\n"
     ]
    }
   ],
   "source": [
    "print('this is my father's \"car\"')"
   ]
  },
  {
   "cell_type": "code",
   "execution_count": 13,
   "id": "938f7e68-51aa-4898-9c9c-f98312c7e106",
   "metadata": {},
   "outputs": [
    {
     "name": "stdout",
     "output_type": "stream",
     "text": [
      "this is my father's\"car\" \n"
     ]
    }
   ],
   "source": [
    "print('this is my father\\'s\"car\" ')"
   ]
  },
  {
   "cell_type": "code",
   "execution_count": 18,
   "id": "2fd16970-d18f-4126-8e32-412861410080",
   "metadata": {},
   "outputs": [
    {
     "name": "stdout",
     "output_type": "stream",
     "text": [
      "This is my father\n",
      "'s car\n"
     ]
    }
   ],
   "source": [
    "print(\"This is my father\") \n",
    "print(\"'s car\")"
   ]
  },
  {
   "cell_type": "code",
   "execution_count": 66,
   "id": "a58b8554-f7e9-4e77-b02a-652f5b442b91",
   "metadata": {},
   "outputs": [
    {
     "ename": "SyntaxError",
     "evalue": "invalid syntax. Perhaps you forgot a comma? (138475980.py, line 1)",
     "output_type": "error",
     "traceback": [
      "\u001b[1;36m  Cell \u001b[1;32mIn[66], line 1\u001b[1;36m\u001b[0m\n\u001b[1;33m    print(\"navin's \"laptop\"\")\u001b[0m\n\u001b[1;37m          ^\u001b[0m\n\u001b[1;31mSyntaxError\u001b[0m\u001b[1;31m:\u001b[0m invalid syntax. Perhaps you forgot a comma?\n"
     ]
    }
   ],
   "source": [
    "print(\"navin's \"laptop\"\")"
   ]
  },
  {
   "cell_type": "code",
   "execution_count": 19,
   "id": "bb907fe6-0d63-4f61-a6a9-5f930740f85e",
   "metadata": {},
   "outputs": [
    {
     "name": "stdout",
     "output_type": "stream",
     "text": [
      "21.05.2002\n"
     ]
    }
   ],
   "source": [
    "a='21.05.'\n",
    "b='2002'\n",
    "print(a+b)"
   ]
  },
  {
   "cell_type": "code",
   "execution_count": 22,
   "id": "00fa9d41-dcd2-4e35-8a64-e0d7f36c0e7f",
   "metadata": {},
   "outputs": [
    {
     "data": {
      "text/plain": [
       "4107"
      ]
     },
     "execution_count": 22,
     "metadata": {},
     "output_type": "execute_result"
    }
   ],
   "source": [
    "a='2105'\n",
    "b='2002'\n",
    "int(a)+int(b)"
   ]
  },
  {
   "cell_type": "code",
   "execution_count": 69,
   "id": "f1f595b6-dec6-4af8-8a60-9ca0da11a197",
   "metadata": {},
   "outputs": [
    {
     "ename": "TypeError",
     "evalue": "unsupported operand type(s) for +: 'int' and 'str'",
     "output_type": "error",
     "traceback": [
      "\u001b[1;31m---------------------------------------------------------------------------\u001b[0m",
      "\u001b[1;31mTypeError\u001b[0m                                 Traceback (most recent call last)",
      "Cell \u001b[1;32mIn[69], line 3\u001b[0m\n\u001b[0;32m      1\u001b[0m e\u001b[38;5;241m=\u001b[39m\u001b[38;5;241m2\u001b[39m\n\u001b[0;32m      2\u001b[0m f \u001b[38;5;241m=\u001b[39m\u001b[38;5;124m'\u001b[39m\u001b[38;5;124m31\u001b[39m\u001b[38;5;124m'\u001b[39m\n\u001b[1;32m----> 3\u001b[0m e\u001b[38;5;241m+\u001b[39mf\n",
      "\u001b[1;31mTypeError\u001b[0m: unsupported operand type(s) for +: 'int' and 'str'"
     ]
    }
   ],
   "source": [
    "e=2\n",
    "f ='31'\n",
    "e+f"
   ]
  },
  {
   "cell_type": "code",
   "execution_count": 29,
   "id": "7b94922e-c1fc-435c-940e-2152310a0fab",
   "metadata": {},
   "outputs": [
    {
     "data": {
      "text/plain": [
       "'navinnavin'"
      ]
     },
     "execution_count": 29,
     "metadata": {},
     "output_type": "execute_result"
    }
   ],
   "source": [
    "'navin'+'navin'"
   ]
  },
  {
   "cell_type": "code",
   "execution_count": 13,
   "id": "17934f95-af81-420b-949f-dc031c6f51de",
   "metadata": {},
   "outputs": [
    {
     "data": {
      "text/plain": [
       "33"
      ]
     },
     "execution_count": 13,
     "metadata": {},
     "output_type": "execute_result"
    }
   ],
   "source": [
    "e+int(f)"
   ]
  },
  {
   "cell_type": "code",
   "execution_count": 14,
   "id": "e3693cfa-222a-4f24-8c7b-bd97c84dcb95",
   "metadata": {},
   "outputs": [
    {
     "name": "stdout",
     "output_type": "stream",
     "text": [
      "231\n"
     ]
    }
   ],
   "source": [
    "print(str(e)+f)"
   ]
  },
  {
   "cell_type": "code",
   "execution_count": 45,
   "id": "f631f4e2-8f17-4b61-86c7-77aaa8b67d91",
   "metadata": {},
   "outputs": [
    {
     "data": {
      "text/plain": [
       "'Ocac_pyhon batch'"
      ]
     },
     "execution_count": 45,
     "metadata": {},
     "output_type": "execute_result"
    }
   ],
   "source": [
    "a='OCAC_Pyhon batch'\n",
    "a.capitalize()"
   ]
  },
  {
   "cell_type": "code",
   "execution_count": 46,
   "id": "c0e50fcd-f2b4-46d9-a0d4-1a42ffaf6c51",
   "metadata": {},
   "outputs": [
    {
     "data": {
      "text/plain": [
       "'Ocac_Pyhon Batch'"
      ]
     },
     "execution_count": 46,
     "metadata": {},
     "output_type": "execute_result"
    }
   ],
   "source": [
    "a.title()"
   ]
  },
  {
   "cell_type": "code",
   "execution_count": 47,
   "id": "4510686f-3da6-4df0-89a6-8fa7bbabce83",
   "metadata": {},
   "outputs": [
    {
     "data": {
      "text/plain": [
       "'OCAC_PYHON BATCH'"
      ]
     },
     "execution_count": 47,
     "metadata": {},
     "output_type": "execute_result"
    }
   ],
   "source": [
    "a.upper()"
   ]
  },
  {
   "cell_type": "code",
   "execution_count": 48,
   "id": "a76c77a0-e12f-46fe-84e3-b04383e6b182",
   "metadata": {},
   "outputs": [
    {
     "data": {
      "text/plain": [
       "'SOHAN'"
      ]
     },
     "execution_count": 48,
     "metadata": {},
     "output_type": "execute_result"
    }
   ],
   "source": [
    "'sohan'.upper()"
   ]
  },
  {
   "cell_type": "code",
   "execution_count": 49,
   "id": "2d5fe2c8-1d21-4a19-9fe8-0a7bccd6d247",
   "metadata": {},
   "outputs": [
    {
     "data": {
      "text/plain": [
       "'ocac'"
      ]
     },
     "execution_count": 49,
     "metadata": {},
     "output_type": "execute_result"
    }
   ],
   "source": [
    "'OCAC'.lower()"
   ]
  },
  {
   "cell_type": "code",
   "execution_count": 50,
   "id": "94a387fc-ccf3-4e48-b3cb-13eeb70f7e99",
   "metadata": {},
   "outputs": [
    {
     "data": {
      "text/plain": [
       "'Ocac'"
      ]
     },
     "execution_count": 50,
     "metadata": {},
     "output_type": "execute_result"
    }
   ],
   "source": [
    "'OCAC'.title()"
   ]
  },
  {
   "cell_type": "code",
   "execution_count": 51,
   "id": "e0cb96b1-79e2-438e-8a1e-51df4b7e3315",
   "metadata": {},
   "outputs": [
    {
     "data": {
      "text/plain": [
       "['I', 'AM', 'A', 'GOOD', 'STUDENT']"
      ]
     },
     "execution_count": 51,
     "metadata": {},
     "output_type": "execute_result"
    }
   ],
   "source": [
    "'I AM A GOOD STUDENT'.split()"
   ]
  },
  {
   "cell_type": "code",
   "execution_count": 53,
   "id": "19ecb93a-1b58-4606-a4e7-83f1c2a0afab",
   "metadata": {},
   "outputs": [
    {
     "data": {
      "text/plain": [
       "['Hey there', ' I am using Python.']"
      ]
     },
     "execution_count": 53,
     "metadata": {},
     "output_type": "execute_result"
    }
   ],
   "source": [
    "'Hey there! I am using Python.'.split('!')"
   ]
  },
  {
   "cell_type": "code",
   "execution_count": 57,
   "id": "2fee5ee3-f52e-41d9-9c0c-23f84b8d9a3d",
   "metadata": {},
   "outputs": [
    {
     "data": {
      "text/plain": [
       "'Looking to the back will never let you go forward'"
      ]
     },
     "execution_count": 57,
     "metadata": {},
     "output_type": "execute_result"
    }
   ],
   "source": [
    "' '.join(['Looking to the','back' ,'will' ,'never', 'let you go forward'])"
   ]
  },
  {
   "cell_type": "code",
   "execution_count": 58,
   "id": "5118866e-93fb-4f95-888e-ac7ac5f301db",
   "metadata": {},
   "outputs": [
    {
     "data": {
      "text/plain": [
       "7"
      ]
     },
     "execution_count": 58,
     "metadata": {},
     "output_type": "execute_result"
    }
   ],
   "source": [
    "'Happy costumers'.find(\"o\")"
   ]
  },
  {
   "cell_type": "code",
   "execution_count": 60,
   "id": "aa54a2c8-fcec-455d-b161-b7211fd32659",
   "metadata": {},
   "outputs": [
    {
     "data": {
      "text/plain": [
       "6"
      ]
     },
     "execution_count": 60,
     "metadata": {},
     "output_type": "execute_result"
    }
   ],
   "source": [
    "'syndrela is more curious about the ride that has been rarely planned.'.count('r')"
   ]
  },
  {
   "cell_type": "code",
   "execution_count": 63,
   "id": "8507ebf3-8adb-4d74-90d7-6f89c6af97c6",
   "metadata": {},
   "outputs": [
    {
     "data": {
      "text/plain": [
       "19"
      ]
     },
     "execution_count": 63,
     "metadata": {},
     "output_type": "execute_result"
    }
   ],
   "source": [
    "'syndrela is more curious about the ride that has been rarely planned.'.find('ri')"
   ]
  },
  {
   "cell_type": "code",
   "execution_count": 71,
   "id": "63de966c-b1ab-4080-b44e-8f5867ae99bc",
   "metadata": {},
   "outputs": [
    {
     "data": {
      "text/plain": [
       "'ARayon is more curious about the ride that has been rarely planned.'"
      ]
     },
     "execution_count": 71,
     "metadata": {},
     "output_type": "execute_result"
    }
   ],
   "source": [
    "a='syndrela is more curious about the ride that has been rarely planned.'\n",
    "b=a.replace('syndrela','ARayon')"
   ]
  },
  {
   "cell_type": "code",
   "execution_count": 93,
   "id": "1f325c37-6712-4087-8f96-1c815aa68326",
   "metadata": {},
   "outputs": [
    {
     "data": {
      "text/plain": [
       "-1"
      ]
     },
     "execution_count": 93,
     "metadata": {},
     "output_type": "execute_result"
    }
   ],
   "source": [
    "b.find('R')#it will not show any number as it is not present. we know the string is immutable and we know that this is the executed output being replaced only not stored\n"
   ]
  },
  {
   "cell_type": "code",
   "execution_count": 94,
   "id": "5d88b8d9-dd27-4a05-8754-2e8784f12c95",
   "metadata": {},
   "outputs": [
    {
     "name": "stdout",
     "output_type": "stream",
     "text": [
      "False\n",
      "False\n",
      "False\n",
      "False\n",
      "False\n",
      "False\n",
      "False\n",
      "True\n",
      "True\n"
     ]
    }
   ],
   "source": [
    "string='I have a Ninja10r'\n",
    "print(string.isalnum())#is the string consists of both numbers and alphabet\n",
    "print(string.isalpha())# is the strint consists of only alphabet\n",
    "print(string.isdigit())#is the string consists of only digit\n",
    "print(string.istitle())#is the string in title format\n",
    "print(string.isupper())#is the string  in upper case\n",
    "print(string.islower())#is the string in lowercase\n",
    "print(string.isspace())#is the string contains any space\n",
    "print(string.endswith('r'))#is the string ends with the alphabet present in the bracket beside\n",
    "print(string.startswith('I'))#is the string starts with the alphaber present in the bracket beside"
   ]
  },
  {
   "cell_type": "code",
   "execution_count": 110,
   "id": "803e5c65-249e-49af-9374-4361633166ec",
   "metadata": {},
   "outputs": [
    {
     "name": "stdout",
     "output_type": "stream",
     "text": [
      "19\n",
      "~~~~~~~~~~~~~~~~~~~~~~~~~~~~~~~~~~~~~~~~~~~~~~~Sohan kumar21052002~~~~~~~~~~~~~~~~~~~~~~~~~~~~~~~~~~~~~~~~~~~~~~~~\n",
      "8\n"
     ]
    }
   ],
   "source": [
    "st=\"Sohan kumar21052002\"\n",
    "print(len(st))\n",
    "print(st.center(114 ,'~'))\n",
    "print(st.find('m'))"
   ]
  },
  {
   "cell_type": "code",
   "execution_count": 16,
   "id": "47f9882c-cc9c-48de-8c65-10c22353698d",
   "metadata": {},
   "outputs": [
    {
     "name": "stdout",
     "output_type": "stream",
     "text": [
      "0.123\n"
     ]
    }
   ],
   "source": [
    "a=000000000000000000000000000000000000000000.123\n",
    "print(a)"
   ]
  },
  {
   "cell_type": "code",
   "execution_count": 18,
   "id": "a1d316f5-4c3c-4269-a039-72c5721434cd",
   "metadata": {},
   "outputs": [
    {
     "name": "stdout",
     "output_type": "stream",
     "text": [
      "123.0\n"
     ]
    }
   ],
   "source": [
    "b=123.00000000000000000000000000000000\n",
    "print(b)"
   ]
  },
  {
   "cell_type": "code",
   "execution_count": 21,
   "id": "b7d641e6-ec3c-4eeb-a895-39ff95d0f8fd",
   "metadata": {},
   "outputs": [
    {
     "name": "stdout",
     "output_type": "stream",
     "text": [
      "10.501\n",
      "<class 'float'>\n"
     ]
    }
   ],
   "source": [
    "e=010.501\n",
    "print(e)\n",
    "print(type(e))"
   ]
  },
  {
   "cell_type": "code",
   "execution_count": 22,
   "id": "d67830aa-f5be-4bb9-b2b1-17432e4524e2",
   "metadata": {},
   "outputs": [
    {
     "data": {
      "text/plain": [
       "False"
      ]
     },
     "execution_count": 22,
     "metadata": {},
     "output_type": "execute_result"
    }
   ],
   "source": [
    "10.5>10.50"
   ]
  },
  {
   "cell_type": "code",
   "execution_count": 23,
   "id": "35bb783e-4f46-449a-9f6a-dcf475382654",
   "metadata": {},
   "outputs": [
    {
     "data": {
      "text/plain": [
       "True"
      ]
     },
     "execution_count": 23,
     "metadata": {},
     "output_type": "execute_result"
    }
   ],
   "source": [
    "10.5==10.50"
   ]
  },
  {
   "cell_type": "code",
   "execution_count": 32,
   "id": "e7eaf6ba-8018-4066-89d7-d3dc2e391484",
   "metadata": {},
   "outputs": [
    {
     "name": "stdout",
     "output_type": "stream",
     "text": [
      "5\n",
      "13\n"
     ]
    }
   ],
   "source": [
    "print(5)\n",
    "print(0o15)"
   ]
  },
  {
   "cell_type": "code",
   "execution_count": 34,
   "id": "b020cd12-8a12-44be-a62a-643accd3504c",
   "metadata": {},
   "outputs": [
    {
     "name": "stdout",
     "output_type": "stream",
     "text": [
      "5.0\n",
      "15.15\n"
     ]
    }
   ],
   "source": [
    "print(5.00)\n",
    "print(0015.1500)"
   ]
  },
  {
   "cell_type": "code",
   "execution_count": 70,
   "id": "830b9148-aa7c-488a-b231-a052e2439f87",
   "metadata": {},
   "outputs": [],
   "source": [
    "user='sohan'\n",
    "lines=50\n",
    "    "
   ]
  },
  {
   "cell_type": "code",
   "execution_count": 72,
   "id": "c3a6d212-e72c-42b3-a0d1-acfb9ee245c7",
   "metadata": {},
   "outputs": [
    {
     "data": {
      "text/plain": [
       "11"
      ]
     },
     "execution_count": 72,
     "metadata": {},
     "output_type": "execute_result"
    }
   ],
   "source": [
    "s=\"Hello there\"\n",
    "len(s)"
   ]
  },
  {
   "cell_type": "code",
   "execution_count": 78,
   "id": "01979ccb-8e7b-4987-854e-5c1a297493a2",
   "metadata": {},
   "outputs": [
    {
     "data": {
      "text/plain": [
       "'lo the'"
      ]
     },
     "execution_count": 78,
     "metadata": {},
     "output_type": "execute_result"
    }
   ],
   "source": [
    "s[-8:-2]"
   ]
  },
  {
   "cell_type": "code",
   "execution_count": 74,
   "id": "3dda39c0-6e33-4531-bcc7-513e48102eac",
   "metadata": {},
   "outputs": [
    {
     "data": {
      "text/plain": [
       "'ereht olleH'"
      ]
     },
     "execution_count": 74,
     "metadata": {},
     "output_type": "execute_result"
    }
   ],
   "source": [
    "s[::-1]"
   ]
  },
  {
   "cell_type": "code",
   "execution_count": 79,
   "id": "5f059af0-f6ff-4182-9d35-109dba820880",
   "metadata": {},
   "outputs": [
    {
     "data": {
      "text/plain": [
       "'lo the'"
      ]
     },
     "execution_count": 79,
     "metadata": {},
     "output_type": "execute_result"
    }
   ],
   "source": [
    "s[3:9]"
   ]
  },
  {
   "cell_type": "code",
   "execution_count": 80,
   "id": "f6e53965-993e-4f22-9163-fdafcf26100f",
   "metadata": {},
   "outputs": [
    {
     "data": {
      "text/plain": [
       "''"
      ]
     },
     "execution_count": 80,
     "metadata": {},
     "output_type": "execute_result"
    }
   ],
   "source": [
    "s[5:1]"
   ]
  },
  {
   "cell_type": "code",
   "execution_count": 85,
   "id": "d3b85b0c-47f6-409a-9ea4-923feb03d85c",
   "metadata": {},
   "outputs": [
    {
     "data": {
      "text/plain": [
       "' olleH'"
      ]
     },
     "execution_count": 85,
     "metadata": {},
     "output_type": "execute_result"
    }
   ],
   "source": [
    "s[5: :-1]"
   ]
  },
  {
   "cell_type": "code",
   "execution_count": 84,
   "id": "9edea4c5-64c1-4d5c-9927-5c7d2838406b",
   "metadata": {},
   "outputs": [
    {
     "data": {
      "text/plain": [
       "'M dooG'"
      ]
     },
     "execution_count": 84,
     "metadata": {},
     "output_type": "execute_result"
    }
   ],
   "source": [
    "b='Good Morning'\n",
    "b[5:1:-1]"
   ]
  },
  {
   "cell_type": "code",
   "execution_count": 2,
   "id": "f40d72ab-4ec6-47f1-8e9f-ad903ef45532",
   "metadata": {},
   "outputs": [
    {
     "name": "stdout",
     "output_type": "stream",
     "text": [
      "pine\n",
      "apple\n"
     ]
    }
   ],
   "source": [
    "a='pineapple'\n",
    "print(a[0:4])\n",
    "print(a[4: ])"
   ]
  },
  {
   "cell_type": "code",
   "execution_count": 5,
   "id": "f96d2017-6ca7-4418-901a-840bf76e21ef",
   "metadata": {},
   "outputs": [
    {
     "name": "stdout",
     "output_type": "stream",
     "text": [
      "['apple', 'banana', 'watermelon']\n"
     ]
    }
   ],
   "source": [
    " thislist = [\"apple\", \"banana\", \"cherry\"]\n",
    "thislist[2:3] = [\"watermelon\"]\n",
    "print(thislist)"
   ]
  },
  {
   "cell_type": "code",
   "execution_count": 6,
   "id": "42782acc-9049-404a-9c4e-d0263bf65f02",
   "metadata": {},
   "outputs": [
    {
     "name": "stdout",
     "output_type": "stream",
     "text": [
      "['apple', 'banana', 'watermelon', 'cherry']\n"
     ]
    }
   ],
   "source": [
    "thislist = [\"apple\", \"banana\", \"cherry\"]\n",
    "thislist.insert(2, \"watermelon\")\n",
    "print(thislist)"
   ]
  },
  {
   "cell_type": "code",
   "execution_count": 2,
   "id": "dfdd08d1-b2fc-4bca-a844-97f81fdb86a5",
   "metadata": {},
   "outputs": [],
   "source": [
    "import tkinter as tk\n",
    "from tkinter import messagebox\n",
    "\n",
    "class StudentMarksApp:\n",
    "    def __init__(self, root):\n",
    "        self.students = {}\n",
    "        self.root = root\n",
    "        self.root.title(\"Student Marks Management\")\n",
    "        \n",
    "        # Create GUI components\n",
    "        self.create_widgets()\n",
    "    \n",
    "    def create_widgets(self):\n",
    "        # Labels\n",
    "        self.label_instruction = tk.Label(self.root, text=\"Choose an option:\")\n",
    "        self.label_instruction.grid(row=0, column=0, columnspan=2, padx=10, pady=10)\n",
    "        \n",
    "        # Buttons\n",
    "        self.button_add_marks = tk.Button(self.root, text=\"Add Marks\", command=self.add_marks)\n",
    "        self.button_add_marks.grid(row=1, column=0, padx=10, pady=5)\n",
    "        \n",
    "        self.button_view_marks = tk.Button(self.root, text=\"View Marks\", command=self.view_marks)\n",
    "        self.button_view_marks.grid(row=1, column=1, padx=10, pady=5)\n",
    "        \n",
    "        self.button_exit = tk.Button(self.root, text=\"Exit\", command=self.root.destroy)\n",
    "        self.button_exit.grid(row=2, column=0, columnspan=2, padx=10, pady=5)\n",
    "        \n",
    "    def add_marks(self):\n",
    "        # Create a new window for adding marks\n",
    "        self.add_marks_window = tk.Toplevel(self.root)\n",
    "        self.add_marks_window.title(\"Add Marks\")\n",
    "        \n",
    "        # Entry fields\n",
    "        self.label_roll_number = tk.Label(self.add_marks_window, text=\"Enter student's roll number:\")\n",
    "        self.label_roll_number.grid(row=0, column=0, padx=10, pady=10)\n",
    "        self.entry_roll_number = tk.Entry(self.add_marks_window)\n",
    "        self.entry_roll_number.grid(row=0, column=1, padx=10, pady=10)\n",
    "        \n",
    "        self.label_subject = tk.Label(self.add_marks_window, text=\"Enter subject name (or 'done' to finish):\")\n",
    "        self.label_subject.grid(row=1, column=0, padx=10, pady=10)\n",
    "        self.entry_subject = tk.Entry(self.add_marks_window)\n",
    "        self.entry_subject.grid(row=1, column=1, padx=10, pady=10)\n",
    "        \n",
    "        self.label_marks = tk.Label(self.add_marks_window, text=\"Enter marks:\")\n",
    "        self.label_marks.grid(row=2, column=0, padx=10, pady=10)\n",
    "        self.entry_marks = tk.Entry(self.add_marks_window)\n",
    "        self.entry_marks.grid(row=2, column=1, padx=10, pady=10)\n",
    "        \n",
    "        # Listbox to display added subjects and marks\n",
    "        self.listbox_subjects = tk.Listbox(self.add_marks_window, width=50, height=10)\n",
    "        self.listbox_subjects.grid(row=3, column=0, columnspan=2, padx=10, pady=10)\n",
    "        \n",
    "        # Add subject button\n",
    "        self.button_add_subject = tk.Button(self.add_marks_window, text=\"Add Subject\", command=self.add_subject)\n",
    "        self.button_add_subject.grid(row=4, column=0, columnspan=2, padx=10, pady=5)\n",
    "        \n",
    "        # Save marks button\n",
    "        self.button_save_marks = tk.Button(self.add_marks_window, text=\"Save Marks\", command=self.save_marks)\n",
    "        self.button_save_marks.grid(row=5, column=0, columnspan=2, padx=10, pady=5)\n",
    "        \n",
    "        # Initialize subject list\n",
    "        self.subjects_list = []\n",
    "    \n",
    "    def add_subject(self):\n",
    "        subject = self.entry_subject.get().strip()\n",
    "        marks = self.entry_marks.get().strip()\n",
    "        \n",
    "        if not subject or not marks:\n",
    "            messagebox.showwarning(\"Incomplete Input\", \"Please enter subject name and marks.\")\n",
    "            return\n",
    "        \n",
    "        try:\n",
    "            marks = float(marks)\n",
    "        except ValueError:\n",
    "            messagebox.showerror(\"Invalid Marks\", \"Marks must be a number.\")\n",
    "            return\n",
    "        \n",
    "        self.subjects_list.append((subject, marks))\n",
    "        self.listbox_subjects.insert(tk.END, f\"{subject}: {marks}\")\n",
    "        \n",
    "        # Clear entry fields\n",
    "        self.entry_subject.delete(0, tk.END)\n",
    "        self.entry_marks.delete(0, tk.END)\n",
    "    \n",
    "    def save_marks(self):\n",
    "        roll_number = self.entry_roll_number.get().strip()\n",
    "        \n",
    "        if not roll_number:\n",
    "            messagebox.showwarning(\"Incomplete Input\", \"Please enter student's roll number.\")\n",
    "            return\n",
    "        \n",
    "        if roll_number not in self.students:\n",
    "            self.students[roll_number] = {}\n",
    "        \n",
    "        total_marks = 0\n",
    "        for subject, marks in self.subjects_list:\n",
    "            self.students[roll_number][subject] = marks\n",
    "            total_marks += marks\n",
    "        \n",
    "        # Calculate grade\n",
    "        grade = self.calculate_grade(total_marks)\n",
    "        \n",
    "        # Save total marks and grade\n",
    "        self.students[roll_number]['Total Marks'] = total_marks\n",
    "        self.students[roll_number]['Grade'] = grade\n",
    "        \n",
    "        messagebox.showinfo(\"Marks Added\", f\"Marks added for roll number {roll_number}.\")\n",
    "        \n",
    "        # Close the add marks window\n",
    "        self.add_marks_window.destroy()\n",
    "    \n",
    "    def calculate_grade(self, total_marks):\n",
    "        # Define a simple grading scheme (you can modify this as per your requirements)\n",
    "        if total_marks >= 90:\n",
    "            return 'A'\n",
    "        elif total_marks >= 80:\n",
    "            return 'B'\n",
    "        elif total_marks >= 70:\n",
    "            return 'C'\n",
    "        elif total_marks >= 60:\n",
    "            return 'D'\n",
    "        else:\n",
    "            return 'F'\n",
    "    \n",
    "    def view_marks(self):\n",
    "        # Create a new window for viewing marks\n",
    "        self.view_marks_window = tk.Toplevel(self.root)\n",
    "        self.view_marks_window.title(\"View Marks\")\n",
    "        \n",
    "        # Entry field\n",
    "        self.label_roll_number_view = tk.Label(self.view_marks_window, text=\"Enter student's roll number:\")\n",
    "        self.label_roll_number_view.grid(row=0, column=0, padx=10, pady=10)\n",
    "        self.entry_roll_number_view = tk.Entry(self.view_marks_window)\n",
    "        self.entry_roll_number_view.grid(row=0, column=1, padx=10, pady=10)\n",
    "        \n",
    "        # View marks button\n",
    "        self.button_view = tk.Button(self.view_marks_window, text=\"View Marks\", command=self.show_marks)\n",
    "        self.button_view.grid(row=1, column=0, columnspan=2, padx=10, pady=10)\n",
    "        \n",
    "        # Text widget to display marks\n",
    "        self.text_marks = tk.Text(self.view_marks_window, width=50, height=10)\n",
    "        self.text_marks.grid(row=2, column=0, columnspan=2, padx=10, pady=10)\n",
    "    \n",
    "    def show_marks(self):\n",
    "        roll_number = self.entry_roll_number_view.get().strip()\n",
    "        \n",
    "        if roll_number in self.students:\n",
    "            self.text_marks.delete('1.0', tk.END)\n",
    "            self.text_marks.insert(tk.END, f\"Marks for roll number {roll_number}:\\n\")\n",
    "            for subject, marks in self.students[roll_number].items():\n",
    "                self.text_marks.insert(tk.END, f\"{subject}: {marks}\\n\")\n",
    "        else:\n",
    "            messagebox.showwarning(\"No Marks Found\", f\"No marks found for roll number {roll_number}.\")\n",
    "        \n",
    "    def run(self):\n",
    "        self.root.mainloop()\n",
    "\n",
    "def main():\n",
    "    root = tk.Tk()\n",
    "    app = StudentMarksApp(root)\n",
    "    app.run()\n",
    "\n",
    "if __name__ == \"__main__\":\n",
    "    main()\n"
   ]
  },
  {
   "cell_type": "code",
   "execution_count": 1,
   "id": "d3efe22c-97fc-4627-82fe-ee08f0b1cd80",
   "metadata": {},
   "outputs": [],
   "source": [
    " import tkinter as tk\n",
    "from tkinter import messagebox\n",
    "\n",
    "class StudentMarksApp:\n",
    "    def __init__(self, root):\n",
    "        self.students = {}\n",
    "        self.root = root\n",
    "        self.root.title(\"Student Marks Management\")\n",
    "        \n",
    "        # Create GUI components\n",
    "        self.create_widgets()\n",
    "    \n",
    "    def create_widgets(self):\n",
    "        # Labels\n",
    "        self.label_instruction = tk.Label(self.root, text=\"Choose an option:\")\n",
    "        self.label_instruction.grid(row=0, column=0, columnspan=2, padx=10, pady=10)\n",
    "        \n",
    "        # Buttons\n",
    "        self.button_add_marks = tk.Button(self.root, text=\"Add Marks\", command=self.add_marks)\n",
    "        self.button_add_marks.grid(row=1, column=0, padx=10, pady=5)\n",
    "        \n",
    "        self.button_view_marks = tk.Button(self.root, text=\"View Marks\", command=self.view_marks)\n",
    "        self.button_view_marks.grid(row=1, column=1, padx=10, pady=5)\n",
    "        \n",
    "        self.button_view_all_data = tk.Button(self.root, text=\"View All Data\", command=self.view_all_data)\n",
    "        self.button_view_all_data.grid(row=2, column=0, columnspan=2, padx=10, pady=5)\n",
    "        \n",
    "        self.button_exit = tk.Button(self.root, text=\"Exit\", command=self.root.destroy)\n",
    "        self.button_exit.grid(row=3, column=0, columnspan=2, padx=10, pady=5)\n",
    "        \n",
    "    def add_marks(self):\n",
    "        # Create a new window for adding marks\n",
    "        self.add_marks_window = tk.Toplevel(self.root)\n",
    "        self.add_marks_window.title(\"Add Marks\")\n",
    "        \n",
    "        # Entry fields\n",
    "        self.label_roll_number = tk.Label(self.add_marks_window, text=\"Enter student's roll number:\")\n",
    "        self.label_roll_number.grid(row=0, column=0, padx=10, pady=10)\n",
    "        self.entry_roll_number = tk.Entry(self.add_marks_window)\n",
    "        self.entry_roll_number.grid(row=0, column=1, padx=10, pady=10)\n",
    "        \n",
    "        self.label_subject = tk.Label(self.add_marks_window, text=\"Enter subject name (or 'done' to finish):\")\n",
    "        self.label_subject.grid(row=1, column=0, padx=10, pady=10)\n",
    "        self.entry_subject = tk.Entry(self.add_marks_window)\n",
    "        self.entry_subject.grid(row=1, column=1, padx=10, pady=10)\n",
    "        \n",
    "        self.label_marks = tk.Label(self.add_marks_window, text=\"Enter marks:\")\n",
    "        self.label_marks.grid(row=2, column=0, padx=10, pady=10)\n",
    "        self.entry_marks = tk.Entry(self.add_marks_window)\n",
    "        self.entry_marks.grid(row=2, column=1, padx=10, pady=10)\n",
    "        \n",
    "        # Listbox to display added subjects and marks\n",
    "        self.listbox_subjects = tk.Listbox(self.add_marks_window, width=50, height=10)\n",
    "        self.listbox_subjects.grid(row=3, column=0, columnspan=2, padx=10, pady=10)\n",
    "        \n",
    "        # Add subject button\n",
    "        self.button_add_subject = tk.Button(self.add_marks_window, text=\"Add Subject\", command=self.add_subject)\n",
    "        self.button_add_subject.grid(row=4, column=0, columnspan=2, padx=10, pady=5)\n",
    "        \n",
    "        # Save marks button\n",
    "        self.button_save_marks = tk.Button(self.add_marks_window, text=\"Save Marks\", command=self.save_marks)\n",
    "        self.button_save_marks.grid(row=5, column=0, columnspan=2, padx=10, pady=5)\n",
    "        \n",
    "        # Initialize subject list\n",
    "        self.subjects_list = []\n",
    "    \n",
    "    def add_subject(self):\n",
    "        subject = self.entry_subject.get().strip()\n",
    "        marks = self.entry_marks.get().strip()\n",
    "        \n",
    "        if not subject or not marks:\n",
    "            messagebox.showwarning(\"Incomplete Input\", \"Please enter subject name and marks.\")\n",
    "            return\n",
    "        \n",
    "        try:\n",
    "            marks = float(marks)\n",
    "        except ValueError:\n",
    "            messagebox.showerror(\"Invalid Marks\", \"Marks must be a number.\")\n",
    "            return\n",
    "        \n",
    "        self.subjects_list.append((subject, marks))\n",
    "        self.listbox_subjects.insert(tk.END, f\"{subject}: {marks}\")\n",
    "        \n",
    "        # Clear entry fields\n",
    "        self.entry_subject.delete(0, tk.END)\n",
    "        self.entry_marks.delete(0, tk.END)\n",
    "    \n",
    "    def save_marks(self):\n",
    "        roll_number = self.entry_roll_number.get().strip()\n",
    "        \n",
    "        if not roll_number:\n",
    "            messagebox.showwarning(\"Incomplete Input\", \"Please enter student's roll number.\")\n",
    "            return\n",
    "        \n",
    "        if roll_number not in self.students:\n",
    "            self.students[roll_number] = {}\n",
    "        \n",
    "        total_marks = 0\n",
    "        for subject, marks in self.subjects_list:\n",
    "            self.students[roll_number][subject] = marks\n",
    "            total_marks += marks\n",
    "        \n",
    "        # Calculate grade\n",
    "        grade = self.calculate_grade(total_marks)\n",
    "        \n",
    "        # Save total marks and grade\n",
    "        self.students[roll_number]['Total Marks'] = total_marks\n",
    "        self.students[roll_number]['Grade'] = grade\n",
    "        \n",
    "        messagebox.showinfo(\"Marks Added\", f\"Marks added for roll number {roll_number}.\")\n",
    "        \n",
    "        # Close the add marks window\n",
    "        self.add_marks_window.destroy()\n",
    "    \n",
    "    def calculate_grade(self, total_marks):\n",
    "        # Define a simple grading scheme (you can modify this as per your requirements)\n",
    "        if total_marks >= 90:\n",
    "            return 'A'\n",
    "        elif total_marks >= 80:\n",
    "            return 'B'\n",
    "        elif total_marks >= 70:\n",
    "            return 'C'\n",
    "        elif total_marks >= 60:\n",
    "            return 'D'\n",
    "        else:\n",
    "            return 'F'\n",
    "    \n",
    "    def view_marks(self):\n",
    "        # Create a new window for viewing marks\n",
    "        self.view_marks_window = tk.Toplevel(self.root)\n",
    "        self.view_marks_window.title(\"View Marks\")\n",
    "        \n",
    "        # Entry field\n",
    "        self.label_roll_number_view = tk.Label(self.view_marks_window, text=\"Enter student's roll number:\")\n",
    "        self.label_roll_number_view.grid(row=0, column=0, padx=10, pady=10)\n",
    "        self.entry_roll_number_view = tk.Entry(self.view_marks_window)\n",
    "        self.entry_roll_number_view.grid(row=0, column=1, padx=10, pady=10)\n",
    "        \n",
    "        # View marks button\n",
    "        self.button_view = tk.Button(self.view_marks_window, text=\"View Marks\", command=self.show_marks)\n",
    "        self.button_view.grid(row=1, column=0, columnspan=2, padx=10, pady=10)\n",
    "        \n",
    "        # Text widget to display marks\n",
    "        self.text_marks = tk.Text(self.view_marks_window, width=50, height=10)\n",
    "        self.text_marks.grid(row=2, column=0, columnspan=2, padx=10, pady=10)\n",
    "    \n",
    "    def show_marks(self):\n",
    "        roll_number = self.entry_roll_number_view.get().strip()\n",
    "        \n",
    "        if roll_number in self.students:\n",
    "            self.text_marks.delete('1.0', tk.END)\n",
    "            self.text_marks.insert(tk.END, f\"Marks for roll number {roll_number}:\\n\")\n",
    "            for subject, marks in self.students[roll_number].items():\n",
    "                self.text_marks.insert(tk.END, f\"{subject}: {marks}\\n\")\n",
    "        else:\n",
    "            messagebox.showwarning(\"No Marks Found\", f\"No marks found for roll number {roll_number}.\")\n",
    "    \n",
    "    def view_all_data(self):\n",
    "        # Create a new window for viewing all data\n",
    "        self.view_all_data_window = tk.Toplevel(self.root)\n",
    "        self.view_all_data_window.title(\"View All Data\")\n",
    "        \n",
    "        # Text widget to display all data\n",
    "        self.text_all_data = tk.Text(self.view_all_data_window, width=100, height=20)\n",
    "        self.text_all_data.grid(row=0, column=0, padx=10, pady=10)\n",
    "        \n",
    "        # Display all data entered\n",
    "        self.text_all_data.insert(tk.END, \"All Student Data:\\n\\n\")\n",
    "        for roll_number, data in self.students.items():\n",
    "            self.text_all_data.insert(tk.END, f\"Roll Number: {roll_number}\\n\")\n",
    "            for subject, marks in data.items():\n",
    "                if subject != 'Total Marks' and subject != 'Grade':\n",
    "                    self.text_all_data.insert(tk.END, f\"  {subject}: {marks}\\n\")\n",
    "            self.text_all_data.insert(tk.END, f\"  Total Marks: {data.get('Total Marks', '-')}\\n\")\n",
    "            self.text_all_data.insert(tk.END, f\"  Grade: {data.get('Grade', '-')}\\n\")\n",
    "            self.text_all_data.insert(tk.END, \"\\n\")\n",
    "    \n",
    "    def run(self):\n",
    "        self.root.mainloop()\n",
    "\n",
    "def main():\n",
    "    root = tk.Tk()\n",
    "    app = StudentMarksApp(root)\n",
    "    app.run()\n",
    "\n",
    "if __name__ == \"__main__\":\n",
    "    main()\n"
   ]
  },
  {
   "cell_type": "code",
   "execution_count": 7,
   "id": "89363bca-b73d-4af6-bfe6-669922c0392f",
   "metadata": {},
   "outputs": [
    {
     "ename": "IndentationError",
     "evalue": "expected an indented block after function definition on line 92 (2594357459.py, line 93)",
     "output_type": "error",
     "traceback": [
      "\u001b[1;36m  Cell \u001b[1;32mIn[7], line 93\u001b[1;36m\u001b[0m\n\u001b[1;33m    roll_number = self.entry_roll_number.get().strip()\u001b[0m\n\u001b[1;37m    ^\u001b[0m\n\u001b[1;31mIndentationError\u001b[0m\u001b[1;31m:\u001b[0m expected an indented block after function definition on line 92\n"
     ]
    }
   ],
   "source": [
    "import tkinter as tk\n",
    "from tkinter import messagebox\n",
    "\n",
    "class StudentMarksApp:\n",
    "    def __init__(self, root):\n",
    "        self.subjects = [\"select\",\"IWT\", \"Operating System\", \"Software Engineering\", \"Database Management System\"]\n",
    "        self.students = {}\n",
    "        self.root = root\n",
    "        self.root.title(\"Student Marks Management\")\n",
    "        \n",
    "        # Create GUI components\n",
    "        self.create_widgets()\n",
    "    \n",
    "    def create_widgets(self):\n",
    "        # Labels\n",
    "        self.label_instruction = tk.Label(self.root, text=\"Choose an option:\")\n",
    "        self.label_instruction.grid(row=0, column=0, columnspan=2, padx=10, pady=10)\n",
    "        \n",
    "        # Buttons\n",
    "        self.button_add_marks = tk.Button(self.root, text=\"Add Marks\", command=self.add_marks)\n",
    "        self.button_add_marks.grid(row=1, column=0, padx=10, pady=5)\n",
    "        \n",
    "        self.button_view_marks = tk.Button(self.root, text=\"View Marks\", command=self.view_marks)\n",
    "        self.button_view_marks.grid(row=1, column=1, padx=10, pady=5)\n",
    "        \n",
    "        self.button_view_all_data = tk.Button(self.root, text=\"View All Data\", command=self.view_all_data)\n",
    "        self.button_view_all_data.grid(row=2, column=0, columnspan=2, padx=10, pady=5)\n",
    "        \n",
    "        self.button_exit = tk.Button(self.root, text=\"Exit\", command=self.root.destroy)\n",
    "        self.button_exit.grid(row=3, column=0, columnspan=2, padx=10, pady=5)\n",
    "        \n",
    "    def add_marks(self):\n",
    "        # Create a new window for adding marks\n",
    "        self.add_marks_window = tk.Toplevel(self.root)\n",
    "        self.add_marks_window.title(\"Add Marks\")\n",
    "        \n",
    "        # Entry fields\n",
    "        self.label_roll_number = tk.Label(self.add_marks_window, text=\"Enter student's roll number:\")\n",
    "        self.label_roll_number.grid(row=0, column=0, padx=10, pady=10)\n",
    "        self.entry_roll_number = tk.Entry(self.add_marks_window)\n",
    "        self.entry_roll_number.grid(row=0, column=1, padx=10, pady=10)\n",
    "        \n",
    "        self.label_subject = tk.Label(self.add_marks_window, text=\"Select subject:\")\n",
    "        self.label_subject.grid(row=1, column=0, padx=10, pady=10)\n",
    "        \n",
    "        # Dropdown menu for subjects\n",
    "        self.selected_subject = tk.StringVar(self.add_marks_window)\n",
    "        self.selected_subject.set(self.subjects[0])  # Set default value\n",
    "        self.dropdown_subject = tk.OptionMenu(self.add_marks_window, self.selected_subject, *self.subjects)\n",
    "        self.dropdown_subject.grid(row=1, column=1, padx=10, pady=10)\n",
    "        \n",
    "        self.label_marks = tk.Label(self.add_marks_window, text=\"Enter marks:\")\n",
    "        self.label_marks.grid(row=2, column=0, padx=10, pady=10)\n",
    "        self.entry_marks = tk.Entry(self.add_marks_window)\n",
    "        self.entry_marks.grid(row=2, column=1, padx=10, pady=10)\n",
    "        \n",
    "        # Listbox to display added subjects and marks\n",
    "        self.listbox_subjects = tk.Listbox(self.add_marks_window, width=50, height=10)\n",
    "        self.listbox_subjects.grid(row=3, column=0, columnspan=2, padx=10, pady=10)\n",
    "        \n",
    "        # Add subject button\n",
    "        self.button_add_subject = tk.Button(self.add_marks_window, text=\"Add Subject\", command=self.add_subject)\n",
    "        self.button_add_subject.grid(row=4, column=0, columnspan=2, padx=10, pady=5)\n",
    "        \n",
    "        # Save marks button\n",
    "        self.button_save_marks = tk.Button(self.add_marks_window, text=\"Save Marks\", command=self.save_marks)\n",
    "        self.button_save_marks.grid(row=5, column=0, columnspan=2, padx=10, pady=5)\n",
    "        \n",
    "        # Initialize subject list\n",
    "        self.subjects_list = []\n",
    "    \n",
    "    def add_subject(self):\n",
    "        subject = self.selected_subject.get()\n",
    "        marks = self.entry_marks.get().strip()\n",
    "        \n",
    "        if not marks:\n",
    "            messagebox.showwarning(\"Incomplete Input\", \"Please enter marks.\")\n",
    "            return\n",
    "        \n",
    "        try:\n",
    "            marks = float(marks)\n",
    "        except ValueError:\n",
    "            messagebox.showerror(\"Invalid Marks\", \"Marks must be a number.\")\n",
    "            return\n",
    "        \n",
    "        self.subjects_list.append((subject, marks))\n",
    "        self.listbox_subjects.insert(tk.END, f\"{subject}: {marks}\")\n",
    "        \n",
    "        # Clear entry fields\n",
    "        self.entry_marks.delete(0, tk.END)\n",
    "    \n",
    "    def save_marks(self):\n",
    "    roll_number = self.entry_roll_number.get().strip()\n",
    "    student_name = self.entry_student_name.get().strip()  # Get student's name\n",
    "    \n",
    "    if not roll_number or not student_name:\n",
    "        messagebox.showwarning(\"Incomplete Input\", \"Please enter both student's name and roll number.\")\n",
    "        return\n",
    "    \n",
    "    if roll_number not in self.students:\n",
    "        self.students[roll_number] = (student_name, {})  # Use a tuple to store name and marks dictionary\n",
    "    \n",
    "    total_marks = 0\n",
    "    for subject, marks in self.subjects_list:\n",
    "        self.students[roll_number][1][subject] = marks  # Store marks in the nested dictionary\n",
    "        total_marks += marks\n",
    "    \n",
    "    # Calculate grade\n",
    "    grade = self.calculate_grade(total_marks)\n",
    "    \n",
    "    # Save total marks and grade\n",
    "    self.students[roll_number][1]['Total Marks'] = total_marks\n",
    "    self.students[roll_number][1]['Grade'] = grade\n",
    "    \n",
    "    messagebox.showinfo(\"Marks Added\", f\"Marks added for {student_name} with roll number {roll_number}.\")\n",
    "    \n",
    "    # Close the add marks window\n",
    "    self.add_marks_window.destroy()\n",
    "\n",
    "    def calculate_grade(self, total_marks):\n",
    "        # Define a simple grading scheme (you can modify this as per your requirements)\n",
    "        if total_marks >= 90:\n",
    "            return 'A'\n",
    "        elif total_marks >= 80:\n",
    "            return 'B'\n",
    "        elif total_marks >= 70:\n",
    "            return 'C'\n",
    "        elif total_marks >= 60:\n",
    "            return 'D'\n",
    "        else:\n",
    "            return 'F'\n",
    "    \n",
    "    def view_marks(self):\n",
    "        # Create a new window for viewing marks\n",
    "        self.view_marks_window = tk.Toplevel(self.root)\n",
    "        self.view_marks_window.title(\"View Marks\")\n",
    "        \n",
    "        # Entry field\n",
    "        self.label_roll_number_view = tk.Label(self.view_marks_window, text=\"Enter student's roll number:\")\n",
    "        self.label_roll_number_view.grid(row=0, column=0, padx=10, pady=10)\n",
    "        self.entry_roll_number_view = tk.Entry(self.view_marks_window)\n",
    "        self.entry_roll_number_view.grid(row=0, column=1, padx=10, pady=10)\n",
    "        \n",
    "        # View marks button\n",
    "        self.button_view = tk.Button(self.view_marks_window, text=\"View Marks\", command=self.show_marks)\n",
    "        self.button_view.grid(row=1, column=0, columnspan=2, padx=10, pady=10)\n",
    "        \n",
    "        # Text widget to display marks\n",
    "        self.text_marks = tk.Text(self.view_marks_window, width=50, height=10)\n",
    "        self.text_marks.grid(row=2, column=0, columnspan=2, padx=10, pady=10)\n",
    "    \n",
    "    def show_marks(self):\n",
    "        roll_number = self.entry_roll_number_view.get().strip()\n",
    "        \n",
    "        if roll_number in self.students:\n",
    "            self.text_marks.delete('1.0', tk.END)\n",
    "            self.text_marks.insert(tk.END, f\"Marks for roll number {roll_number}:\\n\")\n",
    "            for subject, marks in self.students[roll_number].items():\n",
    "                self.text_marks.insert(tk.END, f\"{subject}: {marks}\\n\")\n",
    "        else:\n",
    "            messagebox.showwarning(\"No Marks Found\", f\"No marks found for roll number {roll_number}.\")\n",
    "    \n",
    "    def view_all_data(self):\n",
    "        # Create a new window for viewing all data\n",
    "        self.view_all_data_window = tk.Toplevel(self.root)\n",
    "        self.view_all_data_window.title(\"View All Data\")\n",
    "        \n",
    "        # Text widget to display all data\n",
    "        self.text_all_data = tk.Text(self.view_all_data_window, width=100, height=20)\n",
    "        self.text_all_data.grid(row=0, column=0, padx=10, pady=10)\n",
    "        \n",
    "        # Display all data entered\n",
    "        self.text_all_data.insert(tk.END, \"All Student Data:\\n\\n\")\n",
    "        for roll_number, data in self.students.items():\n",
    "            self.text_all_data.insert(tk.END, f\"Roll Number: {roll_number}\\n\")\n",
    "            for subject, marks in data.items():\n",
    "                if subject != 'Total Marks' and subject != 'Grade':\n",
    "                    self.text_all_data.insert(tk.END, f\"  {subject}: {marks}\\n\")\n",
    "            self.text_all_data.insert(tk.END, f\"  Total Marks: {data.get('Total Marks', '-')}\\n\")\n",
    "            self.text_all_data.insert(tk.END, f\"  Grade: {data.get('Grade', '-')}\\n\")\n",
    "            self.text_all_data.insert(tk.END, \"\\n\")\n",
    "    \n",
    "    def run(self):\n",
    "        self.root.mainloop()\n",
    "\n",
    "def main():\n",
    "    root = tk.Tk()\n",
    "    app = StudentMarksApp(root)\n",
    "    app.run()\n",
    "\n",
    "if __name__ == \"__main__\":\n",
    "    main()\n"
   ]
  },
  {
   "cell_type": "code",
   "execution_count": 3,
   "id": "c2c06ae6-3278-405a-b6c7-999f9af584b3",
   "metadata": {},
   "outputs": [],
   "source": [
    "import tkinter as tk\n",
    "from tkinter import messagebox\n",
    "\n",
    "# Sample data structure to store student information\n",
    "students = []\n",
    "\n",
    "# Function to add marks securely\n",
    "def add_marks():\n",
    "    pin = pin_entry.get()\n",
    "    if pin != '1234':  # Replace '1234' with your actual secure PIN\n",
    "        messagebox.showerror('Error', 'Incorrect PIN!')\n",
    "        return\n",
    "    \n",
    "    name = number_entry.get()\n",
    "    roll_number = int(roll_entry.get())\n",
    "    marks = float(marks_entry.get())\n",
    "    \n",
    "    # Check if student with the same roll number already exists\n",
    "    for student in students:\n",
    "        if student['roll_number'] == roll_number:\n",
    "            student['marks'] = marks\n",
    "            break\n",
    "    else:\n",
    "        # If student doesn't exist, create a new entry\n",
    "        students.append({\n",
    "            'name': name,\n",
    "            'roll_number': roll_number,\n",
    "            'marks': marks\n",
    "        })\n",
    "    \n",
    "    messagebox.showinfo('Success', 'Marks added successfully!')\n",
    "\n",
    "# Function to view all data (requires OTP verification)\n",
    "def view_all():\n",
    "    otp = otp_entry.get()\n",
    "    if otp != '9876':  # Replace '9876' with your actual OTP\n",
    "        messagebox.showerror('Error', 'Incorrect OTP!')\n",
    "        return\n",
    "    \n",
    "    if not students:\n",
    "        messagebox.showinfo('Information', 'No data available!')\n",
    "    else:\n",
    "        for student in students:\n",
    "            print(student)  # Replace with your desired display method\n",
    "\n",
    "# Function to view individual student details\n",
    "def view_individual():\n",
    "    roll_number = int(roll_view_entry.get())\n",
    "    for student in students:\n",
    "        if student['roll_number'] == roll_number:\n",
    "            total_marks = 500  # Assuming maximum marks\n",
    "            percentage = (student['marks'] / total_marks) * 100\n",
    "            if percentage >= 90:\n",
    "                grade = 'A'\n",
    "            elif percentage >= 80:\n",
    "                grade = 'B'\n",
    "            elif percentage >= 70:\n",
    "                grade = 'C'\n",
    "            elif percentage >= 60:\n",
    "                grade = 'D'\n",
    "            else:\n",
    "                grade = 'F'\n",
    "            \n",
    "            messagebox.showinfo('Student Details', \n",
    "                                f'Roll Number: {student[\"roll_number\"]}\\n'\n",
    "                                f'Marks: {student[\"marks\"]}\\n'\n",
    "                                f'Percentage: {percentage:.2f}%\\n'\n",
    "                                f'Grade: {grade}')\n",
    "            break\n",
    "    else:\n",
    "        messagebox.showerror('Error', 'Student not found!')\n",
    "\n",
    "# Tkinter GUI setup\n",
    "root = tk.Tk()\n",
    "root.title('Student Marks Management')\n",
    "\n",
    "# Add Marks Frame\n",
    "add_marks_frame = tk.LabelFrame(root, text='Add Marks')\n",
    "add_marks_frame.pack(padx=10, pady=10, fill='both', expand=True)\n",
    "\n",
    "tk.Label(add_marks_frame, text='Security PIN:').grid(row=0, column=0, padx=5, pady=5)\n",
    "pin_entry = tk.Entry(add_marks_frame, show='*')\n",
    "pin_entry.grid(row=0, column=1, padx=5, pady=5)\n",
    "\n",
    "tk.Label(add_marks_frame, text='Name:').grid(row=1, column=0, padx=5, pady=5)\n",
    "number_entry = tk.Entry(add_marks_frame)\n",
    "number_entry.grid(row=1, column=1, padx=5, pady=5)\n",
    "\n",
    "tk.Label(add_marks_frame, text='Roll Number:').grid(row=2, column=0, padx=5, pady=5)\n",
    "roll_entry = tk.Entry(add_marks_frame)\n",
    "roll_entry.grid(row=2, column=1, padx=5, pady=5)\n",
    "\n",
    "tk.Label(add_marks_frame, text='Marks:').grid(row=3, column=0, padx=5, pady=5)\n",
    "marks_entry = tk.Entry(add_marks_frame)\n",
    "marks_entry.grid(row=3, column=1, padx=5, pady=5)\n",
    "\n",
    "add_button = tk.Button(add_marks_frame, text='Add Marks', command=add_marks)\n",
    "add_button.grid(row=4, columnspan=2, padx=5, pady=10)\n",
    "\n",
    "# View All Data Frame\n",
    "view_all_frame = tk.LabelFrame(root, text='View All Data')\n",
    "view_all_frame.pack(padx=10, pady=10, fill='both', expand=True)\n",
    "\n",
    "tk.Label(view_all_frame, text='OTP:').grid(row=0, column=0, padx=5, pady=5)\n",
    "otp_entry = tk.Entry(view_all_frame, show='*')\n",
    "otp_entry.grid(row=0, column=1, padx=5, pady=5)\n",
    "\n",
    "view_all_button = tk.Button(view_all_frame, text='View All Data', command=view_all)\n",
    "view_all_button.grid(row=1, columnspan=2, padx=5, pady=10)\n",
    "\n",
    "# View Individual Data Frame\n",
    "view_individual_frame = tk.LabelFrame(root, text='View Individual Data')\n",
    "view_individual_frame.pack(padx=10, pady=10, fill='both', expand=True)\n",
    "\n",
    "tk.Label(view_individual_frame, text='Roll Number:').grid(row=0, column=0, padx=5, pady=5)\n",
    "roll_view_entry = tk.Entry(view_individual_frame)\n",
    "roll_view_entry.grid(row=0, column=1, padx=5, pady=5)\n",
    "\n",
    "view_individual_button = tk.Button(view_individual_frame, text='View Individual Data', command=view_individual)\n",
    "view_individual_button.grid(row=1, columnspan=2, padx=5, pady=10)\n",
    "\n",
    "root.mainloop()\n"
   ]
  },
  {
   "cell_type": "code",
   "execution_count": 10,
   "id": "2b025673-20f1-4261-aaad-d03f90921bea",
   "metadata": {},
   "outputs": [
    {
     "name": "stdout",
     "output_type": "stream",
     "text": [
      "{'name': 'Sohan', 'roll_number': 1, 'marks': [88.0, 78.0, 82.0]}\n"
     ]
    }
   ],
   "source": [
    "import tkinter as tk\n",
    "from tkinter import messagebox\n",
    "\n",
    "# Sample data structure to store student information\n",
    "students = []\n",
    "\n",
    "# Function to add marks securely\n",
    "def add_marks():\n",
    "    pin = pin_entry.get()\n",
    "    if pin != '1234':  # Replace '1234' with your actual secure PIN\n",
    "        messagebox.showerror('Error', 'Incorrect PIN!')\n",
    "        return\n",
    "    \n",
    "    name = name_entry.get()\n",
    "    roll_number = int(roll_entry.get())\n",
    "    marks = []\n",
    "    marks.append(float(sub1_entry.get()))\n",
    "    marks.append(float(sub2_entry.get()))\n",
    "    marks.append(float(sub3_entry.get()))\n",
    "    \n",
    "    # Check if student with the same roll number already exists\n",
    "    for student in students:\n",
    "        if student['roll_number'] == roll_number:\n",
    "            student['marks'] = marks\n",
    "            break\n",
    "    else:\n",
    "        # If student doesn't exist, create a new entry\n",
    "        students.append({\n",
    "            'name': name,\n",
    "            'roll_number': roll_number,\n",
    "            'marks': marks\n",
    "        })\n",
    "    \n",
    "    messagebox.showinfo('Success', 'Marks added successfully!')\n",
    "\n",
    "# Function to view all data (requires OTP verification)\n",
    "def view_all():\n",
    "    otp = otp_entry.get()\n",
    "    if otp != '9876':  # Replace '9876' with your actual OTP\n",
    "        messagebox.showerror('Error', 'Incorrect OTP!')\n",
    "        return\n",
    "    \n",
    "    if not students:\n",
    "        messagebox.showinfo('Information', 'No data available!')\n",
    "    else:\n",
    "        for student in students:\n",
    "            print(student)  # Replace with your desired display method\n",
    "\n",
    "# Function to view individual student details\n",
    "def view_individual():\n",
    "    roll_number = int(roll_view_entry.get())\n",
    "    for student in students:\n",
    "        if student['roll_number'] == roll_number:\n",
    "            total_marks = sum(student['marks'])  # Total marks calculation\n",
    "            percentage = (total_marks / (len(student['marks']) * 100)) * 100\n",
    "            if percentage >= 80:\n",
    "                grade = 'A'\n",
    "            elif percentage >= 65:\n",
    "                grade = 'B'\n",
    "            elif percentage >= 50:\n",
    "                grade = 'C'\n",
    "            elif percentage >= 40:\n",
    "                grade = 'D'\n",
    "            else:\n",
    "                grade = 'F'\n",
    "            \n",
    "            messagebox.showinfo('Student Details', \n",
    "                                f'Name: {student[\"name\"]}\\n'\n",
    "                                f'Roll Number: {student[\"roll_number\"]}\\n'\n",
    "                                f'Marks: {student[\"marks\"]}\\n'\n",
    "                                f'Percentage: {percentage:.2f}%\\n'\n",
    "                                f'Grade: {grade}')\n",
    "            break\n",
    "    else:\n",
    "        messagebox.showerror('Error', 'Student not found!')\n",
    "\n",
    "# Tkinter GUI setup\n",
    "root = tk.Tk()\n",
    "root.title('Student Marks Management')\n",
    "\n",
    "# Add Marks Frame\n",
    "add_marks_frame = tk.LabelFrame(root, text='Add Marks')\n",
    "add_marks_frame.pack(padx=10, pady=10, fill='both', expand=True, anchor='center')\n",
    "\n",
    "tk.Label(add_marks_frame, text='Security PIN:').grid(row=0, column=0, padx=5, pady=5)\n",
    "pin_entry = tk.Entry(add_marks_frame, show='*')\n",
    "pin_entry.grid(row=0, column=1, padx=5, pady=5)\n",
    "\n",
    "tk.Label(add_marks_frame, text='Name:').grid(row=1, column=0, padx=5, pady=5)\n",
    "name_entry = tk.Entry(add_marks_frame)\n",
    "name_entry.grid(row=1, column=1, padx=5, pady=5)\n",
    "\n",
    "tk.Label(add_marks_frame, text='Roll Number:').grid(row=2, column=0, padx=5, pady=5)\n",
    "roll_entry = tk.Entry(add_marks_frame)\n",
    "roll_entry.grid(row=2, column=1, padx=5, pady=5)\n",
    "\n",
    "tk.Label(add_marks_frame, text='Design Analysis and Algorithm:').grid(row=3, column=0, padx=5, pady=5)\n",
    "sub1_entry = tk.Entry(add_marks_frame)\n",
    "sub1_entry.grid(row=3, column=1, padx=5, pady=5)\n",
    "\n",
    "tk.Label(add_marks_frame, text='Computer Graphics:').grid(row=4, column=0, padx=5, pady=5)\n",
    "sub2_entry = tk.Entry(add_marks_frame)\n",
    "sub2_entry.grid(row=4, column=1, padx=5, pady=5)\n",
    "\n",
    "tk.Label(add_marks_frame, text='Internet Web Technology:').grid(row=5, column=0, padx=5, pady=5)\n",
    "sub3_entry = tk.Entry(add_marks_frame)\n",
    "sub3_entry.grid(row=5, column=1, padx=5, pady=5)\n",
    "\n",
    "tk.Label(add_marks_frame, text='Skill Enhancement and Personal Development:').grid(row=6, column=0, padx=5, pady=5)\n",
    "sub4_entry = tk.Entry(add_marks_frame)\n",
    "sub4_entry.grid(row=6, column=1, padx=5, pady=5)\n",
    "\n",
    "add_button = tk.Button(add_marks_frame, text='Add Marks', command=add_marks)\n",
    "add_button.grid(row=7, columnspan=2, padx=5, pady=10)\n",
    "\n",
    "# View All Data Frame\n",
    "view_all_frame = tk.LabelFrame(root, text='View All Data')\n",
    "view_all_frame.pack(padx=10, pady=10, fill='both', expand=True, anchor='center')\n",
    "\n",
    "tk.Label(view_all_frame, text='OTP:').grid(row=0, column=0, padx=5, pady=5)\n",
    "otp_entry = tk.Entry(view_all_frame, show='*')\n",
    "otp_entry.grid(row=0, column=1, padx=5, pady=5)\n",
    "\n",
    "view_all_button = tk.Button(view_all_frame, text='View All Data', command=view_all)\n",
    "view_all_button.grid(row=1, columnspan=2, padx=5, pady=10)\n",
    "\n",
    "# View Individual Data Frame\n",
    "view_individual_frame = tk.LabelFrame(root, text='View Individual Data')\n",
    "view_individual_frame.pack(padx=10, pady=10, fill='both', expand=True, anchor='center')\n",
    "\n",
    "tk.Label(view_individual_frame, text='Roll Number:').grid(row=0, column=0, padx=5, pady=5)\n",
    "roll_view_entry = tk.Entry(view_individual_frame)\n",
    "roll_view_entry.grid(row=0, column=1, padx=5, pady=5)\n",
    "\n",
    "view_individual_button = tk.Button(view_individual_frame, text='View Individual Data', command=view_individual)\n",
    "view_individual_button.grid(row=1, columnspan=2, padx=5, pady=10)\n",
    "\n",
    "root.mainloop()\n"
   ]
  },
  {
   "cell_type": "code",
   "execution_count": 12,
   "id": "ba16ffc1-998b-432c-bf3a-8a7cf13f588f",
   "metadata": {},
   "outputs": [],
   "source": [
    "import tkinter as tk\n",
    "from tkinter import messagebox\n",
    "import random\n",
    "\n",
    "# Sample data structure to store student information\n",
    "students = []\n",
    "\n",
    "# Function to add marks securely\n",
    "def add_marks():\n",
    "    pin = pin_entry.get()\n",
    "    if pin != '1234':  # Replace '1234' with your actual secure PIN\n",
    "        messagebox.showerror('Error', 'Incorrect PIN!')\n",
    "        return\n",
    "    \n",
    "    name = name_entry.get()\n",
    "    roll_number = int(roll_entry.get())\n",
    "    marks = []\n",
    "    marks.append(float(sub1_entry.get()))\n",
    "    marks.append(float(sub2_entry.get()))\n",
    "    marks.append(float(sub3_entry.get()))\n",
    "    \n",
    "    # Check if student with the same roll number already exists\n",
    "    for student in students:\n",
    "        if student['roll_number'] == roll_number:\n",
    "            student['marks'] = marks\n",
    "            break\n",
    "    else:\n",
    "        # If student doesn't exist, create a new entry\n",
    "        students.append({\n",
    "            'name': name,\n",
    "            'roll_number': roll_number,\n",
    "            'marks': marks\n",
    "        })\n",
    "    \n",
    "    messagebox.showinfo('Success', 'Marks added successfully!')\n",
    "\n",
    "# Function to generate and show random OTP\n",
    "def generate_otp():\n",
    "    otp = random.randint(1000, 9999)  # Generate a 4-digit OTP\n",
    "    otp_label.config(text=f'Generated OTP: {otp}')\n",
    "\n",
    "# Function to view all data (requires OTP verification)\n",
    "def view_all():\n",
    "    entered_otp = otp_entry.get()\n",
    "    generated_otp = otp_label.cget('text').split(': ')[1].strip()\n",
    "    \n",
    "    if entered_otp != generated_otp:\n",
    "        messagebox.showerror('Error', 'Incorrect OTP!')\n",
    "        return\n",
    "    \n",
    "    if not students:\n",
    "        messagebox.showinfo('Information', 'No data available!')\n",
    "    else:\n",
    "        for student in students:\n",
    "            print(student)  # Replace with your desired display method\n",
    "\n",
    "# Function to view individual student details\n",
    "def view_individual():\n",
    "    roll_number = int(roll_view_entry.get())\n",
    "    for student in students:\n",
    "        if student['roll_number'] == roll_number:\n",
    "            total_marks = sum(student['marks'])  # Total marks calculation\n",
    "            percentage = (total_marks / (len(student['marks']) * 100)) * 100\n",
    "            if percentage >= 90:\n",
    "                grade = 'A'\n",
    "            elif percentage >= 80:\n",
    "                grade = 'B'\n",
    "            elif percentage >= 70:\n",
    "                grade = 'C'\n",
    "            elif percentage >= 60:\n",
    "                grade = 'D'\n",
    "            else:\n",
    "                grade = 'F'\n",
    "            \n",
    "            messagebox.showinfo('Student Details', \n",
    "                                f'Name: {student[\"name\"]}\\n'\n",
    "                                f'Roll Number: {student[\"roll_number\"]}\\n'\n",
    "                                f'Marks: {student[\"marks\"]}\\n'\n",
    "                                f'Percentage: {percentage:.2f}%\\n'\n",
    "                                f'Grade: {grade}')\n",
    "            break\n",
    "    else:\n",
    "        messagebox.showerror('Error', 'Student not found!')\n",
    "\n",
    "# Tkinter GUI setup\n",
    "root = tk.Tk()\n",
    "root.title('Student Marks Management')\n",
    "\n",
    "# Add Marks Frame\n",
    "add_marks_frame = tk.LabelFrame(root, text='Add Marks')\n",
    "add_marks_frame.pack(padx=10, pady=10, fill='both', expand=True, anchor='center')\n",
    "\n",
    "tk.Label(add_marks_frame, text='Security PIN:').grid(row=0, column=0, padx=5, pady=5)\n",
    "pin_entry = tk.Entry(add_marks_frame, show='*')\n",
    "pin_entry.grid(row=0, column=1, padx=5, pady=5)\n",
    "\n",
    "tk.Label(add_marks_frame, text='Name:').grid(row=1, column=0, padx=5, pady=5)\n",
    "name_entry = tk.Entry(add_marks_frame)\n",
    "name_entry.grid(row=1, column=1, padx=5, pady=5)\n",
    "\n",
    "tk.Label(add_marks_frame, text='Roll Number:').grid(row=2, column=0, padx=5, pady=5)\n",
    "roll_entry = tk.Entry(add_marks_frame)\n",
    "roll_entry.grid(row=2, column=1, padx=5, pady=5)\n",
    "\n",
    "tk.Label(add_marks_frame, text='Design Analysis and Algorithm:').grid(row=3, column=0, padx=5, pady=5)\n",
    "sub1_entry = tk.Entry(add_marks_frame)\n",
    "sub1_entry.grid(row=3, column=1, padx=5, pady=5)\n",
    "\n",
    "tk.Label(add_marks_frame, text='Internet Web Technology:').grid(row=4, column=0, padx=5, pady=5)\n",
    "sub2_entry = tk.Entry(add_marks_frame)\n",
    "sub2_entry.grid(row=4, column=1, padx=5, pady=5)\n",
    "\n",
    "tk.Label(add_marks_frame, text='Computer Graphics:').grid(row=5, column=0, padx=5, pady=5)\n",
    "sub3_entry = tk.Entry(add_marks_frame)\n",
    "sub3_entry.grid(row=5, column=1, padx=5, pady=5)\n",
    "\n",
    "tk.Label(add_marks_frame, text='Skill Enhancement and Personal Developement:').grid(row=6, column=0, padx=5, pady=5)\n",
    "sub4_entry = tk.Entry(add_marks_frame)\n",
    "sub4_entry.grid(row=6, column=1, padx=5, pady=5)\n",
    "\n",
    "add_button = tk.Button(add_marks_frame, text='Add Marks', command=add_marks)\n",
    "add_button.grid(row=7, columnspan=2, padx=5, pady=10)\n",
    "\n",
    "# Generate OTP Frame\n",
    "otp_frame = tk.LabelFrame(root, text='Generate OTP')\n",
    "otp_frame.pack(padx=10, pady=10, fill='both', expand=True, anchor='center')\n",
    "\n",
    "generate_button = tk.Button(otp_frame, text='Generate OTP', command=generate_otp)\n",
    "generate_button.pack(padx=10, pady=10)\n",
    "\n",
    "otp_label = tk.Label(otp_frame, text='Generated OTP: ')\n",
    "otp_label.pack(padx=10, pady=10)\n",
    "\n",
    "# View All Data Frame\n",
    "view_all_frame = tk.LabelFrame(root, text='View All Data')\n",
    "view_all_frame.pack(padx=10, pady=10, fill='both', expand=True, anchor='center')\n",
    "\n",
    "tk.Label(view_all_frame, text='Enter OTP:').grid(row=0, column=0, padx=5, pady=5)\n",
    "otp_entry = tk.Entry(view_all_frame, show='*')\n",
    "otp_entry.grid(row=0, column=1, padx=5, pady=5)\n",
    "\n",
    "view_all_button = tk.Button(view_all_frame, text='View All Data', command=view_all)\n",
    "view_all_button.grid(row=1, columnspan=2, padx=5, pady=10)\n",
    "\n",
    "# View Individual Data Frame\n",
    "view_individual_frame = tk.LabelFrame(root, text='View Individual Data')\n",
    "view_individual_frame.pack(padx=10, pady=10, fill='both', expand=True, anchor='center')\n",
    "\n",
    "tk.Label(view_individual_frame, text='Roll Number:').grid(row=0, column=0, padx=5, pady=5)\n",
    "roll_view_entry = tk.Entry(view_individual_frame)\n",
    "roll_view_entry.grid(row=0, column=1, padx=5, pady=5)\n",
    "\n",
    "view_individual_button = tk.Button(view_individual_frame, text='View Individual Data', command=view_individual)\n",
    "view_individual_button.grid(row=1, columnspan=2, padx=5, pady=10)\n",
    "\n",
    "root.mainloop()\n"
   ]
  },
  {
   "cell_type": "code",
   "execution_count": 13,
   "id": "0fa1498d-180b-4881-8cbc-6a63ac128303",
   "metadata": {},
   "outputs": [],
   "source": [
    "import tkinter as tk\n",
    "from tkinter import messagebox\n",
    "import random\n",
    "import smtplib\n",
    "from email.mime.text import MIMEText\n",
    "from email.mime.multipart import MIMEMultipart\n",
    "\n",
    "# Sample data structure to store student information\n",
    "students = []\n",
    "\n",
    "# Function to add marks securely\n",
    "def add_marks():\n",
    "    pin = pin_entry.get()\n",
    "    if pin != '1234':  # Replace '1234' with your actual secure PIN\n",
    "        messagebox.showerror('Error', 'Incorrect PIN!')\n",
    "        return\n",
    "    \n",
    "    name = name_entry.get()\n",
    "    roll_number = int(roll_entry.get())\n",
    "    marks = []\n",
    "    marks.append(float(sub1_entry.get()))\n",
    "    marks.append(float(sub2_entry.get()))\n",
    "    marks.append(float(sub3_entry.get()))\n",
    "    \n",
    "    # Check if student with the same roll number already exists\n",
    "    for student in students:\n",
    "        if student['roll_number'] == roll_number:\n",
    "            student['marks'] = marks\n",
    "            break\n",
    "    else:\n",
    "        # If student doesn't exist, create a new entry\n",
    "        students.append({\n",
    "            'name': name,\n",
    "            'roll_number': roll_number,\n",
    "            'marks': marks\n",
    "        })\n",
    "    \n",
    "    messagebox.showinfo('Success', 'Marks added successfully!')\n",
    "\n",
    "# Function to generate and send OTP via email\n",
    "def generate_otp():\n",
    "    otp = random.randint(1000, 9999)  # Generate a 4-digit OTP\n",
    "    \n",
    "    # Send OTP via email\n",
    "    sender_email = 'your_email@gmail.com'  # Replace with your email address\n",
    "    sender_password = 'your_password'  # Replace with your email password\n",
    "    receiver_email = 'mohapatrasohankumar@gmail.com'  # Replace with recipient's email address\n",
    "    \n",
    "    message = MIMEMultipart()\n",
    "    message['From'] = sender_email\n",
    "    message['To'] = receiver_email\n",
    "    message['Subject'] = 'OTP for Student Marks Management System'\n",
    "    \n",
    "    body = f'Your OTP is: {otp}'\n",
    "    message.attach(MIMEText(body, 'plain'))\n",
    "    \n",
    "    try:\n",
    "        server = smtplib.SMTP_SSL('smtp.gmail.com', 465)\n",
    "        server.login(sender_email, sender_password)\n",
    "        server.sendmail(sender_email, receiver_email, message.as_string())\n",
    "        server.quit()\n",
    "        messagebox.showinfo('OTP Sent', 'OTP has been sent to your email.')\n",
    "    except Exception as e:\n",
    "        messagebox.showerror('Error', f'Failed to send OTP: {str(e)}')\n",
    "\n",
    "# Function to view all data (requires OTP verification)\n",
    "def view_all():\n",
    "    entered_otp = otp_entry.get()\n",
    "    generated_otp = otp_label.cget('text').split(': ')[1].strip()\n",
    "    \n",
    "    if entered_otp != generated_otp:\n",
    "        messagebox.showerror('Error', 'Incorrect OTP!')\n",
    "        return\n",
    "    \n",
    "    if not students:\n",
    "        messagebox.showinfo('Information', 'No data available!')\n",
    "    else:\n",
    "        for student in students:\n",
    "            print(student)  # Replace with your desired display method\n",
    "\n",
    "# Function to view individual student details\n",
    "def view_individual():\n",
    "    roll_number = int(roll_view_entry.get())\n",
    "    for student in students:\n",
    "        if student['roll_number'] == roll_number:\n",
    "            total_marks = sum(student['marks'])  # Total marks calculation\n",
    "            percentage = (total_marks / (len(student['marks']) * 100)) * 100\n",
    "            if percentage >= 90:\n",
    "                grade = 'A'\n",
    "            elif percentage >= 80:\n",
    "                grade = 'B'\n",
    "            elif percentage >= 70:\n",
    "                grade = 'C'\n",
    "            elif percentage >= 60:\n",
    "                grade = 'D'\n",
    "            else:\n",
    "                grade = 'F'\n",
    "            \n",
    "            messagebox.showinfo('Student Details', \n",
    "                                f'Name: {student[\"name\"]}\\n'\n",
    "                                f'Roll Number: {student[\"roll_number\"]}\\n'\n",
    "                                f'Marks: {student[\"marks\"]}\\n'\n",
    "                                f'Percentage: {percentage:.2f}%\\n'\n",
    "                                f'Grade: {grade}')\n",
    "            break\n",
    "    else:\n",
    "        messagebox.showerror('Error', 'Student not found!')\n",
    "\n",
    "# Tkinter GUI setup\n",
    "root = tk.Tk()\n",
    "root.title('Student Marks Management')\n",
    "\n",
    "# Add Marks Frame\n",
    "add_marks_frame = tk.LabelFrame(root, text='Add Marks')\n",
    "add_marks_frame.pack(padx=10, pady=10, fill='both', expand=True, anchor='center')\n",
    "\n",
    "tk.Label(add_marks_frame, text='Security PIN:').grid(row=0, column=0, padx=5, pady=5)\n",
    "pin_entry = tk.Entry(add_marks_frame, show='*')\n",
    "pin_entry.grid(row=0, column=1, padx=5, pady=5)\n",
    "\n",
    "tk.Label(add_marks_frame, text='Name:').grid(row=1, column=0, padx=5, pady=5)\n",
    "name_entry = tk.Entry(add_marks_frame)\n",
    "name_entry.grid(row=1, column=1, padx=5, pady=5)\n",
    "\n",
    "tk.Label(add_marks_frame, text='Roll Number:').grid(row=2, column=0, padx=5, pady=5)\n",
    "roll_entry = tk.Entry(add_marks_frame)\n",
    "roll_entry.grid(row=2, column=1, padx=5, pady=5)\n",
    "\n",
    "tk.Label(add_marks_frame, text='Subject 1 Marks:').grid(row=3, column=0, padx=5, pady=5)\n",
    "sub1_entry = tk.Entry(add_marks_frame)\n",
    "sub1_entry.grid(row=3, column=1, padx=5, pady=5)\n",
    "\n",
    "tk.Label(add_marks_frame, text='Subject 2 Marks:').grid(row=4, column=0, padx=5, pady=5)\n",
    "sub2_entry = tk.Entry(add_marks_frame)\n",
    "sub2_entry.grid(row=4, column=1, padx=5, pady=5)\n",
    "\n",
    "tk.Label(add_marks_frame, text='Computer Graphics:').grid(row=5, column=0, padx=5, pady=5)\n",
    "sub3_entry = tk.Entry(add_marks_frame)\n",
    "sub3_entry.grid(row=5, column=1, padx=5, pady=5)\n",
    "\n",
    "add_button = tk.Button(add_marks_frame, text='Add Marks', command=add_marks)\n",
    "add_button.grid(row=6, columnspan=2, padx=5, pady=10)\n",
    "\n",
    "# Generate OTP Frame\n",
    "otp_frame = tk.LabelFrame(root, text='Generate OTP')\n",
    "otp_frame.pack(padx=10, pady=10, fill='both', expand=True, anchor='center')\n",
    "\n",
    "generate_button = tk.Button(otp_frame, text='Generate OTP', command=generate_otp)\n",
    "generate_button.pack(padx=10, pady=10)\n",
    "\n",
    "# OTP Label\n",
    "otp_label = tk.Label(otp_frame, text='Generated OTP: ')\n",
    "otp_label.pack(padx=10, pady=10)\n",
    "\n",
    "# View All Data Frame\n",
    "view_all_frame = tk.LabelFrame(root, text='View All Data')\n",
    "view_all_frame.pack(padx=10, pady=10, fill='both', expand=True, anchor='center')\n",
    "\n",
    "tk.Label(view_all_frame, text='Enter OTP:').grid(row=0, column=0, padx=5, pady=5)\n",
    "otp_entry = tk.Entry(view_all_frame, show='*')\n",
    "otp_entry.grid(row=0, column=1, padx=5, pady=5)\n",
    "\n",
    "view_all_button = tk.Button(view_all_frame, text='View All Data', command=view_all)\n",
    "view_all_button.grid(row=1, columnspan=2, padx=5, pady=10)\n",
    "\n",
    "# View Individual Data Frame\n",
    "view_individual_frame = tk.LabelFrame(root, text='View Individual Data')\n",
    "view_individual_frame.pack(padx=10, pady=10, fill='both', expand=True, anchor='center')\n",
    "\n",
    "tk.Label(view_individual_frame, text='Roll Number:').grid(row=0, column=0, padx=5, pady=5)\n",
    "roll_view_entry = tk.Entry(view_individual_frame)\n",
    "roll_view_entry.grid(row=0, column=1, padx=5, pady=5)\n",
    "\n",
    "view_individual_button = tk.Button(view_individual_frame, text='View Individual Data', command=view_individual)\n",
    "view_individual_button.grid(row=1, columnspan=2, padx=5, pady=10)\n",
    "\n",
    "root.mainloop()\n"
   ]
  },
  {
   "cell_type": "code",
   "execution_count": 18,
   "id": "4a95c5e9-8cdd-4f0f-92de-4f37a9dd3551",
   "metadata": {},
   "outputs": [],
   "source": [
    " import tkinter as tk\n",
    "from tkinter import messagebox\n",
    "import random\n",
    "import smtplib\n",
    "from email.mime.text import MIMEText\n",
    "from email.mime.multipart import MIMEMultipart\n",
    "\n",
    "# Sample data structure to store student information\n",
    "students = []\n",
    "\n",
    "# Function to add marks securely\n",
    "def add_marks():\n",
    "    pin = pin_entry.get()\n",
    "    if pin != '1234':  # Replace '1234' with your actual secure PIN\n",
    "        messagebox.showerror('Error', 'Enter correct 4 digit pin!')\n",
    "        return\n",
    "    \n",
    "    name = name_entry.get()\n",
    "    roll_number = int(roll_entry.get())\n",
    "    marks = []\n",
    "    marks.append(float(sub1_entry.get()))\n",
    "    marks.append(float(sub2_entry.get()))\n",
    "    marks.append(float(sub3_entry.get()))\n",
    "    \n",
    "    # Check if student with the same roll number already exists\n",
    "    for student in students:\n",
    "        if student['roll_number'] == roll_number:\n",
    "            student['marks'] = marks\n",
    "            break\n",
    "    else:\n",
    "        # If student doesn't exist, create a new entry\n",
    "        students.append({\n",
    "            'name': name,\n",
    "            'roll_number': roll_number,\n",
    "            'marks': marks\n",
    "        })\n",
    "    \n",
    "    messagebox.showinfo('Success', 'Marks added successfully!')\n",
    "\n",
    "# Function to generate and send OTP via email\n",
    "def generate_otp():\n",
    "    otp = random.randint(1000, 9999)  # Generate a 4-digit OTP\n",
    "    \n",
    "    # Send OTP via email\n",
    "    sender_email = 'skumarm2023@gift.edu.in'   \n",
    "    sender_password = 'gift2023'   \n",
    "    receiver_email = 'mohapatrasohankumar@gmail.com'   \n",
    "    \n",
    "    message = MIMEMultipart()\n",
    "    message['From'] = sender_email\n",
    "    message['To'] = receiver_email\n",
    "    message['Subject'] = 'OTP for Student Marks Management System'\n",
    "    \n",
    "    body = f'Your OTP is: {otp}'\n",
    "    message.attach(MIMEText(body, 'plain'))\n",
    "    \n",
    "    try:\n",
    "        server = smtplib.SMTP_SSL('smtp.gmail.com', 465)\n",
    "        server.login(sender_email, sender_password)\n",
    "        server.sendmail(sender_email, receiver_email, message.as_string())\n",
    "        server.quit()\n",
    "        messagebox.showinfo('OTP Sent', 'OTP has been sent to your email.')\n",
    "    except Exception as e:\n",
    "        messagebox.showerror('Error', f'Failed to send OTP: {str(e)}')\n",
    "\n",
    "# Function to view all data (requires OTP verification)\n",
    "def view_all():\n",
    "    entered_otp = otp_entry.get()\n",
    "    generated_otp = otp_label.cget('text').split(': ')[1].strip()\n",
    "    \n",
    "    if entered_otp != generated_otp:\n",
    "        messagebox.showerror('Error', 'Incorrect OTP!')\n",
    "        return\n",
    "    \n",
    "    if not students:\n",
    "        messagebox.showinfo('Information', 'No data available!')\n",
    "    else:\n",
    "        for student in students:\n",
    "            print(student)  # Replace with your desired display method\n",
    "\n",
    "# Function to view individual student details\n",
    "def view_individual():\n",
    "    roll_number = int(roll_view_entry.get())\n",
    "    for student in students:\n",
    "        if student['roll_number'] == roll_number:\n",
    "            total_marks = sum(student['marks'])  # Total marks calculation\n",
    "            percentage = (total_marks / (len(student['marks']) * 100)) * 100\n",
    "            if percentage >= 90:\n",
    "                grade = 'A'\n",
    "            elif percentage >= 80:\n",
    "                grade = 'B'\n",
    "            elif percentage >= 70:\n",
    "                grade = 'C'\n",
    "            elif percentage >= 60:\n",
    "                grade = 'D'\n",
    "            else:\n",
    "                grade = 'F'\n",
    "            \n",
    "            messagebox.showinfo('Student Details', \n",
    "                                f'Name: {student[\"name\"]}\\n'\n",
    "                                f'Roll Number: {student[\"roll_number\"]}\\n'\n",
    "                                f'Marks: {student[\"marks\"]}\\n'\n",
    "                                f'Percentage: {percentage:.2f}%\\n'\n",
    "                                f'Grade: {grade}')\n",
    "            break\n",
    "    else:\n",
    "        messagebox.showerror('Error', 'Student not found!')\n",
    "\n",
    "# Tkinter GUI setup\n",
    "root = tk.Tk()\n",
    "root.title('Student Marks Management')\n",
    "\n",
    "# Add Marks Frame\n",
    "add_marks_frame = tk.LabelFrame(root, text='Add Marks')\n",
    "add_marks_frame.pack(padx=10, pady=10, fill='both', expand=True, anchor='center')\n",
    "\n",
    "tk.Label(add_marks_frame, text='Security PIN:').grid(row=0, column=0, padx=5, pady=5)\n",
    "pin_entry = tk.Entry(add_marks_frame, show='*')\n",
    "pin_entry.grid(row=0, column=1, padx=5, pady=5)\n",
    "\n",
    "tk.Label(add_marks_frame, text='Name:').grid(row=1, column=0, padx=5, pady=5)\n",
    "name_entry = tk.Entry(add_marks_frame)\n",
    "name_entry.grid(row=1, column=1, padx=5, pady=5)\n",
    "\n",
    "tk.Label(add_marks_frame, text='Roll Number:').grid(row=2, column=0, padx=5, pady=5)\n",
    "roll_entry = tk.Entry(add_marks_frame)\n",
    "roll_entry.grid(row=2, column=1, padx=5, pady=5)\n",
    "\n",
    "tk.Label(add_marks_frame, text='Subject 1 Marks:').grid(row=3, column=0, padx=5, pady=5)\n",
    "sub1_entry = tk.Entry(add_marks_frame)\n",
    "sub1_entry.grid(row=3, column=1, padx=5, pady=5)\n",
    "\n",
    "tk.Label(add_marks_frame, text='Subject 2 Marks:').grid(row=4, column=0, padx=5, pady=5)\n",
    "sub2_entry = tk.Entry(add_marks_frame)\n",
    "sub2_entry.grid(row=4, column=1, padx=5, pady=5)\n",
    "\n",
    "tk.Label(add_marks_frame, text='Subject 3 Marks:').grid(row=5, column=0, padx=5, pady=5)\n",
    "sub3_entry = tk.Entry(add_marks_frame)\n",
    "sub3_entry.grid(row=5, column=1, padx=5, pady=5)\n",
    "\n",
    "add_button = tk.Button(add_marks_frame, text='Add Marks', command=add_marks)\n",
    "add_button.grid(row=6, columnspan=2, padx=5, pady=10)\n",
    "\n",
    "# Generate OTP Frame\n",
    "otp_frame = tk.LabelFrame(root, text='Generate OTP')\n",
    "otp_frame.pack(padx=10, pady=10, fill='both', expand=True, anchor='center')\n",
    "\n",
    "generate_button = tk.Button(otp_frame, text='Generate OTP', command=generate_otp)\n",
    "generate_button.pack(padx=10, pady=10)\n",
    "\n",
    "# OTP Label\n",
    "otp_label = tk.Label(otp_frame, text='Generated OTP: ')\n",
    "otp_label.pack(padx=10, pady=10)\n",
    "\n",
    "# View All Data Frame\n",
    "view_all_frame = tk.LabelFrame(root, text='View All Data')\n",
    "view_all_frame.pack(padx=10, pady=10, fill='both', expand=True, anchor='center')\n",
    "\n",
    "tk.Label(view_all_frame, text='Enter OTP:').grid(row=0, column=0, padx=5, pady=5)\n",
    "otp_entry = tk.Entry(view_all_frame, show='*')\n",
    "otp_entry.grid(row=0, column=1, padx=5, pady=5)\n",
    "\n",
    "view_all_button = tk.Button(view_all_frame, text='View All Data', command=view_all)\n",
    "view_all_button.grid(row=1, columnspan=2, padx=5, pady=10)\n",
    "\n",
    "# View Individual Data Frame\n",
    "view_individual_frame = tk.LabelFrame(root, text='View Individual Data')\n",
    "view_individual_frame.pack(padx=10, pady=10, fill='both', expand=True, anchor='center')\n",
    "\n",
    "tk.Label(view_individual_frame, text='Roll Number:').grid(row=0, column=0, padx=5, pady=5)\n",
    "roll_view_entry = tk.Entry(view_individual_frame)\n",
    "roll_view_entry.grid(row=0, column=1, padx=5, pady=5)\n",
    "\n",
    "view_individual_button = tk.Button(view_individual_frame, text='View Individual Data', command=view_individual)\n",
    "view_individual_button.grid(row=1, columnspan=2, padx=5, pady=10)\n",
    "\n",
    "root.mainloop()\n"
   ]
  },
  {
   "cell_type": "code",
   "execution_count": 1,
   "id": "13cf0693-95fb-4913-90e1-decf79318f0e",
   "metadata": {},
   "outputs": [],
   "source": [
    "import tkinter as tk\n",
    "from tkinter import messagebox\n",
    "import random\n",
    "import smtplib\n",
    "from email.mime.text import MIMEText\n",
    "from email.mime.multipart import MIMEMultipart\n",
    "\n",
    "# Sample data structure to store student information\n",
    "students = []\n",
    "\n",
    "# Function to add marks securely\n",
    "def add_marks():\n",
    "    pin = pin_entry.get()\n",
    "    if pin != '1234':  # Replace '1234' with your actual secure PIN\n",
    "        messagebox.showerror('Error', 'Enter correct 4 digit pin!')\n",
    "        return\n",
    "    \n",
    "    name = name_entry.get()\n",
    "    roll_number = int(roll_entry.get())\n",
    "    marks = []\n",
    "    marks.append(float(sub1_entry.get()))\n",
    "    marks.append(float(sub2_entry.get()))\n",
    "    marks.append(float(sub3_entry.get()))\n",
    "    \n",
    "    # Check if student with the same roll number already exists\n",
    "    for student in students:\n",
    "        if student['roll_number'] == roll_number:\n",
    "            student['marks'] = marks\n",
    "            break\n",
    "    else:\n",
    "        # If student doesn't exist, create a new entry\n",
    "        students.append({\n",
    "            'name': name,\n",
    "            'roll_number': roll_number,\n",
    "            'marks': marks\n",
    "        })\n",
    "    \n",
    "    messagebox.showinfo('Success', 'Marks added successfully!')\n",
    "\n",
    "# Function to generate and send OTP via email\n",
    "def generate_otp():\n",
    "    otp = random.randint(1000, 9999)  # Generate a 4-digit OTP\n",
    "    \n",
    "    # Send OTP via email\n",
    "    sender_email = 'sohankumarmohapatra55@gmail.com'   \n",
    "    sender_password = 'qdvu qkzw vjaz jgst'   \n",
    "    receiver_email = 'mohapatrasohankumar@gmail.com'   \n",
    "    \n",
    "    message = MIMEMultipart()\n",
    "    message['From'] = sender_email\n",
    "    message['To'] = receiver_email\n",
    "    message['Subject'] = 'OTP for Student Marks Management System'\n",
    "    \n",
    "    body = f'Your OTP is: {otp}:'\n",
    "    message.attach(MIMEText(body, 'plain'))\n",
    "    \n",
    "    try:\n",
    "        server = smtplib.SMTP_SSL('smtp.gmail.com',465)\n",
    "        server.login(sender_email, sender_password)\n",
    "        server.sendmail(sender_email, receiver_email, message.as_string())\n",
    "        server.quit()\n",
    "        messagebox.showinfo('OTP Sent', 'OTP has been sent to your email.')\n",
    "    except smtplib.SMTPAuthenticationError as e:\n",
    "        messagebox.showerror('Authentication Error', f'Failed to authenticate: {str(e)}')\n",
    "    except smtplib.SMTPException as e:\n",
    "        messagebox.showerror('SMTP Exception', f'Failed to send OTP: {str(e)}')\n",
    "    except Exception as e:\n",
    "        messagebox.showerror('Error', f'An unexpected error occurred: {str(e)}')\n",
    "\n",
    "# Function to view all data (requires OTP verification)\n",
    "def view_all():\n",
    "    entered_otp = otp_entry.get()\n",
    "    generated_otp = otp_label.cget('text').split(': ')[1].strip()\n",
    "    \n",
    "    if entered_otp != str(generated_otp):\n",
    "        messagebox.showerror('Error', 'Incorrect OTP!')\n",
    "        return\n",
    "    \n",
    "    if not students:\n",
    "        messagebox.showinfo('Information', 'No data available!')\n",
    "    else:\n",
    "        for student in students:\n",
    "            print(student)  # Replace with your desired display method\n",
    "\n",
    "# Function to view individual student details\n",
    "def view_individual():\n",
    "    roll_number = int(roll_view_entry.get())\n",
    "    for student in students:\n",
    "        if student['roll_number'] == roll_number:\n",
    "            total_marks = sum(student['marks'])  # Total marks calculation\n",
    "            percentage = (total_marks / (len(student['marks']) * 100)) * 100\n",
    "            if percentage >= 90:\n",
    "                grade = 'A'\n",
    "            elif percentage >= 80:\n",
    "                grade = 'B'\n",
    "            elif percentage >= 70:\n",
    "                grade = 'C'\n",
    "            elif percentage >= 60:\n",
    "                grade = 'D'\n",
    "            else:\n",
    "                grade = 'F'\n",
    "            \n",
    "            messagebox.showinfo('Student Details', \n",
    "                                f'Name: {student[\"name\"]}\\n'\n",
    "                                f'Roll Number: {student[\"roll_number\"]}\\n'\n",
    "                                f'Marks: {student[\"marks\"]}\\n'\n",
    "                                f'Percentage: {percentage:.2f}%\\n'\n",
    "                                f'Grade: {grade}')\n",
    "            break\n",
    "    else:\n",
    "        messagebox.showerror('Error', 'Student not found!')\n",
    "\n",
    "# Tkinter GUI setup\n",
    "root = tk.Tk()\n",
    "root.title('Student Marks Management')\n",
    "\n",
    "# Add Marks Frame\n",
    "add_marks_frame = tk.LabelFrame(root, text='Add Marks')\n",
    "add_marks_frame.pack(padx=10, pady=10, fill='both', expand=True, anchor='center')\n",
    "\n",
    "tk.Label(add_marks_frame, text='Security PIN:').grid(row=0, column=0, padx=5, pady=5)\n",
    "pin_entry = tk.Entry(add_marks_frame, show='*')\n",
    "pin_entry.grid(row=0, column=1, padx=5, pady=5)\n",
    "\n",
    "tk.Label(add_marks_frame, text='Name:').grid(row=1, column=0, padx=5, pady=5)\n",
    "name_entry = tk.Entry(add_marks_frame)\n",
    "name_entry.grid(row=1, column=1, padx=5, pady=5)\n",
    "\n",
    "tk.Label(add_marks_frame, text='Roll Number:').grid(row=2, column=0, padx=5, pady=5)\n",
    "roll_entry = tk.Entry(add_marks_frame)\n",
    "roll_entry.grid(row=2, column=1, padx=5, pady=5)\n",
    "\n",
    "tk.Label(add_marks_frame, text='Subject 1 Marks:').grid(row=3, column=0, padx=5, pady=5)\n",
    "sub1_entry = tk.Entry(add_marks_frame)\n",
    "sub1_entry.grid(row=3, column=1, padx=5, pady=5)\n",
    "\n",
    "tk.Label(add_marks_frame, text='Subject 2 Marks:').grid(row=4, column=0, padx=5, pady=5)\n",
    "sub2_entry = tk.Entry(add_marks_frame)\n",
    "sub2_entry.grid(row=4, column=1, padx=5, pady=5)\n",
    "\n",
    "tk.Label(add_marks_frame, text='Subject 3 Marks:').grid(row=5, column=0, padx=5, pady=5)\n",
    "sub3_entry = tk.Entry(add_marks_frame)\n",
    "sub3_entry.grid(row=5, column=1, padx=5, pady=5)\n",
    "\n",
    "add_button = tk.Button(add_marks_frame, text='Add Marks', command=add_marks)\n",
    "add_button.grid(row=6, columnspan=2, padx=5, pady=10)\n",
    "\n",
    "# Generate OTP Frame\n",
    "otp_frame = tk.LabelFrame(root, text='Generate OTP')\n",
    "otp_frame.pack(padx=10, pady=10, fill='both', expand=True, anchor='center')\n",
    "\n",
    "generate_button = tk.Button(otp_frame, text='Generate OTP', command=generate_otp)\n",
    "generate_button.pack(padx=10, pady=10)\n",
    "\n",
    "# OTP Label\n",
    "otp_label = tk.Label(otp_frame, text='Generated OTP: ')\n",
    "otp_label.pack(padx=10, pady=10)\n",
    "\n",
    "# View All Data Frame\n",
    "view_all_frame = tk.LabelFrame(root, text='View All Data')\n",
    "view_all_frame.pack(padx=10, pady=10, fill='both', expand=True, anchor='center')\n",
    "\n",
    "tk.Label(view_all_frame, text='Enter OTP:').grid(row=0, column=0, padx=5, pady=5)\n",
    "otp_entry = tk.Entry(view_all_frame, show='*')\n",
    "otp_entry.grid(row=0, column=1, padx=5, pady=5)\n",
    "\n",
    "view_all_button = tk.Button(view_all_frame, text='View All Data', command=view_all)\n",
    "view_all_button.grid(row=1, columnspan=2, padx=5, pady=10)\n",
    "\n",
    "# View Individual Data Frame\n",
    "view_individual_frame = tk.LabelFrame(root, text='View Individual Data')\n",
    "view_individual_frame.pack(padx=10, pady=10, fill='both', expand=True, anchor='center')\n",
    "\n",
    "tk.Label(view_individual_frame, text='Roll Number:').grid(row=0, column=0, padx=5, pady=5)\n",
    "roll_view_entry = tk.Entry(view_individual_frame)\n",
    "roll_view_entry.grid(row=0, column=1, padx=5, pady=5)\n",
    "\n",
    "view_individual_button = tk.Button(view_individual_frame, text='View Individual Data', command=view_individual)\n",
    "view_individual_button.grid(row=1, columnspan=2, padx=5, pady=10)\n",
    "\n",
    "root.mainloop()\n",
    "    "
   ]
  },
  {
   "cell_type": "code",
   "execution_count": 1,
   "id": "68718a3f-9217-4fb7-a023-2dbedef7e069",
   "metadata": {},
   "outputs": [],
   "source": [
    "import tkinter as tk\n",
    "from tkinter import messagebox\n",
    "import random\n",
    "import smtplib\n",
    "from email.mime.text import MIMEText\n",
    "from email.mime.multipart import MIMEMultipart\n",
    "\n",
    "# Sample data structure to store student information\n",
    "students = []\n",
    "\n",
    "# Function to add marks securely\n",
    "def add_marks():\n",
    "    pin = pin_entry.get()\n",
    "    if pin != '1234':  # Replace '1234' with your actual secure PIN\n",
    "        messagebox.showerror('Error', 'Enter correct 4 digit pin!')\n",
    "        return\n",
    "    \n",
    "    name = name_entry.get()\n",
    "    roll_number = int(roll_entry.get())\n",
    "    marks = []\n",
    "    marks.append(float(sub1_entry.get()))\n",
    "    marks.append(float(sub2_entry.get()))\n",
    "    marks.append(float(sub3_entry.get()))\n",
    "    \n",
    "    # Check if student with the same roll number already exists\n",
    "    for student in students:\n",
    "        if student['roll_number'] == roll_number:\n",
    "            student['marks'] = marks\n",
    "            break\n",
    "    else:\n",
    "        # If student doesn't exist, create a new entry\n",
    "        students.append({\n",
    "            'name': name,\n",
    "            'roll_number': roll_number,\n",
    "            'marks': marks\n",
    "        })\n",
    "    \n",
    "    # Save data to a text file\n",
    "    with open(r'C:\\Users\\Dell Pc\\AppData\\Local\\Temp\\ipykernel_13040', 'a') as file:\n",
    "        file.write(f\"Name: {name}\\n\")\n",
    "        file.write(f\"Roll Number: {roll_number}\\n\")\n",
    "        file.write(f\"Marks: {marks}\\n\\n\")\n",
    "    \n",
    "    messagebox.showinfo('Success', 'Marks added successfully!')\n",
    "\n",
    "# Function to view all data (does not require OTP verification)\n",
    "def view_all():\n",
    "    if not students:\n",
    "        messagebox.showinfo('Information', 'No data available!')\n",
    "    else:\n",
    "        for student in students:\n",
    "            total_marks = sum(student['marks'])  # Total marks calculation\n",
    "            percentage = (total_marks / (len(student['marks']) * 100)) * 100\n",
    "            if percentage >= 90:\n",
    "                grade = 'A'\n",
    "            elif percentage >= 80:\n",
    "                grade = 'B'\n",
    "            elif percentage >= 70:\n",
    "                grade = 'C'\n",
    "            elif percentage >= 60:\n",
    "                grade = 'D'\n",
    "            else:\n",
    "                grade = 'F'\n",
    "            \n",
    "            messagebox.showinfo('Student Details', \n",
    "                                f'Name: {student[\"name\"]}\\n'\n",
    "                                f'Roll Number: {student[\"roll_number\"]}\\n'\n",
    "                                f'Marks: {student[\"marks\"]}\\n'\n",
    "                                f'Percentage: {percentage:.2f}%\\n'\n",
    "                                f'Grade: {grade}')\n",
    "\n",
    "# Function to view individual student details\n",
    "def view_individual():\n",
    "    roll_number = int(roll_view_entry.get())\n",
    "    for student in students:\n",
    "        if student['roll_number'] == roll_number:\n",
    "            total_marks = sum(student['marks'])  # Total marks calculation\n",
    "            percentage = (total_marks / (len(student['marks']) * 100)) * 100\n",
    "            if percentage >= 90:\n",
    "                grade = 'A'\n",
    "            elif percentage >= 80:\n",
    "                grade = 'B'\n",
    "            elif percentage >= 70:\n",
    "                grade = 'C'\n",
    "            elif percentage >= 60:\n",
    "                grade = 'D'\n",
    "            else:\n",
    "                grade = 'F'\n",
    "            \n",
    "            messagebox.showinfo('Student Details', \n",
    "                                f'Name: {student[\"name\"]}\\n'\n",
    "                                f'Roll Number: {student[\"roll_number\"]}\\n'\n",
    "                                f'Marks: {student[\"marks\"]}\\n'\n",
    "                                f'Percentage: {percentage:.2f}%\\n'\n",
    "                                f'Grade: {grade}')\n",
    "            break\n",
    "    else:\n",
    "        messagebox.showerror('Error', 'Student not found!')\n",
    "\n",
    "# Tkinter GUI setup\n",
    "root = tk.Tk()\n",
    "root.title('Student Marks Management')\n",
    "\n",
    "# Add Marks Frame\n",
    "add_marks_frame = tk.LabelFrame(root, text='Add Marks')\n",
    "add_marks_frame.pack(padx=10, pady=10, fill='both', expand=True, anchor='center')\n",
    "\n",
    "tk.Label(add_marks_frame, text='Security PIN:').grid(row=0, column=0, padx=5, pady=5)\n",
    "pin_entry = tk.Entry(add_marks_frame, show='*')\n",
    "pin_entry.grid(row=0, column=1, padx=5, pady=5)\n",
    "\n",
    "tk.Label(add_marks_frame, text='Name:').grid(row=1, column=0, padx=5, pady=5)\n",
    "name_entry = tk.Entry(add_marks_frame)\n",
    "name_entry.grid(row=1, column=1, padx=5, pady=5)\n",
    "\n",
    "tk.Label(add_marks_frame, text='Roll Number:').grid(row=2, column=0, padx=5, pady=5)\n",
    "roll_entry = tk.Entry(add_marks_frame)\n",
    "roll_entry.grid(row=2, column=1, padx=5, pady=5)\n",
    "\n",
    "tk.Label(add_marks_frame, text='Subject 1 Marks:').grid(row=3, column=0, padx=5, pady=5)\n",
    "sub1_entry = tk.Entry(add_marks_frame)\n",
    "sub1_entry.grid(row=3, column=1, padx=5, pady=5)\n",
    "\n",
    "tk.Label(add_marks_frame, text='Subject 2 Marks:').grid(row=4, column=0, padx=5, pady=5)\n",
    "sub2_entry = tk.Entry(add_marks_frame)\n",
    "sub2_entry.grid(row=4, column=1, padx=5, pady=5)\n",
    "\n",
    "tk.Label(add_marks_frame, text='Subject 3 Marks:').grid(row=5, column=0, padx=5, pady=5)\n",
    "sub3_entry = tk.Entry(add_marks_frame)\n",
    "sub3_entry.grid(row=5, column=1, padx=5, pady=5)\n",
    "\n",
    "add_button = tk.Button(add_marks_frame, text='Add Marks', command=add_marks)\n",
    "add_button.grid(row=6, columnspan=2, padx=5, pady=10)\n",
    "\n",
    "# View All Data Frame\n",
    "view_all_frame = tk.LabelFrame(root, text='View All Data')\n",
    "view_all_frame.pack(padx=10, pady=10, fill='both', expand=True, anchor='center')\n",
    "\n",
    "view_all_button = tk.Button(view_all_frame, text='View All Data', command=view_all)\n",
    "view_all_button.pack(padx=10, pady=10)\n",
    "\n",
    "# View Individual Data Frame\n",
    "view_individual_frame = tk.LabelFrame(root, text='View Individual Data')\n",
    "view_individual_frame.pack(padx=10, pady=10, fill='both', expand=True, anchor='center')\n",
    "\n",
    "tk.Label(view_individual_frame, text='Roll Number:').grid(row=0, column=0, padx=5, pady=5)\n",
    "roll_view_entry = tk.Entry(view_individual_frame)\n",
    "roll_view_entry.grid(row=0, column=1, padx=5, pady=5)\n",
    "\n",
    "view_individual_button = tk.Button(view_individual_frame, text='View Individual Data', command=view_individual)\n",
    "view_individual_button.grid(row=1, columnspan=2, padx=5, pady=10)\n",
    "\n",
    "root.mainloop()\n"
   ]
  },
  {
   "cell_type": "code",
   "execution_count": 3,
   "id": "244dd1a8-4476-4cb0-ab22-335bd021b14c",
   "metadata": {},
   "outputs": [
    {
     "name": "stdout",
     "output_type": "stream",
     "text": [
      "Collecting fpdf\n",
      "  Downloading fpdf-1.7.2.tar.gz (39 kB)\n",
      "  Preparing metadata (setup.py): started\n",
      "  Preparing metadata (setup.py): finished with status 'done'\n",
      "Building wheels for collected packages: fpdf\n",
      "  Building wheel for fpdf (setup.py): started\n",
      "  Building wheel for fpdf (setup.py): finished with status 'done'\n",
      "  Created wheel for fpdf: filename=fpdf-1.7.2-py2.py3-none-any.whl size=40713 sha256=972724390e8372eddf4733b68d624c3d171907772c51e4f32ff7bae2732411d7\n",
      "  Stored in directory: c:\\users\\dell pc\\appdata\\local\\pip\\cache\\wheels\\65\\4f\\66\\bbda9866da446a72e206d6484cd97381cbc7859a7068541c36\n",
      "Successfully built fpdf\n",
      "Installing collected packages: fpdf\n",
      "Successfully installed fpdf-1.7.2\n",
      "Note: you may need to restart the kernel to use updated packages.\n"
     ]
    }
   ],
   "source": [
    "pip install fpdf"
   ]
  },
  {
   "cell_type": "code",
   "execution_count": 2,
   "id": "38b03156-c9f7-4902-bf29-3853729247fa",
   "metadata": {},
   "outputs": [],
   "source": [
    "import tkinter as tk\n",
    "from tkinter import messagebox\n",
    "import random\n",
    "import smtplib\n",
    "from email.mime.text import MIMEText\n",
    "from email.mime.multipart import MIMEMultipart\n",
    "import os\n",
    "from fpdf import FPDF  # Import FPDF for PDF generation\n",
    "\n",
    "# Sample data structure to store student information\n",
    "students = []\n",
    "\n",
    "# Function to generate a random OTP\n",
    "def generate_otp():\n",
    "    otp = ''.join(str(random.randint(0, 9)) for _ in range(6))\n",
    "    return otp\n",
    "\n",
    "# Function to send OTP via email\n",
    "def send_otp(email, otp):\n",
    "    try:\n",
    "        # Replace with your actual SMTP server details\n",
    "        smtp_server = \"smtp.example.com\"\n",
    "        smtp_port = 587\n",
    "\n",
    "        # Create a secure connection\n",
    "        server = smtplib.SMTP(smtp_server, smtp_port)\n",
    "        server.starttls()\n",
    "\n",
    "        # Replace with your email address and password (consider using app passwords)\n",
    "        sender_email = \"sohankumarmohapatra55@gmail.com\"\n",
    "        sender_password = \"esvk kyco fpfh qapf\"\n",
    "\n",
    "        # Create the email message\n",
    "        message = MIMEMultipart()\n",
    "        message[\"From\"] = sender_email\n",
    "        message[\"To\"] = email\n",
    "        message[\"Subject\"] = \"Student Marks Management - OTP\"\n",
    "        message.attach(MIMEText(f\"Your OTP is: {otp}\", \"plain\"))\n",
    "\n",
    "        # Send the email\n",
    "        server.login(sender_email, sender_password)\n",
    "        server.sendmail(sender_email, email, message.as_string())\n",
    "        server.quit()\n",
    "\n",
    "        messagebox.showinfo(\"Success\", \"OTP sent to your email!\")\n",
    "    except Exception as e:\n",
    "        messagebox.showerror(\"Error\", f\"Failed to send OTP: {e}\")\n",
    "\n",
    "# Function to validate OTP\n",
    "def validate_otp(entered_otp, email):\n",
    "    # Simulate retrieving OTP from email (replace with actual logic)\n",
    "    otp_on_file = \"your_otp_retrieval_logic(email)\"  # Replace with actual OTP retrieval\n",
    "\n",
    "    if entered_otp == otp_on_file:\n",
    "        return True\n",
    "    else:\n",
    "        return False\n",
    "\n",
    "# Function to download marks in PDF format\n",
    "def download_marks_pdf(student_roll_number):\n",
    "    for student in students:\n",
    "        if student['roll_number'] == student_roll_number:\n",
    "            name = student['name']\n",
    "            marks = student['marks']\n",
    "            total_marks = sum(marks)\n",
    "            percentage = (total_marks / (len(marks) * 100)) * 100\n",
    "            grade = 'A' if percentage >= 90 else (\n",
    "                'B' if percentage >= 80 else (\n",
    "                    'C' if percentage >= 70 else (\n",
    "                        'D' if percentage >= 60 else 'F'\n",
    "                    )\n",
    "                )\n",
    "            )\n",
    "\n",
    "            # Create PDF using FPDF\n",
    "            pdf = FPDF()\n",
    "            pdf.add_page()\n",
    "            pdf.set_font(\"Arial\", size=14)\n",
    "            pdf.cell(200, 10, txt=\"Student Marks Report\", ln=1, align='C')\n",
    "            pdf.cell(60, 10, txt=\"Name:\", ln=0)\n",
    "            pdf.cell(140, 10, txt=name, ln=1)\n",
    "            pdf.cell(60, 10, txt=\"Roll Number:\", ln=0)\n",
    "            pdf.cell(140, 10, txt=str(student_roll_number), ln=1)\n",
    "\n",
    "            for i, mark in enumerate(marks):\n",
    "                subject = f\"Subject {i+1} Marks:\"\n",
    "                pdf.cell(60, 10, txt=subject, ln=0)\n",
    "                pdf.cell(140, 10, txt=str(mark), ln=1)\n",
    "\n",
    "            pdf.cell(60, 10, txt=\"Total Marks:\", ln=0)\n",
    "            pdf.cell(140, 10, txt=str(total_marks), ln=1)\n",
    "            pdf.cell(60, 10, txt=\"Percentage:\", ln=0)\n",
    "            pdf.cell(140, 10, txt=f\"{percentage:.2f}%\", ln=1)\n",
    "            pdf.cell(60, 10, txt=\"Grade:\", ln=0)\n",
    "            pdf.cell(140, 10, txt=grade, ln=1)\n",
    "\n",
    "            # Save the PDF\n",
    "            pdf.output(f\"{name}_{student_roll_number}_marks.pdf\")\n",
    "\n",
    "            messagebox.showinfo(\"Success\", \"Marks downloaded as PDF!\")\n",
    "        else:\n",
    "            messagebox.showerror(\"Error\", \"Student not found!\")\n",
    "\n",
    "# Function to add marks securely\n",
    "def add_marks():\n",
    "    pin = pin_entry.get()\n",
    "    if pin != '1234':  # Replace '1234' with your actual secure PIN\n",
    "        messagebox.showerror('Error', 'Enter correct 4 digit pin!')\n",
    "        return\n",
    "\n",
    "    name = name_entry.get()\n",
    "    roll_number = int(roll_entry.get())\n",
    "    marks = []\n",
    "    marks.append(float(sub1_entry.get()))\n",
    "    marks.append(float(sub2_entry.get()))\n",
    "    marks.append(float(sub3_entry.get()))\n",
    "\n",
    "    # Check if student with the same roll number already exists\n",
    "    for student in students:\n",
    "        if student['roll_number'] == roll_number:\n",
    "            student['marks'] = marks\n",
    "            break\n",
    "    else:\n",
    "        # If student doesn't exist, create a new entry\n",
    "        students.append({\n",
    "            'name': name,\n",
    "            'roll_number': roll_number,\n",
    "            'marks': marks\n",
    "        })\n",
    "\n",
    "    # Save data to a text file (optional)\n",
    "    # with open(r'C:\\Users\\Dell Pc\\AppData\\Local\\Temp\\ipykernel_13040', 'a') as file:\n",
    "    #     file.write(f\"Name: {name}\\n\")\n",
    "    #     file.write(f\"Roll Number: {roll_number}\\n\")\n",
    "    #     file.write(f\"Marks: {marks}\\n\\n\")\n",
    "\n",
    "    messagebox.showinfo('Success', 'Marks added successfully!')\n",
    "\n",
    "# Function to view all data (does not require OTP verification)\n",
    "def view_all():\n",
    "    if not students:\n",
    "        messagebox.showinfo('Information', 'No data available!')\n",
    "    else:\n",
    "        for student in students:\n",
    "            total_marks = sum(student['marks'])  # Total marks calculation\n",
    "            percentage = (total_marks / (len(student['marks']) * 100)) * 100\n",
    "            if percentage >= 90:\n",
    "                grade = 'A'\n",
    "            elif percentage >= 80:\n",
    "                grade = 'B'\n",
    "            elif percentage >= 70:\n",
    "                grade = 'C'\n",
    "            elif percentage >= 60:\n",
    "                grade = 'D'\n",
    "            else:\n",
    "                grade = 'F'\n",
    "\n",
    "            messagebox.showinfo('Student Details',\n",
    "                                f'Name: {student[\"name\"]}\\n'\n",
    "                                f'Roll Number: {student[\"roll_number\"]}\\n'\n",
    "                                f'Marks: {student[\"marks\"]}\\n'\n",
    "                                f'Percentage: {percentage:.2f}%\\n'\n",
    "                                f'Grade: {grade}')\n",
    "\n",
    "# Function to view individual student details\n",
    "def view_individual():\n",
    "    roll_number = int(roll_view_entry.get())\n",
    "    for student in students:\n",
    "        if student['roll_number'] == roll_number:\n",
    "            total_marks = sum(student['marks'])  # Total marks calculation\n",
    "            percentage = (total_marks / (len(student['marks']) * 100)) * 100\n",
    "            if percentage >= 90:\n",
    "                grade = 'A'\n",
    "            elif percentage >= 80:\n",
    "                grade = 'B'\n",
    "            elif percentage >= 70:\n",
    "                grade = 'C'\n",
    "            elif percentage >= 60:\n",
    "                grade = 'D'\n",
    "            else:\n",
    "                grade = 'F'\n",
    "\n",
    "            messagebox.showinfo('Student Details',\n",
    "                                f'Name: {student[\"name\"]}\\n'\n",
    "                                f'Roll Number: {student[\"roll_number\"]}\\n'\n",
    "                                f'Marks: {student[\"marks\"]}\\n'\n",
    "                                f'Percentage: {percentage:.2f}%\\n'\n",
    "                                f'Grade: {grade}')\n",
    "            break\n",
    "    else:\n",
    "        messagebox.showerror('Error', 'Student not found!')\n",
    "\n",
    "# Function to handle OTP verification and PDF download\n",
    "def download_marks():\n",
    "    roll_number = int(roll_download_entry.get())\n",
    "    email = email_entry.get()\n",
    "\n",
    "    # Generate OTP\n",
    "    otp = generate_otp()\n",
    "    send_otp(email, otp)\n",
    "\n",
    "    # Get OTP from user\n",
    "    entered_otp\n"
   ]
  },
  {
   "cell_type": "code",
   "execution_count": 4,
   "id": "6a890fa0-d2bb-4a2c-85a7-e9603ea0d8e8",
   "metadata": {},
   "outputs": [
    {
     "name": "stdout",
     "output_type": "stream",
     "text": [
      "Requirement already satisfied: reportlab in c:\\users\\dell pc\\anaconda3\\lib\\site-packages (4.2.2)Note: you may need to restart the kernel to use updated packages.\n",
      "\n",
      "Requirement already satisfied: pillow>=9.0.0 in c:\\users\\dell pc\\anaconda3\\lib\\site-packages (from reportlab) (10.2.0)\n",
      "Requirement already satisfied: chardet in c:\\users\\dell pc\\anaconda3\\lib\\site-packages (from reportlab) (4.0.0)\n"
     ]
    }
   ],
   "source": [
    "pip install reportlab"
   ]
  },
  {
   "cell_type": "code",
   "execution_count": 6,
   "id": "f19b582c-f76f-4f23-a26d-ded047d35ed1",
   "metadata": {},
   "outputs": [],
   "source": [
    " import tkinter as tk\n",
    "from tkinter import ttk, messagebox\n",
    "import random\n",
    "from reportlab.lib.pagesizes import letter\n",
    "from reportlab.pdfgen import canvas\n",
    "\n",
    "# Sample data structure to store student information\n",
    "students = []\n",
    "\n",
    "# Function to add marks securely\n",
    "def add_marks():\n",
    "    pin = pin_entry.get()\n",
    "    if pin != '1234':  # Replace '1234' with your actual secure PIN\n",
    "        messagebox.showerror('Error', 'Enter correct 4 digit pin!')\n",
    "        return\n",
    "    \n",
    "    name = name_entry.get()\n",
    "    roll_number = int(roll_entry.get())\n",
    "    marks = []\n",
    "    marks.append(float(sub1_entry.get()))\n",
    "    marks.append(float(sub2_entry.get()))\n",
    "    marks.append(float(sub3_entry.get()))\n",
    "    \n",
    "    # Check if student with the same roll number already exists\n",
    "    for student in students:\n",
    "        if student['roll_number'] == roll_number:\n",
    "            student['marks'] = marks\n",
    "            break\n",
    "    else:\n",
    "        # If student doesn't exist, create a new entry\n",
    "        students.append({\n",
    "            'name': name,\n",
    "            'roll_number': roll_number,\n",
    "            'marks': marks\n",
    "        })\n",
    "    \n",
    "    # Save data to a text file (dummy path used for demonstration)\n",
    "    with open('student_data.txt', 'a') as file:\n",
    "        file.write(f\"Name: {name}\\n\")\n",
    "        file.write(f\"Roll Number: {roll_number}\\n\")\n",
    "        file.write(f\"Marks: {marks}\\n\\n\")\n",
    "    \n",
    "    messagebox.showinfo('Success', 'Marks added successfully!')\n",
    "\n",
    "# Function to view all data (does not require OTP verification)\n",
    "def view_all():\n",
    "    if not students:\n",
    "        messagebox.showinfo('Information', 'No data available!')\n",
    "    else:\n",
    "        for student in students:\n",
    "            total_marks = sum(student['marks'])  # Total marks calculation\n",
    "            percentage = (total_marks / (len(student['marks']) * 100)) * 100\n",
    "            if percentage >= 90:\n",
    "                grade = 'A'\n",
    "            elif percentage >= 80:\n",
    "                grade = 'B'\n",
    "            elif percentage >= 70:\n",
    "                grade = 'C'\n",
    "            elif percentage >= 60:\n",
    "                grade = 'D'\n",
    "            else:\n",
    "                grade = 'F'\n",
    "            \n",
    "            messagebox.showinfo('Student Details', \n",
    "                                f'Name: {student[\"name\"]}\\n'\n",
    "                                f'Roll Number: {student[\"roll_number\"]}\\n'\n",
    "                                f'Marks: {student[\"marks\"]}\\n'\n",
    "                                f'Percentage: {percentage:.2f}%\\n'\n",
    "                                f'Grade: {grade}')\n",
    "\n",
    "# Function to view individual student details\n",
    "def view_individual():\n",
    "    roll_number = int(roll_view_entry.get())\n",
    "    for student in students:\n",
    "        if student['roll_number'] == roll_number:\n",
    "            total_marks = sum(student['marks'])  # Total marks calculation\n",
    "            percentage = (total_marks / (len(student['marks']) * 100)) * 100\n",
    "            if percentage >= 90:\n",
    "                grade = 'A'\n",
    "            elif percentage >= 80:\n",
    "                grade = 'B'\n",
    "            elif percentage >= 70:\n",
    "                grade = 'C'\n",
    "            elif percentage >= 60:\n",
    "                grade = 'D'\n",
    "            else:\n",
    "                grade = 'F'\n",
    "            \n",
    "            messagebox.showinfo('Student Details', \n",
    "                                f'Name: {student[\"name\"]}\\n'\n",
    "                                f'Roll Number: {student[\"roll_number\"]}\\n'\n",
    "                                f'Marks: {student[\"marks\"]}\\n'\n",
    "                                f'Percentage: {percentage:.2f}%\\n'\n",
    "                                f'Grade: {grade}')\n",
    "            break\n",
    "    else:\n",
    "        messagebox.showerror('Error', 'Student not found!')\n",
    "\n",
    "# Function to generate and verify OTP\n",
    "def generate_and_verify_otp():\n",
    "    otp = random.randint(1000, 9999)  # Generate a random 4-digit OTP\n",
    "    \n",
    "    def verify_otp():\n",
    "        entered_otp = otp_entry.get()\n",
    "        if entered_otp == str(otp):\n",
    "            generate_pdf(int(roll_pdf_entry.get()))\n",
    "            otp_window.destroy()\n",
    "        else:\n",
    "            messagebox.showerror('Error', 'Invalid OTP!')\n",
    "    \n",
    "    # OTP verification window\n",
    "    otp_window = tk.Toplevel(root)\n",
    "    otp_window.title('OTP Verification')\n",
    "    \n",
    "    tk.Label(otp_window, text=f'Enter OTP sent to your registered email: {otp}').pack(pady=10)\n",
    "    \n",
    "    otp_entry = tk.Entry(otp_window, show='*')\n",
    "    otp_entry.pack(pady=5)\n",
    "    \n",
    "    verify_button = tk.Button(otp_window, text='Verify OTP', command=verify_otp)\n",
    "    verify_button.pack(pady=10)\n",
    "\n",
    "# Function to generate PDF\n",
    "def generate_pdf(roll_number):\n",
    "    for student in students:\n",
    "        if student['roll_number'] == roll_number:\n",
    "            # Generate PDF with student details\n",
    "            pdf_filename = f'student_marks_{student[\"roll_number\"]}.pdf'\n",
    "            c = canvas.Canvas(pdf_filename, pagesize=letter)\n",
    "            c.drawString(100, 750, f'Name: {student[\"name\"]}')\n",
    "            c.drawString(100, 730, f'Roll Number: {student[\"roll_number\"]}')\n",
    "            c.drawString(100, 710, f'Subject 1 Marks: {student[\"marks\"][0]}')\n",
    "            c.drawString(100, 690, f'Subject 2 Marks: {student[\"marks\"][1]}')\n",
    "            c.drawString(100, 670, f'Subject 3 Marks: {student[\"marks\"][2]}')\n",
    "            c.save()\n",
    "            messagebox.showinfo('Success', f'PDF generated: {pdf_filename}')\n",
    "            break\n",
    "    else:\n",
    "        messagebox.showerror('Error', 'Student not found!')\n",
    "\n",
    "# Tkinter GUI setup\n",
    "root = tk.Tk()\n",
    "root.title('Student Marks Management')\n",
    "\n",
    "# Notebook for tabs\n",
    "notebook = ttk.Notebook(root)\n",
    "notebook.pack(padx=10, pady=10, fill='both', expand=True)\n",
    "\n",
    "# Existing tab for adding/viewing marks\n",
    "add_view_tab = tk.Frame(notebook)\n",
    "notebook.add(add_view_tab, text='Add/View Marks')\n",
    "\n",
    "# Add Marks Frame\n",
    "add_marks_frame = tk.LabelFrame(add_view_tab, text='Add Marks')\n",
    "add_marks_frame.pack(padx=10, pady=10, fill='both', expand=True, anchor='center')\n",
    "\n",
    "tk.Label(add_marks_frame, text='Security PIN:').grid(row=0, column=0, padx=5, pady=5)\n",
    "pin_entry = tk.Entry(add_marks_frame, show='*')\n",
    "pin_entry.grid(row=0, column=1, padx=5, pady=5)\n",
    "\n",
    "tk.Label(add_marks_frame, text='Name:').grid(row=1, column=0, padx=5, pady=5)\n",
    "name_entry = tk.Entry(add_marks_frame)\n",
    "name_entry.grid(row=1, column=1, padx=5, pady=5)\n",
    "\n",
    "tk.Label(add_marks_frame, text='Roll Number:').grid(row=2, column=0, padx=5, pady=5)\n",
    "roll_entry = tk.Entry(add_marks_frame)\n",
    "roll_entry.grid(row=2, column=1, padx=5, pady=5)\n",
    "\n",
    "tk.Label(add_marks_frame, text='Subject 1 Marks:').grid(row=3, column=0, padx=5, pady=5)\n",
    "sub1_entry = tk.Entry(add_marks_frame)\n",
    "sub1_entry.grid(row=3, column=1, padx=5, pady=5)\n",
    "\n",
    "tk.Label(add_marks_frame, text='Subject 2 Marks:').grid(row=4, column=0, padx=5, pady=5)\n",
    "sub2_entry = tk.Entry(add_marks_frame)\n",
    "sub2_entry.grid(row=4, column=1, padx=5, pady=5)\n",
    "\n",
    "tk.Label(add_marks_frame, text='Subject 3 Marks:').grid(row=5, column=0, padx=5, pady=5)\n",
    "sub3_entry = tk.Entry(add_marks_frame)\n",
    "sub3_entry.grid(row=5, column=1, padx=5, pady=5)\n",
    "\n",
    "add_button = tk.Button(add_marks_frame, text='Add Marks', command=add_marks)\n",
    "add_button.grid(row=6, columnspan=2, padx=5, pady=10)\n",
    "\n",
    "# View All Data Frame\n",
    "view_all_frame = tk.LabelFrame(add_view_tab, text='View All Data')\n",
    "view_all_frame.pack(padx=10, pady=10, fill='both', expand=True, anchor='center')\n",
    "\n",
    "view_all_button = tk.Button(view_all_frame, text='View All Data', command=view_all)\n",
    "view_all_button.pack(padx=10, pady=10)\n",
    "\n",
    "# View Individual Data Frame\n",
    "view_individual_frame = tk.LabelFrame(add_view_tab, text='View Individual Data')\n",
    "view_individual_frame.pack(padx=10, pady=10, fill='both', expand=True, anchor='center')\n",
    "\n",
    "tk.Label(view_individual_frame, text='Roll Number:').grid(row=0, column=0, padx=5, pady=5)\n",
    "roll_view_entry = tk.Entry(view_individual_frame)\n",
    "roll_view_entry.grid(row=0, column=1, padx=5, pady=5)\n",
    "\n",
    "view_individual_button = tk.Button(view_individual_frame, text='View Individual Data', command=view_individual)\n",
    "view_individual_button.grid(row=1, columnspan=2, padx=5, pady=10)\n",
    "\n",
    "# New tab for OTP verification and PDF generation\n",
    "otp_pdf_tab = tk.Frame(notebook)\n",
    "notebook.add(otp_pdf_tab, text='OTP & PDF')\n",
    "\n",
    "tk.Label(otp_pdf_tab, text='Enter Roll Number:').pack(pady=10)\n",
    "roll_pdf_entry = tk.Entry(otp_pdf_tab)\n",
    "roll_pdf_entry.pack(pady=5)\n",
    "\n",
    "otp_button = tk.Button(otp_pdf_tab, text='Generate OTP', command=generate_and_verify_otp)\n",
    "otp_button.pack(pady=10)\n",
    "\n",
    "root.mainloop()\n"
   ]
  },
  {
   "cell_type": "code",
   "execution_count": 15,
   "id": "8b105012-786b-4370-9f94-b4fcecc451ee",
   "metadata": {},
   "outputs": [
    {
     "name": "stdout",
     "output_type": "stream",
     "text": [
      "Failed to send email: [WinError 10060] A connection attempt failed because the connected party did not properly respond after a period of time, or established connection failed because connected host has failed to respond\n"
     ]
    }
   ],
   "source": [
    "import tkinter as tk\n",
    "from tkinter import ttk, messagebox\n",
    "import random\n",
    "import smtplib\n",
    "from email.mime.text import MIMEText\n",
    "from email.mime.multipart import MIMEMultipart\n",
    "from reportlab.lib.pagesizes import letter\n",
    "from reportlab.pdfgen import canvas\n",
    "\n",
    "# Sample data structure to store student information\n",
    "students = []\n",
    "\n",
    "# Function to add marks securely\n",
    "def add_marks():\n",
    "    pin = pin_entry.get()\n",
    "    if pin != '1234':  # Replace '1234' with your actual secure PIN\n",
    "        messagebox.showerror('Error', 'Enter correct 4 digit pin!')\n",
    "        return\n",
    "    \n",
    "    name = name_entry.get()\n",
    "    roll_number = int(roll_entry.get())\n",
    "    marks = []\n",
    "    marks.append(float(sub1_entry.get()))\n",
    "    marks.append(float(sub2_entry.get()))\n",
    "    marks.append(float(sub3_entry.get()))\n",
    "    \n",
    "    # Check if student with the same roll number already exists\n",
    "    for student in students:\n",
    "        if student['roll_number'] == roll_number:\n",
    "            student['marks'] = marks\n",
    "            break\n",
    "    else:\n",
    "        # If student doesn't exist, create a new entry\n",
    "        students.append({\n",
    "            'name': name,\n",
    "            'roll_number': roll_number,\n",
    "            'marks': marks\n",
    "        })\n",
    "    \n",
    "    # Save data to a text file (dummy path used for demonstration)\n",
    "    with open('student_data.txt', 'a') as file:\n",
    "        file.write(f\"Name: {name}\\n\")\n",
    "        file.write(f\"Roll Number: {roll_number}\\n\")\n",
    "        file.write(f\"Marks: {marks}\\n\\n\")\n",
    "    \n",
    "    messagebox.showinfo('Success', 'Marks added successfully!')\n",
    "\n",
    "# Function to view all data (does not require OTP verification)\n",
    "def view_all():\n",
    "    if not students:\n",
    "        messagebox.showinfo('Information', 'No data available!')\n",
    "    else:\n",
    "        for student in students:\n",
    "            total_marks = sum(student['marks'])  # Total marks calculation\n",
    "            percentage = (total_marks / (len(student['marks']) * 100)) * 100\n",
    "            if percentage >= 90:\n",
    "                grade = 'A'\n",
    "            elif percentage >= 80:\n",
    "                grade = 'B'\n",
    "            elif percentage >= 70:\n",
    "                grade = 'C'\n",
    "            elif percentage >= 60:\n",
    "                grade = 'D'\n",
    "            else:\n",
    "                grade = 'F'\n",
    "            \n",
    "            messagebox.showinfo('Student Details', \n",
    "                                f'Name: {student[\"name\"]}\\n'\n",
    "                                f'Roll Number: {student[\"roll_number\"]}\\n'\n",
    "                                f'Marks: {student[\"marks\"]}\\n'\n",
    "                                f'Percentage: {percentage:.2f}%\\n'\n",
    "                                f'Grade: {grade}')\n",
    "\n",
    "# Function to view individual student details\n",
    "def view_individual():\n",
    "    roll_number = int(roll_view_entry.get())\n",
    "    for student in students:\n",
    "        if student['roll_number'] == roll_number:\n",
    "            total_marks = sum(student['marks'])  # Total marks calculation\n",
    "            percentage = (total_marks / (len(student['marks']) * 100)) * 100\n",
    "            if percentage >= 90:\n",
    "                grade = 'A'\n",
    "            elif percentage >= 80:\n",
    "                grade = 'B'\n",
    "            elif percentage >= 70:\n",
    "                grade = 'C'\n",
    "            elif percentage >= 60:\n",
    "                grade = 'D'\n",
    "            else:\n",
    "                grade = 'F'\n",
    "            \n",
    "            messagebox.showinfo('Student Details', \n",
    "                                f'Name: {student[\"name\"]}\\n'\n",
    "                                f'Roll Number: {student[\"roll_number\"]}\\n'\n",
    "                                f'Marks: {student[\"marks\"]}\\n'\n",
    "                                f'Percentage: {percentage:.2f}%\\n'\n",
    "                                f'Grade: {grade}')\n",
    "            break\n",
    "    else:\n",
    "        messagebox.showerror('Error', 'Student not found!')\n",
    "\n",
    "# Function to send OTP via email\n",
    "def send_otp_email(email, otp):\n",
    "    # Replace with your email credentials and SMTP server details\n",
    "    smtp_server = 'smtp.yourserver.com'\n",
    "    smtp_port = 587  # or 465 for SSL/TLS\n",
    "    email_sender = 'sohankumarmohapatra55@gmail.com'\n",
    "    email_password = 'esvk kyco fpfh qapf'\n",
    "    \n",
    "    subject = 'OTP Verification for Student Marks Management System'\n",
    "    body = f'Your OTP is: {otp}'\n",
    "    \n",
    "    msg = MIMEMultipart()\n",
    "    msg['From'] = email_sender\n",
    "    msg['To'] = email\n",
    "    msg['Subject'] = subject\n",
    "    msg.attach(MIMEText(body, 'plain'))\n",
    "    \n",
    "    try:\n",
    "        server = smtplib.SMTP(smtp_server, smtp_port)\n",
    "        server.starttls()\n",
    "        server.login(email_sender, email_password)\n",
    "        server.sendmail(email_sender, email, msg.as_string())\n",
    "        server.quit()\n",
    "        return True\n",
    "    except Exception as e:\n",
    "        print(f'Failed to send email: {str(e)}')\n",
    "        return False\n",
    "\n",
    "# Function to generate and verify OTP\n",
    "def generate_and_verify_otp():\n",
    "    roll_number = int(roll_pdf_entry.get())\n",
    "    email = email_entry.get()\n",
    "    otp = random.randint(1000, 9999)  # Generate a random 4-digit OTP\n",
    "    \n",
    "    if send_otp_email(email, otp):\n",
    "        def verify_otp():\n",
    "            entered_otp = otp_entry.get()\n",
    "            if entered_otp == str(otp):\n",
    "                generate_pdf(roll_number)\n",
    "                otp_window.destroy()\n",
    "            else:\n",
    "                messagebox.showerror('Error', 'Invalid OTP!')\n",
    "        \n",
    "        # OTP verification window\n",
    "        otp_window = tk.Toplevel(root)\n",
    "        otp_window.title('OTP Verification')\n",
    "        \n",
    "        tk.Label(otp_window, text=f'Enter OTP sent to your email:').pack(pady=10)\n",
    "        \n",
    "        otp_entry = tk.Entry(otp_window, show='*')\n",
    "        otp_entry.pack(pady=5)\n",
    "        \n",
    "        verify_button = tk.Button(otp_window, text='Verify OTP', command=verify_otp)\n",
    "        verify_button.pack(pady=10)\n",
    "    else:\n",
    "        messagebox.showerror('Error', 'Failed to send OTP. Please check your email settings.')\n",
    "\n",
    "# Function to generate PDF\n",
    "def generate_pdf(roll_number):\n",
    "    for student in students:\n",
    "        if student['roll_number'] == roll_number:\n",
    "            # Generate PDF with student details\n",
    "            pdf_filename = f'student_marks_{student[\"roll_number\"]}.pdf'\n",
    "            c = canvas.Canvas(pdf_filename, pagesize=letter)\n",
    "            c.drawString(100, 750, f'Name: {student[\"name\"]}')\n",
    "            c.drawString(100, 730, f'Roll Number: {student[\"roll_number\"]}')\n",
    "            c.drawString(100, 710, f'Subject 1 Marks: {student[\"marks\"][0]}')\n",
    "            c.drawString(100, 690, f'Subject 2 Marks: {student[\"marks\"][1]}')\n",
    "            c.drawString(100, 670, f'Subject 3 Marks: {student[\"marks\"][2]}')\n",
    "            c.save()\n",
    "            messagebox.showinfo('Success', f'PDF generated: {pdf_filename}')\n",
    "            break\n",
    "    else:\n",
    "        messagebox.showerror('Error', 'Student not found!')\n",
    "\n",
    "# Tkinter GUI setup\n",
    "root = tk.Tk()\n",
    "root.title('Student Marks Management')\n",
    "\n",
    "# Notebook for tabs\n",
    "notebook = ttk.Notebook(root)\n",
    "notebook.pack(padx=10, pady=10, fill='both', expand=True)\n",
    "\n",
    "# Existing tab for adding/viewing marks\n",
    "add_view_tab = tk.Frame(notebook)\n",
    "notebook.add(add_view_tab, text='Add/View Marks')\n",
    "\n",
    "# Add Marks Frame\n",
    "add_marks_frame = tk.LabelFrame(add_view_tab, text='Add Marks')\n",
    "add_marks_frame.pack(padx=10, pady=10, fill='both', expand=True, anchor='center')\n",
    "\n",
    "tk.Label(add_marks_frame, text='Security PIN:').grid(row=0, column=0, padx=5, pady=5)\n",
    "pin_entry = tk.Entry(add_marks_frame, show='*')\n",
    "pin_entry.grid(row=0, column=1, padx=5, pady=5)\n",
    "\n",
    "tk.Label(add_marks_frame, text='Name:').grid(row=1, column=0, padx=5, pady=5)\n",
    "name_entry = tk.Entry(add_marks_frame)\n",
    "name_entry.grid(row=1, column=1, padx=5, pady=5)\n",
    "\n",
    "tk.Label(add_marks_frame, text='Roll Number:').grid(row=2, column=0, padx=5, pady=5)\n",
    "roll_entry = tk.Entry(add_marks_frame)\n",
    "roll_entry.grid(row=2, column=1, padx=5, pady=5)\n",
    "\n",
    "tk.Label(add_marks_frame, text='Subject 1 Marks:').grid(row=3, column=0, padx=5, pady=5)\n",
    "sub1_entry = tk.Entry(add_marks_frame)\n",
    "sub1_entry.grid(row=3, column=1, padx=5, pady=5)\n",
    "\n",
    "tk.Label(add_marks_frame, text='Subject 2 Marks:').grid(row=4, column=0, padx=5, pady=5)\n",
    "sub2_entry = tk.Entry(add_marks_frame)\n",
    "sub2_entry.grid(row=4, column=1, padx=5, pady=5)\n",
    "\n",
    "tk.Label(add_marks_frame, text='Subject 3 Marks:').grid(row=5, column=0, padx=5, pady=5)\n",
    "sub3_entry = tk.Entry(add_marks_frame)\n",
    "sub3_entry.grid(row=5, column=1, padx=5, pady=5)\n",
    "\n",
    "add_button = tk.Button(add_marks_frame, text='Add Marks', command=add_marks)\n",
    "add_button.grid(row=6, columnspan=2, padx=5, pady=10)\n",
    "\n",
    "# View All Data Frame\n",
    "view_all_frame = tk.LabelFrame(add_view_tab, text='View All Data')\n",
    "view_all_frame.pack(padx=10, pady=10, fill='both', expand=True, anchor='center')\n",
    "\n",
    "view_all_button = tk.Button(view_all_frame, text='View All Data', command=view_all)\n",
    "view_all_button.pack(padx=10, pady=10)\n",
    "\n",
    "# View Individual Data Frame\n",
    "view_individual_frame = tk.LabelFrame(add_view_tab, text='View Individual Data')\n",
    "view_individual_frame.pack(padx=10, pady=10, fill='both', expand=True, anchor='center')\n",
    "\n",
    "tk.Label(view_individual_frame, text='Roll Number:').grid(row=0, column=0, padx=5, pady=5)\n",
    "roll_view_entry = tk.Entry(view_individual_frame)\n",
    "roll_view_entry.grid(row=0, column=1, padx=5, pady=5)\n",
    "\n",
    "view_individual_button = tk.Button(view_individual_frame, text='View Individual Data', command=view_individual)\n",
    "view_individual_button.grid(row=1, columnspan=2, padx=5, pady=10)\n",
    "\n",
    "# New tab for OTP verification and PDF generation\n",
    "otp_pdf_tab = tk.Frame(notebook)\n",
    "notebook.add(otp_pdf_tab, text='OTP & PDF')\n",
    "\n",
    "tk.Label(otp_pdf_tab, text='Enter Roll Number:').pack(pady=10)\n",
    "roll_pdf_entry = tk.Entry(otp_pdf_tab)\n",
    "roll_pdf_entry.pack(pady=5)\n",
    "\n",
    "tk.Label(otp_pdf_tab, text='Enter Your Email:').pack(pady=10)\n",
    "email_entry = tk.Entry(otp_pdf_tab)\n",
    "email_entry.pack(pady=5)\n",
    "\n",
    "otp_button = tk.Button(otp_pdf_tab, text='Generate OTP', command=generate_and_verify_otp)\n",
    "otp_button.pack(pady=10)\n",
    "\n",
    "root.mainloop()\n"
   ]
  },
  {
   "cell_type": "code",
   "execution_count": null,
   "id": "56b6a865-6544-45ae-a8aa-b017e3b06fc2",
   "metadata": {},
   "outputs": [],
   "source": [
    "def add_marks():\n",
    "    pin = pin_entry.get()\n",
    "    if pin != '1234':  # Replace '1234' with your actual secure PIN\n",
    "        messagebox.showerror('Error', 'Enter correct 4 digit pin!')\n",
    "        return\n",
    "    \n",
    "    name = name_entry.get()\n",
    "    roll_number = int(roll_entry.get())\n",
    "    marks = []\n",
    "    marks.append(float(sub1_entry.get()))\n",
    "    marks.append(float(sub2_entry.get()))\n",
    "    marks.append(float(sub3_entry.get()))\n",
    "    \n",
    "    # Check if student with the same roll number already exists\n",
    "    for student in students:\n",
    "        if student['roll_number'] == roll_number:\n",
    "            student['marks'] = marks\n",
    "            break\n",
    "    else:\n",
    "        # If student doesn't exist, create a new entry\n",
    "        students.append({\n",
    "            'name': name,\n",
    "            'roll_number': roll_number,\n",
    "            'marks': marks\n",
    "        })\n",
    "    \n",
    "    # Save data to a text file\n",
    "    with open(r'C:\\Users\\Dell Pc\\AppData\\Local\\Temp\\ipykernel_13040', 'a') as file:\n",
    "        file.write(f\"Name: {name}\\n\")\n",
    "        file.write(f\"Roll Number: {roll_number}\\n\")\n",
    "        file.write(f\"Marks: {marks}\\n\\n\")\n",
    "    \n",
    "    messagebox.showinfo('Success', 'Marks added successfully!')"
   ]
  },
  {
   "cell_type": "code",
   "execution_count": 1,
   "id": "f06e423f-2f3d-4813-9002-bb8247a96089",
   "metadata": {},
   "outputs": [],
   "source": [
    "import tkinter as tk\n",
    "from tkinter import ttk, messagebox\n",
    "import random\n",
    "from reportlab.lib.pagesizes import letter\n",
    "from reportlab.pdfgen import canvas\n",
    "\n",
    "# Sample data structure to store student information\n",
    "students = []\n",
    "\n",
    "# Function to add marks securely\n",
    "def add_marks():\n",
    "    pin = pin_entry.get()\n",
    "    if pin != '1234':  # Replace '1234' with your actual secure PIN\n",
    "        messagebox.showerror('Error', 'Enter correct 4 digit pin!')\n",
    "        return\n",
    "    \n",
    "    name = name_entry.get()\n",
    "    roll_number = int(roll_entry.get())\n",
    "    marks = []\n",
    "    marks.append(float(sub1_entry.get()))\n",
    "    marks.append(float(sub2_entry.get()))\n",
    "    marks.append(float(sub3_entry.get()))\n",
    "    \n",
    "    # Check if student with the same roll number already exists\n",
    "    for student in students:\n",
    "        if student['roll_number'] == roll_number:\n",
    "            student['marks'] = marks\n",
    "            break\n",
    "    else:\n",
    "        # If student doesn't exist, create a new entry\n",
    "        students.append({\n",
    "            'name': name,\n",
    "            'roll_number': roll_number,\n",
    "            'marks': marks\n",
    "        })\n",
    "    \n",
    "    # Save data to a text file (dummy path used for demonstration)\n",
    "    with open('student_data.txt', 'a') as file:\n",
    "        file.write(f\"Name: {name}\\n\")\n",
    "        file.write(f\"Roll Number: {roll_number}\\n\")\n",
    "        file.write(f\"Marks: {marks}\\n\\n\")\n",
    "    \n",
    "    messagebox.showinfo('Success', 'Marks added successfully!')\n",
    "\n",
    "# Function to view all data\n",
    "def view_all():\n",
    "    if not students:\n",
    "        messagebox.showinfo('Information', 'No data available!')\n",
    "    else:\n",
    "        for student in students:\n",
    "            total_marks = sum(student['marks'])  # Total marks calculation\n",
    "            percentage = (total_marks / (len(student['marks']) * 100)) * 100\n",
    "            if percentage >= 90:\n",
    "                grade = 'A'\n",
    "            elif percentage >= 80:\n",
    "                grade = 'B'\n",
    "            elif percentage >= 70:\n",
    "                grade = 'C'\n",
    "            elif percentage >= 60:\n",
    "                grade = 'D'\n",
    "            else:\n",
    "                grade = 'F'\n",
    "            \n",
    "            messagebox.showinfo('Student Details', \n",
    "                                f'Name: {student[\"name\"]}\\n'\n",
    "                                f'Roll Number: {student[\"roll_number\"]}\\n'\n",
    "                                f'Marks: {student[\"marks\"]}\\n'\n",
    "                                f'Percentage: {percentage:.2f}%\\n'\n",
    "                                f'Grade: {grade}')\n",
    "\n",
    "# Function to view individual student details\n",
    "def view_individual():\n",
    "    roll_number = int(roll_view_entry.get())\n",
    "    for student in students:\n",
    "        if student['roll_number'] == roll_number:\n",
    "            total_marks = sum(student['marks'])  # Total marks calculation\n",
    "            percentage = (total_marks / (len(student['marks']) * 100)) * 100\n",
    "            if percentage >= 90:\n",
    "                grade = 'A'\n",
    "            elif percentage >= 80:\n",
    "                grade = 'B'\n",
    "            elif percentage >= 70:\n",
    "                grade = 'C'\n",
    "            elif percentage >= 60:\n",
    "                grade = 'D'\n",
    "            else:\n",
    "                grade = 'F'\n",
    "            \n",
    "            messagebox.showinfo('Student Details', \n",
    "                                f'Name: {student[\"name\"]}\\n'\n",
    "                                f'Roll Number: {student[\"roll_number\"]}\\n'\n",
    "                                f'Marks: {student[\"marks\"]}\\n'\n",
    "                                f'Percentage: {percentage:.2f}%\\n'\n",
    "                                f'Grade: {grade}')\n",
    "            break\n",
    "    else:\n",
    "        messagebox.showerror('Error', 'Student not found!')\n",
    "\n",
    "# Function to generate PDF\n",
    "def generate_pdf():\n",
    "    roll_number = int(roll_pdf_entry.get())\n",
    "    for student in students:\n",
    "        if student['roll_number'] == roll_number:\n",
    "            # Generate PDF with student details\n",
    "            pdf_filename = f'student_marks_{student[\"roll_number\"]}.pdf'\n",
    "            c = canvas.Canvas(pdf_filename, pagesize=letter)\n",
    "            c.drawString(100, 750, f'Name: {student[\"name\"]}')\n",
    "            c.drawString(100, 730, f'Roll Number: {student[\"roll_number\"]}')\n",
    "            c.drawString(100, 710, f'Subject 1 Marks: {student[\"marks\"][0]}')\n",
    "            c.drawString(100, 690, f'Subject 2 Marks: {student[\"marks\"][1]}')\n",
    "            c.drawString(100, 670, f'Subject 3 Marks: {student[\"marks\"][2]}')\n",
    "            c.save()\n",
    "            messagebox.showinfo('Success', f'PDF generated: {pdf_filename}')\n",
    "            break\n",
    "    else:\n",
    "        messagebox.showerror('Error', 'Student not found!')\n",
    "\n",
    "# Tkinter GUI setup\n",
    "root = tk.Tk()\n",
    "root.title('Student Marks Management')\n",
    "\n",
    "# Notebook for tabs\n",
    "notebook = ttk.Notebook(root)\n",
    "notebook.pack(padx=10, pady=10, fill='both', expand=True)\n",
    "\n",
    "# Existing tab for adding/viewing marks\n",
    "add_view_tab = tk.Frame(notebook)\n",
    "notebook.add(add_view_tab, text='Add/View Marks')\n",
    "\n",
    "# Add Marks Frame\n",
    "add_marks_frame = tk.LabelFrame(add_view_tab, text='Add Marks')\n",
    "add_marks_frame.pack(padx=10, pady=10, fill='both', expand=True, anchor='center')\n",
    "\n",
    "tk.Label(add_marks_frame, text='Security PIN:').grid(row=0, column=0, padx=5, pady=5)\n",
    "pin_entry = tk.Entry(add_marks_frame, show='*')\n",
    "pin_entry.grid(row=0, column=1, padx=5, pady=5)\n",
    "\n",
    "tk.Label(add_marks_frame, text='Name:').grid(row=1, column=0, padx=5, pady=5)\n",
    "name_entry = tk.Entry(add_marks_frame)\n",
    "name_entry.grid(row=1, column=1, padx=5, pady=5)\n",
    "\n",
    "tk.Label(add_marks_frame, text='Roll Number:').grid(row=2, column=0, padx=5, pady=5)\n",
    "roll_entry = tk.Entry(add_marks_frame)\n",
    "roll_entry.grid(row=2, column=1, padx=5, pady=5)\n",
    "\n",
    "tk.Label(add_marks_frame, text='Subject 1 Marks:').grid(row=3, column=0, padx=5, pady=5)\n",
    "sub1_entry = tk.Entry(add_marks_frame)\n",
    "sub1_entry.grid(row=3, column=1, padx=5, pady=5)\n",
    "\n",
    "tk.Label(add_marks_frame, text='Subject 2 Marks:').grid(row=4, column=0, padx=5, pady=5)\n",
    "sub2_entry = tk.Entry(add_marks_frame)\n",
    "sub2_entry.grid(row=4, column=1, padx=5, pady=5)\n",
    "\n",
    "tk.Label(add_marks_frame, text='Subject 3 Marks:').grid(row=5, column=0, padx=5, pady=5)\n",
    "sub3_entry = tk.Entry(add_marks_frame)\n",
    "sub3_entry.grid(row=5, column=1, padx=5, pady=5)\n",
    "\n",
    "add_button = tk.Button(add_marks_frame, text='Add Marks', command=add_marks)\n",
    "add_button.grid(row=6, columnspan=2, padx=5, pady=10)\n",
    "\n",
    "# View All Data Frame\n",
    "view_all_frame = tk.LabelFrame(add_view_tab, text='View All Data')\n",
    "view_all_frame.pack(padx=10, pady=10, fill='both', expand=True, anchor='center')\n",
    "\n",
    "view_all_button = tk.Button(view_all_frame, text='View All Data', command=view_all)\n",
    "view_all_button.pack(padx=10, pady=10)\n",
    "\n",
    "# View Individual Data Frame\n",
    "view_individual_frame = tk.LabelFrame(add_view_tab, text='View Individual Data')\n",
    "view_individual_frame.pack(padx=10, pady=10, fill='both', expand=True, anchor='center')\n",
    "\n",
    "tk.Label(view_individual_frame, text='Roll Number:').grid(row=0, column=0, padx=5, pady=5)\n",
    "roll_view_entry = tk.Entry(view_individual_frame)\n",
    "roll_view_entry.grid(row=0, column=1, padx=5, pady=5)\n",
    "\n",
    "view_individual_button = tk.Button(view_individual_frame, text='View Individual Data', command=view_individual)\n",
    "view_individual_button.grid(row=1, columnspan=2, padx=5, pady=10)\n",
    "\n",
    "# New tab for PDF generation\n",
    "pdf_tab = tk.Frame(notebook)\n",
    "notebook.add(pdf_tab, text='Generate PDF')\n",
    "\n",
    "tk.Label(pdf_tab, text='Enter Roll Number:').pack(pady=10)\n",
    "roll_pdf_entry = tk.Entry(pdf_tab)\n",
    "roll_pdf_entry.pack(pady=5)\n",
    "\n",
    "pdf_button = tk.Button(pdf_tab, text='Generate PDF', command=generate_pdf)\n",
    "pdf_button.pack(pady=10)\n",
    "\n",
    "root.mainloop()\n"
   ]
  },
  {
   "cell_type": "code",
   "execution_count": null,
   "id": "db1c593b-2cfd-4ea2-b152-d27e363f53f7",
   "metadata": {},
   "outputs": [],
   "source": []
  }
 ],
 "metadata": {
  "kernelspec": {
   "display_name": "Python 3 (ipykernel)",
   "language": "python",
   "name": "python3"
  },
  "language_info": {
   "codemirror_mode": {
    "name": "ipython",
    "version": 3
   },
   "file_extension": ".py",
   "mimetype": "text/x-python",
   "name": "python",
   "nbconvert_exporter": "python",
   "pygments_lexer": "ipython3",
   "version": "3.11.7"
  }
 },
 "nbformat": 4,
 "nbformat_minor": 5
}
