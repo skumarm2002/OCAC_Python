{
 "cells": [
  {
   "cell_type": "code",
   "execution_count": 2,
   "id": "182da8bf-fbcb-40b9-9392-56e99c70e726",
   "metadata": {},
   "outputs": [
    {
     "data": {
      "text/plain": [
       "(1, 2)"
      ]
     },
     "execution_count": 2,
     "metadata": {},
     "output_type": "execute_result"
    }
   ],
   "source": [
    "divmod(6,4) # divmod returns the quotient and remainder .. 6 is divided by 4, hence 1 came as quotient and 2 as remainder\n"
   ]
  },
  {
   "cell_type": "code",
   "execution_count": 30,
   "id": "0be04df7-0536-4c68-a53e-7911cefcf91e",
   "metadata": {},
   "outputs": [],
   "source": [
    "def addition(a,b):\n",
    "    return(a+b)"
   ]
  },
  {
   "cell_type": "code",
   "execution_count": 31,
   "id": "11faab0a-d02f-4566-8360-9aedfa8fa160",
   "metadata": {},
   "outputs": [
    {
     "data": {
      "text/plain": [
       "5"
      ]
     },
     "execution_count": 31,
     "metadata": {},
     "output_type": "execute_result"
    }
   ],
   "source": [
    "addition(2,3)"
   ]
  },
  {
   "cell_type": "code",
   "execution_count": 8,
   "id": "1ecf3d78-399d-4733-aac8-69451e7cf2fe",
   "metadata": {},
   "outputs": [],
   "source": [
    "def even_odd():\n",
    "    \"\"\" Check Even Odd \"\"\"\n",
    "    a=int(input(\"Enter a number:\"))\n",
    "    if a%2 == 0:\n",
    "        print(\"The number is even\")\n",
    "    else:\n",
    "        print(\"The number is odd\")     "
   ]
  },
  {
   "cell_type": "code",
   "execution_count": 45,
   "id": "7f83befe-08a3-427c-a80e-ce57432236f3",
   "metadata": {},
   "outputs": [
    {
     "name": "stdout",
     "output_type": "stream",
     "text": [
      " Check Even Odd \n"
     ]
    }
   ],
   "source": [
    "print(even_odd.__doc__)"
   ]
  },
  {
   "cell_type": "code",
   "execution_count": 10,
   "id": "d616e0bb-8683-4408-98ad-1b2df57eee9f",
   "metadata": {},
   "outputs": [],
   "source": [
    "def even_odd(a):\n",
    "    \"\"\" Check Even Odd \"\"\"\n",
    "  #  a=int(input(\"Enter a number:\"))\n",
    "    if a%2 == 0:\n",
    "        print(\"The number is even\")\n",
    "    else:\n",
    "        print(\"The number is odd\")     "
   ]
  },
  {
   "cell_type": "code",
   "execution_count": 12,
   "id": "ea95de0e-14f2-47ef-af07-4ba99bb0a1d3",
   "metadata": {},
   "outputs": [
    {
     "name": "stdout",
     "output_type": "stream",
     "text": [
      "The number is odd\n"
     ]
    }
   ],
   "source": [
    "even_odd(5)"
   ]
  },
  {
   "cell_type": "code",
   "execution_count": 25,
   "id": "1137723d-99cd-4d7a-a03d-81e1e953ff39",
   "metadata": {},
   "outputs": [],
   "source": [
    "def even_odd2():\n",
    "    a=int(input(\"Enter the 1st number: \"))\n",
    "    b=int(input(\"enter the 2nd number: \"))\n",
    "    s=a+b\n",
    "    if s%2==0:\n",
    "        print(\"the addition of the numbers is even\")\n",
    "    else:\n",
    "        print(\"the addition of the numbers is odd\")\n",
    "    "
   ]
  },
  {
   "cell_type": "code",
   "execution_count": 26,
   "id": "27a0a3b7-7219-409c-b39f-7a5958a9de9e",
   "metadata": {},
   "outputs": [
    {
     "name": "stdin",
     "output_type": "stream",
     "text": [
      "Enter the 1st number:  2\n",
      "enter the 2nd number:  3\n"
     ]
    },
    {
     "name": "stdout",
     "output_type": "stream",
     "text": [
      "the addition of the numbers is odd\n"
     ]
    }
   ],
   "source": [
    "even_odd2()"
   ]
  },
  {
   "cell_type": "code",
   "execution_count": 17,
   "id": "cfb69244-ab61-4d4f-a052-595028b6052d",
   "metadata": {},
   "outputs": [],
   "source": [
    "def even_odd2(a,b):\n",
    "    #a=int(input(\"Enter the 1st number: \"))\n",
    "    #b=int(input(\"enter the 2nd number: \"))\n",
    "    s=a+b\n",
    "    if s%2==0:\n",
    "        print(\"the addition of the numbers is even\")\n",
    "    else:\n",
    "        print(\"the addition of the numbers is odd\")\n",
    "    "
   ]
  },
  {
   "cell_type": "code",
   "execution_count": 18,
   "id": "0eec822a-fe4c-477b-964a-663a6a5ca079",
   "metadata": {},
   "outputs": [
    {
     "name": "stdout",
     "output_type": "stream",
     "text": [
      "the addition of the numbers is even\n"
     ]
    }
   ],
   "source": [
    "even_odd2(4,2)"
   ]
  },
  {
   "cell_type": "code",
   "execution_count": 21,
   "id": "195095a5-3c5b-46ae-8943-61f754d90b21",
   "metadata": {},
   "outputs": [],
   "source": [
    "def fact():\n",
    "    num=int(input(\"Enter the number: \"))\n",
    "    temp=num\n",
    "    fact=1\n",
    "    while(num>0):\n",
    "        fact=fact*num\n",
    "        num-=1\n",
    "    print(\"The Factorial of\",temp,\"is\",fact)"
   ]
  },
  {
   "cell_type": "code",
   "execution_count": 75,
   "id": "81f7cf04-e688-41b7-89c8-7aa64b069bbb",
   "metadata": {},
   "outputs": [],
   "source": [
    "def fact(num):\n",
    "    if num==0:\n",
    "        return 1\n",
    "    else:\n",
    "        return num * fact(num-1)"
   ]
  },
  {
   "cell_type": "code",
   "execution_count": 76,
   "id": "e7bba164-9bfe-4a00-8d2b-827ce5044273",
   "metadata": {},
   "outputs": [
    {
     "data": {
      "text/plain": [
       "120"
      ]
     },
     "execution_count": 76,
     "metadata": {},
     "output_type": "execute_result"
    }
   ],
   "source": [
    "fact(5)"
   ]
  },
  {
   "cell_type": "code",
   "execution_count": 34,
   "id": "83b7481e-a134-4cf3-8f2a-70ac9cfe988d",
   "metadata": {},
   "outputs": [],
   "source": [
    "def exponent():\n",
    "    n=int(input(\"enter a number :\"))\n",
    "    return n**2"
   ]
  },
  {
   "cell_type": "code",
   "execution_count": 35,
   "id": "264ae4b9-4d08-4c38-9466-7ad6b4f09499",
   "metadata": {},
   "outputs": [
    {
     "name": "stdin",
     "output_type": "stream",
     "text": [
      "enter a number : 3\n"
     ]
    },
    {
     "data": {
      "text/plain": [
       "9"
      ]
     },
     "execution_count": 35,
     "metadata": {},
     "output_type": "execute_result"
    }
   ],
   "source": [
    "exponent()"
   ]
  },
  {
   "cell_type": "code",
   "execution_count": 36,
   "id": "28810a59-b9e5-454f-ba19-8fd9939097e3",
   "metadata": {},
   "outputs": [],
   "source": [
    "def exponent():\n",
    "    n=int(input(\"enter a number :\"))\n",
    "    a=n**2\n",
    "    return a"
   ]
  },
  {
   "cell_type": "code",
   "execution_count": 37,
   "id": "c155536b-fe8a-4700-86c0-53163bca15f2",
   "metadata": {},
   "outputs": [
    {
     "name": "stdin",
     "output_type": "stream",
     "text": [
      "enter a number : 63\n"
     ]
    },
    {
     "data": {
      "text/plain": [
       "3969"
      ]
     },
     "execution_count": 37,
     "metadata": {},
     "output_type": "execute_result"
    }
   ],
   "source": [
    "exponent()"
   ]
  },
  {
   "cell_type": "code",
   "execution_count": 40,
   "id": "34a78d0b-2a42-46f2-abba-e04b3d318ffd",
   "metadata": {},
   "outputs": [],
   "source": [
    "def exponent():\n",
    "    n=int(input(\"enter a number :\"))\n",
    "    a=n**2\n",
    "    print(a)"
   ]
  },
  {
   "cell_type": "code",
   "execution_count": 41,
   "id": "68496ed3-4824-42be-83b8-d7aa679a760c",
   "metadata": {},
   "outputs": [
    {
     "name": "stdin",
     "output_type": "stream",
     "text": [
      "enter a number : 3\n"
     ]
    },
    {
     "name": "stdout",
     "output_type": "stream",
     "text": [
      "9\n"
     ]
    }
   ],
   "source": [
    "exponent()\n"
   ]
  },
  {
   "cell_type": "code",
   "execution_count": 47,
   "id": "4979ebaf-2689-4b64-b822-a09ee6d7ddd1",
   "metadata": {},
   "outputs": [],
   "source": [
    "def exponent():\n",
    "    n=int(input(\"enter a number :\"))\n",
    "    a=print(\"The 2nd power of\",n,\"is\",n**2)\n",
    "    return a"
   ]
  },
  {
   "cell_type": "code",
   "execution_count": 48,
   "id": "61b64bf1-bfbb-4fef-996f-e48c3edd5328",
   "metadata": {},
   "outputs": [
    {
     "name": "stdin",
     "output_type": "stream",
     "text": [
      "enter a number : 3\n"
     ]
    },
    {
     "name": "stdout",
     "output_type": "stream",
     "text": [
      "The 2nd power of 3 is 9\n"
     ]
    }
   ],
   "source": [
    "exponent()"
   ]
  },
  {
   "cell_type": "code",
   "execution_count": 3,
   "id": "f88e6a90-e887-4f1f-a41b-2b1363839016",
   "metadata": {},
   "outputs": [],
   "source": [
    "def  absoluteinteger():\n",
    "    n=int(input(\"Enter a number:\"))\n",
    "    a=n//2\n",
    "    return a"
   ]
  },
  {
   "cell_type": "code",
   "execution_count": 4,
   "id": "a02099eb-9a13-4233-b697-05b8ac837c24",
   "metadata": {},
   "outputs": [
    {
     "name": "stdin",
     "output_type": "stream",
     "text": [
      "Enter a number: 4\n"
     ]
    },
    {
     "data": {
      "text/plain": [
       "2"
      ]
     },
     "execution_count": 4,
     "metadata": {},
     "output_type": "execute_result"
    }
   ],
   "source": [
    "absoluteinteger()\n"
   ]
  },
  {
   "cell_type": "code",
   "execution_count": 5,
   "id": "527f7fa0-d6c3-40f2-820b-5fdae24bf0b7",
   "metadata": {},
   "outputs": [],
   "source": [
    "def multiplication(a,b):\n",
    "    return a*b\n",
    "    "
   ]
  },
  {
   "cell_type": "code",
   "execution_count": 6,
   "id": "773effad-b0da-4c23-8653-0b52c43bc91e",
   "metadata": {},
   "outputs": [
    {
     "data": {
      "text/plain": [
       "12"
      ]
     },
     "execution_count": 6,
     "metadata": {},
     "output_type": "execute_result"
    }
   ],
   "source": [
    "multiplication(3,4)"
   ]
  },
  {
   "cell_type": "code",
   "execution_count": 17,
   "id": "08972076-f15f-4c63-8079-4ac06dede1f0",
   "metadata": {},
   "outputs": [],
   "source": [
    "def multiplication(a,b): #here a and b are parameters\n",
    "    a=int(input(\"Enter 1st num:\"))\n",
    "    b=int(input(\"Enter 2nd num: \"))\n",
    "    mul=a*b\n",
    "    print(\"The multiplication of {} and {} is {}\".format(a,b,mul))\n",
    "    "
   ]
  },
  {
   "cell_type": "code",
   "execution_count": 18,
   "id": "1777ae16-04cc-40f8-9e74-b726146337ae",
   "metadata": {},
   "outputs": [
    {
     "name": "stdin",
     "output_type": "stream",
     "text": [
      "Enter 1st num: 25\n",
      "Enter 2nd num:  25\n"
     ]
    },
    {
     "name": "stdout",
     "output_type": "stream",
     "text": [
      "The multiplication of 25 and 25 is 625\n"
     ]
    }
   ],
   "source": [
    "multiplication(5,3) #here 5 and 10 are arguments"
   ]
  },
  {
   "cell_type": "code",
   "execution_count": 19,
   "id": "f58b731b-c2b3-4a7b-a9b1-c455cfe9173f",
   "metadata": {},
   "outputs": [],
   "source": [
    "def multiplication(a=2,b=3): \n",
    "    mul=a*b\n",
    "    print(\"The multiplication of {} and {} is {}\".format(a,b,mul))\n",
    "    "
   ]
  },
  {
   "cell_type": "code",
   "execution_count": 20,
   "id": "2cf6b23f-aee8-43fe-9c5f-08926dbd3d0d",
   "metadata": {},
   "outputs": [
    {
     "name": "stdout",
     "output_type": "stream",
     "text": [
      "The multiplication of 2 and 3 is 6\n"
     ]
    }
   ],
   "source": [
    "multiplication()"
   ]
  },
  {
   "cell_type": "code",
   "execution_count": 31,
   "id": "e2a90ae2-d7de-4d0c-8fac-0fcd932fef3d",
   "metadata": {},
   "outputs": [],
   "source": [
    "def multiplication(c,a=2,b=3): \n",
    "    exp=(a*b)+c\n",
    "    print(\"The result of {},{} and {} is {}\".format(a,b,c,exp))\n",
    "    \n",
    "    "
   ]
  },
  {
   "cell_type": "code",
   "execution_count": 32,
   "id": "6278bac1-e792-4038-b660-6a99744a4998",
   "metadata": {},
   "outputs": [
    {
     "name": "stdout",
     "output_type": "stream",
     "text": [
      "The result of 6,7 and 5 is 47\n"
     ]
    }
   ],
   "source": [
    "multiplication(5,6,7)"
   ]
  },
  {
   "cell_type": "code",
   "execution_count": 69,
   "id": "d055be2e-c7d0-4028-b3d0-f0f0583060c3",
   "metadata": {},
   "outputs": [
    {
     "name": "stdout",
     "output_type": "stream",
     "text": [
      "Hello sohan,Good Afternoon\n"
     ]
    }
   ],
   "source": [
    "def greet(**args):\n",
    "    if args:\n",
    "        print(\"Hello {},{}\".format(args['name'],args['msg']))\n",
    "greet(name='sohan',msg='Good Afternoon')"
   ]
  },
  {
   "cell_type": "code",
   "execution_count": 70,
   "id": "a82524c7-2bc0-49e7-8e84-e969a6631866",
   "metadata": {},
   "outputs": [
    {
     "name": "stdout",
     "output_type": "stream",
     "text": [
      "Hello sohan,Good Afternoon\n"
     ]
    }
   ],
   "source": [
    "greet(name='sohan',msg='Good Afternoon')"
   ]
  },
  {
   "cell_type": "code",
   "execution_count": 66,
   "id": "157e2bc6-c5ea-4138-a6a0-1a09fe742275",
   "metadata": {},
   "outputs": [],
   "source": [
    "def greet(*kwargs): # ** are required for keyword argument\n",
    "    if kwargs:\n",
    "        print(\"Hello {},{}\".format(kwargs['name'],kwargs['msg']))\n"
   ]
  },
  {
   "cell_type": "code",
   "execution_count": 67,
   "id": "6f277569-5aa6-41ed-9ac2-f93b6fdd4a1e",
   "metadata": {},
   "outputs": [
    {
     "ename": "TypeError",
     "evalue": "greet() got an unexpected keyword argument 'name'",
     "output_type": "error",
     "traceback": [
      "\u001b[1;31m---------------------------------------------------------------------------\u001b[0m",
      "\u001b[1;31mTypeError\u001b[0m                                 Traceback (most recent call last)",
      "Cell \u001b[1;32mIn[67], line 1\u001b[0m\n\u001b[1;32m----> 1\u001b[0m greet(name\u001b[38;5;241m=\u001b[39m\u001b[38;5;124m'\u001b[39m\u001b[38;5;124msohan\u001b[39m\u001b[38;5;124m'\u001b[39m,msg\u001b[38;5;241m=\u001b[39m\u001b[38;5;124m'\u001b[39m\u001b[38;5;124mGood Afternoon\u001b[39m\u001b[38;5;124m'\u001b[39m)\n",
      "\u001b[1;31mTypeError\u001b[0m: greet() got an unexpected keyword argument 'name'"
     ]
    }
   ],
   "source": [
    "greet(name='sohan',msg='Good Afternoon')"
   ]
  },
  {
   "cell_type": "code",
   "execution_count": 65,
   "id": "1c3aa353-eace-412d-bd7c-4cee759967d6",
   "metadata": {},
   "outputs": [],
   "source": [
    "def greet(*names): # ** are required for keyword argument\n",
    "    for i in names:\n",
    "        print(\"Hello, {0} \".format(i))\n"
   ]
  },
  {
   "cell_type": "code",
   "execution_count": 64,
   "id": "c0afd9c3-7c71-4243-8c5a-b650e0845d83",
   "metadata": {},
   "outputs": [
    {
     "name": "stdout",
     "output_type": "stream",
     "text": [
      "Hello, sohan \n"
     ]
    }
   ],
   "source": [
    "greet('sohan')"
   ]
  },
  {
   "cell_type": "code",
   "execution_count": 94,
   "id": "792df3dc-af35-44fc-b6e3-b65e57626851",
   "metadata": {},
   "outputs": [
    {
     "name": "stdout",
     "output_type": "stream",
     "text": [
      "select an operator\n",
      "1. Addition\n",
      "2. Substraction\n",
      "3. Multiplication\n",
      "4. Division\n",
      "5. Modulus\n"
     ]
    },
    {
     "name": "stdin",
     "output_type": "stream",
     "text": [
      "Choose 1-5 as per your need: 2\n",
      "Enter the value of a : 4\n",
      "Enter the value of b : 5\n"
     ]
    },
    {
     "name": "stdout",
     "output_type": "stream",
     "text": [
      "The substraction of 4 and 5 is -1 \n"
     ]
    }
   ],
   "source": [
    "def add(a,b):\n",
    "    return a+b\n",
    "def sub(a,b):\n",
    "    return a-b\n",
    "    \n",
    "def mul(a,b):\n",
    "    return a*b\n",
    "    \n",
    "def div(a,b):\n",
    "    return a/b\n",
    "    \n",
    "def mod (a,b):\n",
    "    return a%b\n",
    "    \n",
    "print(\"select an operator\")\n",
    "print(\"1. Addition\")\n",
    "print(\"2. Substraction\")\n",
    "print(\"3. Multiplication\")\n",
    "print(\"4. Division\")\n",
    "print(\"5. Modulus\")\n",
    "c=int(input(\"Choose 1-5 as per your need:\"))\n",
    "a=int(input(\"Enter the value of a :\"))\n",
    "b=int(input(\"Enter the value of b :\"))\n",
    "\n",
    "if c==1:\n",
    "    print(\"The addition of {} and {} is {} \".format(a,b,add(a,b)))\n",
    "elif c==2:\n",
    "    print(\"The substraction of {} and {} is {} \".format(a,b,sub(a,b)))\n",
    "elif c==3:\n",
    "    print(\"The multiplication of {} and {} is {} \".format(a,b,mul(a,b)))\n",
    "elif c==4:\n",
    "    print(\"The Division of {} and {} is {} \".format(a,b,div(a,b)))\n",
    "elif c==5:\n",
    "    print(\"The Modulus of {} and {} is {} \".format(a,b,mod(a,b)))\n",
    "else:\n",
    "    print(\"invalid\")\n",
    "    "
   ]
  },
  {
   "cell_type": "code",
   "execution_count": null,
   "id": "536300bf-6635-4ae0-a070-47cc5485738a",
   "metadata": {},
   "outputs": [],
   "source": [
    "\n"
   ]
  },
  {
   "cell_type": "code",
   "execution_count": null,
   "id": "e0780688-0570-442f-bb98-3bb7d15148d4",
   "metadata": {},
   "outputs": [],
   "source": [
    " "
   ]
  },
  {
   "cell_type": "code",
   "execution_count": null,
   "id": "d70044f7-d30b-4279-a053-993cd2aea1b7",
   "metadata": {},
   "outputs": [],
   "source": [
    "def primenum(a):"
   ]
  },
  {
   "cell_type": "code",
   "execution_count": 85,
   "id": "29797f87-c74a-4491-9ba0-20a6cff56ab8",
   "metadata": {},
   "outputs": [],
   "source": [
    "def data(*names):\n",
    "    li=list(names)\n",
    "    print(li)\n",
    "    for i, name in enumerate(li,1):\n",
    "        print(f\"{i}th student is {name}\")"
   ]
  },
  {
   "cell_type": "code",
   "execution_count": 86,
   "id": "ed64fb82-7fb9-458c-bca7-ccda0bd3067d",
   "metadata": {},
   "outputs": [
    {
     "name": "stdout",
     "output_type": "stream",
     "text": [
      "['sohan', 'sushant', 'sashank', 'ritik', 'Sakina', 'Sarat', 'Dinesh', 'Surveer']\n",
      "1th student is sohan\n",
      "2th student is sushant\n",
      "3th student is sashank\n",
      "4th student is ritik\n",
      "5th student is Sakina\n",
      "6th student is Sarat\n",
      "7th student is Dinesh\n",
      "8th student is Surveer\n"
     ]
    }
   ],
   "source": [
    "data('sohan','sushant','sashank','ritik','Sakina','Sarat','Dinesh','Surveer')"
   ]
  },
  {
   "cell_type": "code",
   "execution_count": 3,
   "id": "a816e3a1-d32e-40db-b715-6dc4ac78da42",
   "metadata": {},
   "outputs": [
    {
     "name": "stdout",
     "output_type": "stream",
     "text": [
      "The maximum number in the list is: 36\n"
     ]
    }
   ],
   "source": [
    "def find_max(numbers):\n",
    "    if not numbers:\n",
    "        return None\n",
    "        \n",
    "    max_value = numbers[0]\n",
    "    \n",
    "    for num in numbers[1:]:\n",
    "        if num > max_value:\n",
    "            max_value = num\n",
    "    \n",
    "    return max_value\n",
    "    \n",
    "numbers_list = [5, 8, 2, 10, 3, 36]\n",
    "max_number = find_max(numbers_list)\n",
    "print(f\"The maximum number in the list is: {max_number}\")\n",
    "\n",
    "      "
   ]
  },
  {
   "cell_type": "code",
   "execution_count": 16,
   "id": "10b4605e-ccf0-4004-86d7-c302af910d8c",
   "metadata": {},
   "outputs": [
    {
     "ename": "NameError",
     "evalue": "name 'a' is not defined",
     "output_type": "error",
     "traceback": [
      "\u001b[1;31m---------------------------------------------------------------------------\u001b[0m",
      "\u001b[1;31mNameError\u001b[0m                                 Traceback (most recent call last)",
      "Cell \u001b[1;32mIn[16], line 4\u001b[0m\n\u001b[0;32m      2\u001b[0m         f\u001b[38;5;241m=\u001b[39m(a\u001b[38;5;241m*\u001b[39m\u001b[38;5;241m9\u001b[39m\u001b[38;5;241m/\u001b[39m\u001b[38;5;241m5\u001b[39m)\u001b[38;5;241m+\u001b[39m\u001b[38;5;241m32\u001b[39m\n\u001b[0;32m      3\u001b[0m         f \u001b[38;5;241m=\u001b[39m temp_conv(a)\n\u001b[1;32m----> 4\u001b[0m \u001b[38;5;28mprint\u001b[39m(\u001b[38;5;124mf\u001b[39m\u001b[38;5;124m\"\u001b[39m\u001b[38;5;132;01m{\u001b[39;00ma\u001b[38;5;132;01m}\u001b[39;00m\u001b[38;5;124m degrees Celsius is equal to \u001b[39m\u001b[38;5;132;01m{\u001b[39;00mf\u001b[38;5;132;01m}\u001b[39;00m\u001b[38;5;124m degrees Fahrenheit\u001b[39m\u001b[38;5;124m\"\u001b[39m)\n",
      "\u001b[1;31mNameError\u001b[0m: name 'a' is not defined"
     ]
    }
   ],
   "source": [
    "def temp_conv(a):\n",
    "        f=(a*9/5)+32\n",
    "        f = temp_conv(a)\n",
    "print(f\"{a} degrees Celsius is equal to {f} degrees Fahrenheit\")\n"
   ]
  },
  {
   "cell_type": "code",
   "execution_count": 13,
   "id": "2f983368-01df-4d76-90a1-4af8540bef37",
   "metadata": {},
   "outputs": [
    {
     "ename": "NameError",
     "evalue": "name 'printf' is not defined",
     "output_type": "error",
     "traceback": [
      "\u001b[1;31m---------------------------------------------------------------------------\u001b[0m",
      "\u001b[1;31mNameError\u001b[0m                                 Traceback (most recent call last)",
      "Cell \u001b[1;32mIn[13], line 1\u001b[0m\n\u001b[1;32m----> 1\u001b[0m temp_conv(\u001b[38;5;241m34\u001b[39m)\n",
      "Cell \u001b[1;32mIn[12], line 3\u001b[0m, in \u001b[0;36mtemp_conv\u001b[1;34m(a)\u001b[0m\n\u001b[0;32m      1\u001b[0m \u001b[38;5;28;01mdef\u001b[39;00m \u001b[38;5;21mtemp_conv\u001b[39m(a):\n\u001b[0;32m      2\u001b[0m         f\u001b[38;5;241m=\u001b[39m(a\u001b[38;5;241m*\u001b[39m\u001b[38;5;241m9\u001b[39m\u001b[38;5;241m/\u001b[39m\u001b[38;5;241m5\u001b[39m)\u001b[38;5;241m+\u001b[39m\u001b[38;5;241m32\u001b[39m\n\u001b[1;32m----> 3\u001b[0m         printf(\u001b[38;5;124m\"\u001b[39m\u001b[38;5;132;01m{}\u001b[39;00m\u001b[38;5;124m degree celsius is \u001b[39m\u001b[38;5;132;01m{}\u001b[39;00m\u001b[38;5;124m fareinheit\u001b[39m\u001b[38;5;124m\"\u001b[39m\u001b[38;5;241m.\u001b[39mformat(a,f))\n",
      "\u001b[1;31mNameError\u001b[0m: name 'printf' is not defined"
     ]
    }
   ],
   "source": [
    "temp_conv(34)"
   ]
  },
  {
   "cell_type": "code",
   "execution_count": null,
   "id": "d2c29983-88b9-4ef2-9523-2f422b212e90",
   "metadata": {},
   "outputs": [],
   "source": []
  }
 ],
 "metadata": {
  "kernelspec": {
   "display_name": "Python 3 (ipykernel)",
   "language": "python",
   "name": "python3"
  },
  "language_info": {
   "codemirror_mode": {
    "name": "ipython",
    "version": 3
   },
   "file_extension": ".py",
   "mimetype": "text/x-python",
   "name": "python",
   "nbconvert_exporter": "python",
   "pygments_lexer": "ipython3",
   "version": "3.11.7"
  }
 },
 "nbformat": 4,
 "nbformat_minor": 5
}
