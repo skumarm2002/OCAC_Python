{
 "cells": [
  {
   "cell_type": "code",
   "execution_count": 1,
   "id": "2e0dec2a-1996-4f4a-a075-1c554857d666",
   "metadata": {},
   "outputs": [
    {
     "name": "stdout",
     "output_type": "stream",
     "text": [
      "set()\n"
     ]
    }
   ],
   "source": [
    "a=set()\n",
    "print(a)\n"
   ]
  },
  {
   "cell_type": "code",
   "execution_count": 3,
   "id": "589cf175-df9a-4927-8757-4aa74e5df966",
   "metadata": {},
   "outputs": [
    {
     "data": {
      "text/plain": [
       "set"
      ]
     },
     "execution_count": 3,
     "metadata": {},
     "output_type": "execute_result"
    }
   ],
   "source": [
    "type(a)"
   ]
  },
  {
   "cell_type": "code",
   "execution_count": 12,
   "id": "47ee9caf-a005-4d71-a5ce-31b61d0ec1fa",
   "metadata": {},
   "outputs": [
    {
     "name": "stdout",
     "output_type": "stream",
     "text": [
      "[34, 2, 8, 12, 22]\n"
     ]
    }
   ],
   "source": [
    "l1=list(set([34,22,12,2,8]))\n",
    "#l3=sorted(l1)\n",
    "#l2=set(l3)\n",
    "print(l1)"
   ]
  },
  {
   "cell_type": "code",
   "execution_count": 27,
   "id": "278c026a-85f8-49c3-bc5d-e48feafa1344",
   "metadata": {},
   "outputs": [
    {
     "name": "stdout",
     "output_type": "stream",
     "text": [
      "{34, 67, 98, 45, 22}\n"
     ]
    }
   ],
   "source": [
    "l=[45,34,22,67,98]\n",
    "sorted(l)\n",
    "s=set(l)\n",
    "print(s)\n",
    " "
   ]
  },
  {
   "cell_type": "code",
   "execution_count": 31,
   "id": "ecd7d1c5-c3a5-4d56-8017-d61a77abd902",
   "metadata": {},
   "outputs": [
    {
     "data": {
      "text/plain": [
       "[34, 67, 98, 45, 22]"
      ]
     },
     "execution_count": 31,
     "metadata": {},
     "output_type": "execute_result"
    }
   ],
   "source": [
    "l=[45,34,22,67,98]\n",
    "s=list(set(l))\n",
    "s"
   ]
  },
  {
   "cell_type": "code",
   "execution_count": 47,
   "id": "0a7882c0-8d88-4684-a4d6-e5234c9fc19d",
   "metadata": {},
   "outputs": [
    {
     "data": {
      "text/plain": [
       "{1, 3, 4, 5, 7}"
      ]
     },
     "execution_count": 47,
     "metadata": {},
     "output_type": "execute_result"
    }
   ],
   "source": [
    "a=(1,4,3,7,5)\n",
    "s=set(a)\n",
    "s"
   ]
  },
  {
   "cell_type": "code",
   "execution_count": 58,
   "id": "0e09472c-6151-409f-acba-481ea4d22cb3",
   "metadata": {},
   "outputs": [
    {
     "name": "stdout",
     "output_type": "stream",
     "text": [
      "(1, 4, 3, 7, 5)\n"
     ]
    }
   ],
   "source": [
    "b=a\n",
    "print(b)\n",
    " "
   ]
  },
  {
   "cell_type": "code",
   "execution_count": 48,
   "id": "467ca563-d4ec-45e9-8a8e-dfb6184ada16",
   "metadata": {},
   "outputs": [
    {
     "data": {
      "text/plain": [
       "(1, 3, 4, 5, 7)"
      ]
     },
     "execution_count": 48,
     "metadata": {},
     "output_type": "execute_result"
    }
   ],
   "source": [
    "tuple(s)"
   ]
  },
  {
   "cell_type": "code",
   "execution_count": 52,
   "id": "7d132d2d-732e-418d-9423-d8c84222083c",
   "metadata": {},
   "outputs": [
    {
     "data": {
      "text/plain": [
       "{1, 2, 4, 5, 6}"
      ]
     },
     "execution_count": 52,
     "metadata": {},
     "output_type": "execute_result"
    }
   ],
   "source": [
    "c={1,2,4,5}\n",
    "c.add(6)\n",
    "c"
   ]
  },
  {
   "cell_type": "code",
   "execution_count": 54,
   "id": "5d287a81-b030-4e3f-838c-a74ba1a956d2",
   "metadata": {},
   "outputs": [
    {
     "data": {
      "text/plain": [
       "{1, 2, 4, 5, 6}"
      ]
     },
     "execution_count": 54,
     "metadata": {},
     "output_type": "execute_result"
    }
   ],
   "source": [
    "d=c.copy()\n",
    "d"
   ]
  },
  {
   "cell_type": "code",
   "execution_count": 55,
   "id": "565e1d5c-aa32-40b5-a734-c93f8405747e",
   "metadata": {},
   "outputs": [
    {
     "name": "stdout",
     "output_type": "stream",
     "text": [
      "{345, 123, 567}\n"
     ]
    }
   ],
   "source": [
    "set_1={123,345,567}\n",
    "set_2=set_1\n",
    "print(set_2)"
   ]
  },
  {
   "cell_type": "code",
   "execution_count": 60,
   "id": "4ea8d01b-e60a-4074-bd36-3b1f1c413023",
   "metadata": {},
   "outputs": [
    {
     "data": {
      "text/plain": [
       "{2, 4, 8, 9, 10, 123, 345, 567}"
      ]
     },
     "execution_count": 60,
     "metadata": {},
     "output_type": "execute_result"
    }
   ],
   "source": [
    "set_1.update([8,9],{2,4,10})\n",
    "set_1"
   ]
  },
  {
   "cell_type": "code",
   "execution_count": 72,
   "id": "8e4cc5f1-e20e-4490-9182-2fb3fbb1895e",
   "metadata": {},
   "outputs": [
    {
     "data": {
      "text/plain": [
       "{1, 2, 3, 5}"
      ]
     },
     "execution_count": 72,
     "metadata": {},
     "output_type": "execute_result"
    }
   ],
   "source": [
    "s={1,2,3,4,5}\n",
    "s.remove(4)\n",
    "s"
   ]
  },
  {
   "cell_type": "code",
   "execution_count": 63,
   "id": "2b5f901d-bdb3-48ed-8831-1405ac084c79",
   "metadata": {},
   "outputs": [
    {
     "data": {
      "text/plain": [
       "{1, 2, 3, 4, 5}"
      ]
     },
     "execution_count": 63,
     "metadata": {},
     "output_type": "execute_result"
    }
   ],
   "source": [
    "s.discard(7)\n",
    "s"
   ]
  },
  {
   "cell_type": "code",
   "execution_count": 66,
   "id": "4ce10916-bed5-4010-bab5-9cd631319891",
   "metadata": {},
   "outputs": [
    {
     "data": {
      "text/plain": [
       "{2, 3, 4, 'rama', 'siva'}"
      ]
     },
     "execution_count": 66,
     "metadata": {},
     "output_type": "execute_result"
    }
   ],
   "source": [
    "s1={'siva','rama',1,4,3,2} \n",
    "s\n"
   ]
  },
  {
   "cell_type": "code",
   "execution_count": 67,
   "id": "034e7f46-95e6-4a31-8714-486b0a165b35",
   "metadata": {},
   "outputs": [
    {
     "data": {
      "text/plain": [
       "{3, 4, 'rama', 'siva'}"
      ]
     },
     "execution_count": 67,
     "metadata": {},
     "output_type": "execute_result"
    }
   ],
   "source": [
    "s1.pop()\n",
    "s1"
   ]
  },
  {
   "cell_type": "code",
   "execution_count": 68,
   "id": "e79f0968-d810-48ff-8be7-1759051fcff5",
   "metadata": {},
   "outputs": [
    {
     "data": {
      "text/plain": [
       "3"
      ]
     },
     "execution_count": 68,
     "metadata": {},
     "output_type": "execute_result"
    }
   ],
   "source": [
    "s1.pop()"
   ]
  },
  {
   "cell_type": "code",
   "execution_count": 69,
   "id": "0d1015a9-707f-4777-b4ce-318738281da8",
   "metadata": {},
   "outputs": [
    {
     "data": {
      "text/plain": [
       "{4, 'rama', 'siva'}"
      ]
     },
     "execution_count": 69,
     "metadata": {},
     "output_type": "execute_result"
    }
   ],
   "source": [
    "s1"
   ]
  },
  {
   "cell_type": "code",
   "execution_count": 74,
   "id": "5e431c1e-0cb8-4679-abda-0b08166d8a56",
   "metadata": {},
   "outputs": [
    {
     "data": {
      "text/plain": [
       "set()"
      ]
     },
     "execution_count": 74,
     "metadata": {},
     "output_type": "execute_result"
    }
   ],
   "source": [
    "s1.clear()\n",
    "s1"
   ]
  },
  {
   "cell_type": "code",
   "execution_count": 75,
   "id": "a39165ae-e998-4a1a-aaa1-c86cb35ad8ab",
   "metadata": {},
   "outputs": [],
   "source": [
    "w={1,7,4,6,3}\n",
    "del w"
   ]
  },
  {
   "cell_type": "code",
   "execution_count": 76,
   "id": "6119d28e-e18b-44e4-9f1a-3e2aa1c58cfd",
   "metadata": {},
   "outputs": [
    {
     "ename": "NameError",
     "evalue": "name 'w' is not defined",
     "output_type": "error",
     "traceback": [
      "\u001b[1;31m---------------------------------------------------------------------------\u001b[0m",
      "\u001b[1;31mNameError\u001b[0m                                 Traceback (most recent call last)",
      "Cell \u001b[1;32mIn[76], line 1\u001b[0m\n\u001b[1;32m----> 1\u001b[0m \u001b[38;5;28mprint\u001b[39m(w)\n",
      "\u001b[1;31mNameError\u001b[0m: name 'w' is not defined"
     ]
    }
   ],
   "source": [
    "print(w)"
   ]
  },
  {
   "cell_type": "code",
   "execution_count": 81,
   "id": "23f200a7-f70c-4a79-af63-1a26317bbde4",
   "metadata": {},
   "outputs": [
    {
     "data": {
      "text/plain": [
       "{1, 3, 4, 6, 9, 20, 45}"
      ]
     },
     "execution_count": 81,
     "metadata": {},
     "output_type": "execute_result"
    }
   ],
   "source": [
    "et={1,4,6,3}\n",
    "set={3,9,20,45}\n",
    "et|set"
   ]
  },
  {
   "cell_type": "code",
   "execution_count": 82,
   "id": "48117416-02f9-4965-866e-384579a94db6",
   "metadata": {},
   "outputs": [
    {
     "name": "stdout",
     "output_type": "stream",
     "text": [
      "{3}\n"
     ]
    }
   ],
   "source": [
    "print(et.intersection(set))"
   ]
  },
  {
   "cell_type": "code",
   "execution_count": 83,
   "id": "a1c3584e-96e2-4336-99af-34a4f4e0b313",
   "metadata": {},
   "outputs": [
    {
     "name": "stdout",
     "output_type": "stream",
     "text": [
      "{}\n"
     ]
    }
   ],
   "source": [
    "dic={}\n",
    "print(dic)"
   ]
  },
  {
   "cell_type": "code",
   "execution_count": 84,
   "id": "2e22b60b-b397-4c60-a695-37837ca1a0f7",
   "metadata": {},
   "outputs": [
    {
     "data": {
      "text/plain": [
       "dict"
      ]
     },
     "execution_count": 84,
     "metadata": {},
     "output_type": "execute_result"
    }
   ],
   "source": [
    "type(dic)"
   ]
  },
  {
   "cell_type": "code",
   "execution_count": 100,
   "id": "7f056ff8-9c39-435a-8601-53dbd7987914",
   "metadata": {},
   "outputs": [
    {
     "data": {
      "text/plain": [
       "dict"
      ]
     },
     "execution_count": 100,
     "metadata": {},
     "output_type": "execute_result"
    }
   ],
   "source": [
    "b={}\n",
    "type(b)"
   ]
  },
  {
   "cell_type": "code",
   "execution_count": 94,
   "id": "ebfc906f-fb22-4b0c-b72e-a47f13964b83",
   "metadata": {},
   "outputs": [
    {
     "name": "stdout",
     "output_type": "stream",
     "text": [
      "{'sk': 21, 'car': 32, 'fragile': 44}\n"
     ]
    }
   ],
   "source": [
    "d={'sk':21,'car':32,'fragile':44}\n",
    "print(d)"
   ]
  },
  {
   "cell_type": "code",
   "execution_count": 96,
   "id": "bd1a608e-f0c8-40da-b3f9-6daaa5d08c5b",
   "metadata": {},
   "outputs": [
    {
     "data": {
      "text/plain": [
       "21"
      ]
     },
     "execution_count": 96,
     "metadata": {},
     "output_type": "execute_result"
    }
   ],
   "source": [
    "d['sk']"
   ]
  },
  {
   "cell_type": "code",
   "execution_count": 97,
   "id": "6ea483ec-8331-485e-9e7e-d6c5cfac8043",
   "metadata": {},
   "outputs": [
    {
     "data": {
      "text/plain": [
       "dict_keys(['sk', 'car', 'fragile'])"
      ]
     },
     "execution_count": 97,
     "metadata": {},
     "output_type": "execute_result"
    }
   ],
   "source": [
    "d.keys()"
   ]
  },
  {
   "cell_type": "code",
   "execution_count": 98,
   "id": "15a830ba-5712-4a72-a099-ba6d3cc6637c",
   "metadata": {},
   "outputs": [
    {
     "data": {
      "text/plain": [
       "dict_values([21, 32, 44])"
      ]
     },
     "execution_count": 98,
     "metadata": {},
     "output_type": "execute_result"
    }
   ],
   "source": [
    "d.values()"
   ]
  },
  {
   "cell_type": "code",
   "execution_count": 99,
   "id": "b10bba6a-80f6-44d6-aa6d-2da0fe797f9a",
   "metadata": {},
   "outputs": [
    {
     "data": {
      "text/plain": [
       "dict_items([('sk', 21), ('car', 32), ('fragile', 44)])"
      ]
     },
     "execution_count": 99,
     "metadata": {},
     "output_type": "execute_result"
    }
   ],
   "source": [
    "d.items()"
   ]
  },
  {
   "cell_type": "code",
   "execution_count": 104,
   "id": "9485c3c0-beea-4972-86e7-6e87403992b2",
   "metadata": {},
   "outputs": [
    {
     "name": "stdout",
     "output_type": "stream",
     "text": [
      "{'sk': 21, 'car': 32, 'fragile': 44, 'Car2': 44}\n"
     ]
    }
   ],
   "source": [
    "d['Car2']=44\n",
    "print(d)"
   ]
  },
  {
   "cell_type": "code",
   "execution_count": null,
   "id": "e5b21ddd-b346-4d75-af31-39190b6dec80",
   "metadata": {},
   "outputs": [],
   "source": []
  },
  {
   "cell_type": "code",
   "execution_count": null,
   "id": "1b34683e-b851-4c5b-991a-38c220cadc25",
   "metadata": {},
   "outputs": [],
   "source": []
  }
 ],
 "metadata": {
  "kernelspec": {
   "display_name": "Python 3 (ipykernel)",
   "language": "python",
   "name": "python3"
  },
  "language_info": {
   "codemirror_mode": {
    "name": "ipython",
    "version": 3
   },
   "file_extension": ".py",
   "mimetype": "text/x-python",
   "name": "python",
   "nbconvert_exporter": "python",
   "pygments_lexer": "ipython3",
   "version": "3.11.7"
  }
 },
 "nbformat": 4,
 "nbformat_minor": 5
}
